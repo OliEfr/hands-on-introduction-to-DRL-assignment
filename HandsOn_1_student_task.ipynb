{
  "cells": [
    {
      "cell_type": "markdown",
      "metadata": {
        "id": "Pjd4IkDIkffN"
      },
      "source": [
        "# Welcome to the Hands-On Introduction for DRL practical course! 🤖\n",
        "Notebooks created by Oliver Hausdörfer, Jonathan Külz, Hannah Markgraf.\n",
        "\n",
        "**How to use this notebook:** You upload this .ipynb-file to google colab for editing and running (go to [colab.research.google.com](colab.research.google.com) -> File -> Open Notebook -> Upload).\n",
        "\n",
        "**How to submit this notebook:** After finishing the HandsOn on google colab, share the uploaded notebook (click share -> Anyone with link) and send the link with the <font color='red'>completed notebook and cell outputs</font> to the course supervisor oliver.hausdoerfer@tum.de. Include your name and student ID in this e-mail.\n",
        "\n",
        "**All tasks that need to be completed by you are marked with:** \"👉 TODO: ...\"\n"
      ]
    },
    {
      "cell_type": "markdown",
      "metadata": {
        "id": "njb_ProuHiOe"
      },
      "source": [
        "# HandsOn 1: Getting started with control policies 🤖\n",
        "\n",
        "In this notebook, you'll learn what control policies are and how to use them to control a robotic agent. We do not start with DRL immediately, but take a step back and look at a simpler policy and Behavior Cloning (BC)."
      ]
    },
    {
      "cell_type": "markdown",
      "metadata": {
        "id": "4i6tjI2tHQ8j"
      },
      "source": [
        "## Objectives of this Hands-On\n",
        "\n",
        "At the end of the notebook, you will:\n",
        "\n",
        "- Understand what control policies are and how to use them.\n",
        "- Be able to apply behavior cloning.\n",
        "- Be able to use standard DRL environments specified by [OpenAI Gymnasium](https://gymnasium.farama.org/index.html).\n",
        "- Be introduced to [Stable Baselines 3](https://stable-baselines3.readthedocs.io/en/master/) (SB3) - a repository that implements various DRL algorithms.\n",
        "\n",
        "\n"
      ]
    },
    {
      "cell_type": "markdown",
      "metadata": {
        "id": "HqzznTzhNfAC"
      },
      "source": [
        "## Prerequisites\n",
        "\n",
        "- To **accelerate the agent's training on google colab, we'll use a GPU**. To do that, go to `Runtime > Change Runtime type > Hardware Accelerator > GPU`. **Important**: You need to reconnect your colab notebook afterward!"
      ]
    },
    {
      "cell_type": "code",
      "execution_count": null,
      "metadata": {
        "id": "Kda2F3Oyt3X6"
      },
      "outputs": [],
      "source": [
        "%load_ext tensorboard\n",
        "\n",
        "!apt-get update && apt-get install ffmpeg freeglut3-dev xvfb  # For visualization. If you are working on your own machine, run these in your terminal as sudo\n",
        "!pip install -q \"stable-baselines3\"\n",
        "!pip install -q \"swig\"\n",
        "!pip install -q \"gymnasium[box2d]\""
      ]
    },
    {
      "cell_type": "markdown",
      "metadata": {
        "id": "bOHM_9KGxukw"
      },
      "source": [
        "Before starting with this notebook, you should be familiar with numpy and pytorch.\n",
        "\n",
        "We import the following two libraries that you will be using often when working with DRL:\n",
        "\n",
        "- **[Stable Baselines 3 (SB3)](https://stable-baselines3.readthedocs.io/en/master/)** is a repository that implements various DRL algorithms.\n",
        "\n",
        "- **[Gymnasium](https://colab.research.google.com/corgiredirector?site=https%3A%2F%2Fgymnasium.farama.org%2Findex.html)** provides the implementation and interfaces for common environments."
      ]
    },
    {
      "cell_type": "code",
      "execution_count": null,
      "metadata": {
        "id": "6c8pxXT8mI9G"
      },
      "outputs": [],
      "source": [
        "import stable_baselines3\n",
        "from stable_baselines3 import PPO\n",
        "from stable_baselines3.common.env_util import make_vec_env\n",
        "from stable_baselines3.common.evaluation import evaluate_policy\n",
        "from stable_baselines3.common.monitor import Monitor\n",
        "from stable_baselines3.common.vec_env import VecVideoRecorder, DummyVecEnv\n",
        "import torch\n",
        "import gymnasium as gym\n",
        "import numpy as np\n",
        "\n",
        "import os\n",
        "import base64\n",
        "from pathlib import Path\n",
        "from IPython import display as ipythondisplay\n",
        "\n",
        "# for offline use\n",
        "try:\n",
        "  import google.colab\n",
        "  IN_COLAB = True\n",
        "except:\n",
        "  IN_COLAB = False\n",
        "\n",
        "print(f\"{torch.__version__=}\")\n",
        "print(f\"{stable_baselines3.__version__=}\")\n",
        "print(f\"{gym.__version__=}\")\n",
        "if not torch.cuda.is_available():\n",
        "    print(\"Did you activate the GPU? It doesn't seem to be available\")"
      ]
    },
    {
      "cell_type": "markdown",
      "metadata": {
        "id": "6VIWK8PhzWX4"
      },
      "source": [
        "We want to see videos of the simulated environments. For this we need to specify the function \"show_video\".\n"
      ]
    },
    {
      "cell_type": "code",
      "execution_count": null,
      "metadata": {
        "id": "NjYHDL0Vza94"
      },
      "outputs": [],
      "source": [
        "if IN_COLAB:\n",
        "    # Set up fake display; otherwise rendering will fail\n",
        "    os.system(\"Xvfb :1 -screen 0 1024x768x24 &\")\n",
        "    os.environ['DISPLAY'] = ':1'\n",
        "\n",
        "def show_videos(video_path=\"\", prefix=\"\"):\n",
        "    \"\"\"\n",
        "    Taken from https://github.com/eleurent/highway-env\n",
        "\n",
        "    :param video_path: (str) Path to the folder containing videos\n",
        "    :param prefix: (str) Filter the video, showing only the only starting with this prefix\n",
        "    \"\"\"\n",
        "    html = []\n",
        "    for mp4 in Path(video_path).glob(\"{}*.mp4\".format(prefix)):\n",
        "        video_b64 = base64.b64encode(mp4.read_bytes())\n",
        "        html.append(\n",
        "            \"\"\"<video alt=\"{}\" autoplay\n",
        "                    loop controls style=\"height: 400px;\">\n",
        "                    <source src=\"data:video/mp4;base64,{}\" type=\"video/mp4\" />\n",
        "                </video>\"\"\".format(\n",
        "                mp4, video_b64.decode(\"ascii\")\n",
        "            )\n",
        "        )\n",
        "    ipythondisplay.display(ipythondisplay.HTML(data=\"<br>\".join(html)))"
      ]
    },
    {
      "cell_type": "markdown",
      "metadata": {
        "id": "-TzNN0bQ_j-3"
      },
      "source": [
        "### Create the environment"
      ]
    },
    {
      "cell_type": "markdown",
      "metadata": {
        "id": "vcSs4bl9prMX"
      },
      "source": [
        "In DRL an agent (the robot) interacts with an environment. Loading a standard environment from Gymnasium is done with one line of code. For this tutorial we will use the **[BipedalWalker](https://www.gymlibrary.dev/environments/box2d/bipedal_walker/)**. Have a look at the documentation and get familiar with the state, action space, reward and termination of that environment!\n",
        "\n",
        "👉 TODO: A good habit when you start to use an environment is to check its documentation: https://www.gymlibrary.dev/environments/box2d/bipedal_walker/"
      ]
    },
    {
      "cell_type": "code",
      "execution_count": null,
      "metadata": {
        "id": "OL6flCMDykwJ"
      },
      "outputs": [],
      "source": [
        "env_id = \"BipedalWalker-v3\"\n",
        "env = gym.make(env_id, render_mode=None)"
      ]
    },
    {
      "cell_type": "markdown",
      "metadata": {
        "id": "nRo52iGv0ElI"
      },
      "source": [
        "Recall the environment-agent-interaction sequence that forms the foundation of DRL frameworks. If you want to fresh up the very basics of DRL, look [here](https://spinningup.openai.com/en/latest/spinningup/rl_intro.html).\n",
        "\n",
        "\n",
        "![image.png](data:image/png;base64,iVBORw0KGgoAAAANSUhEUgAABXcAAAJVCAIAAAAa91GLAAAAA3NCSVQICAjb4U/gAAAgAElEQVR4XuzdaZdlRZn+/1YQFWgZZQYLKIqhmAdFaLTV1l4+60e+HF5S91qu1avV1nZARYp5KCjmGUEmmQdBfx/q0v0//8ysrKzMM58rHpzcuc8eIr4Re5+4r7jjjs998skn/9RUAiVQAiVQAiVQAiVQAiVQAiVQAiVQAjsm8PkdX6EXKIESKIESKIESKIESKIESKIESKIESKIHPCFRlaDsogRIogRIogRIogRIogRIogRIogRIYD4GqDOPh2KuUQAmUQAmUQAmUQAmUQAmUQAmUQAlUZWgbKIESKIESKIESKIESKIESKIESKIESGA+Bqgzj4dirlEAJlEAJlEAJlEAJlEAJlEAJlEAJVGVoGyiBEiiBEiiBEiiBEiiBEiiBEiiBEhgPgaoM4+HYq5RACZRACZRACZRACZRACZRACZRACVRlaBsogRIogRIogRIogRIogRIogRIogRIYD4GqDOPh2KuUQAmUQAmUQAmUQAmUQAmUQAmUQAlUZWgbKIESKIESKIESKIESKIESKIESKIESGA+Bqgzj4dirlEAJlEAJlEAJlEAJlEAJlEAJlEAJVGVoGyiBEiiBEiiBEiiBEiiBEiiBEiiBEhgPgaoM4+HYq5RACZRACZRACZRACZRACZRACZRACVRlaBsogRIogRIogRIogRIogRIogRIogRIYD4GqDOPh2KuUQAmUQAmUQAmUQAmUQAmUQAmUQAlUZWgbKIESKIESKIESKIESKIESKIESKIESGA+Bqgzj4dirlEAJlEAJlEAJlEAJlEAJlEAJlEAJVGVoGyiBEiiBEiiBEiiBEiiBEiiBEiiBEhgPgaoM4+HYq5RACZRACZRACZRACZRACZRACZRACVRlaBsogRIogRIogRIogRIogRIogRIogRIYD4GqDOPh2KuUQAmUQAmUQAmUQAmUQAmUQAmUQAlUZWgbKIESKIESKIESKIESKIESKIESKIESGA+Bqgzj4dirlEAJlEAJlEAJlEAJlEAJlEAJlEAJVGVoGyiBEiiBEiiBEiiBEiiBEiiBEiiBEhgPgaoM4+HYq5RACZRACZRACZRACZRACZRACZRACVRlaBsogRIogRIogRIogRIogRIogRIogRIYD4GqDOPh2KuUQAmUQAmUQAmUQAmUQAmUQAmUQAlUZWgbKIESKIESKIESKIESKIESKIESKIESGA+Bo8dzmV6lBEqgBEqgBGZE4K8H00cfffT+wfSXg+mTTz75+GCykX/l7m9/+9uM8tjblsAcEfjc5z4nN0cdddTRRx/9hS984ZhjjvE5pC996UvHHnvsl7/85c8fTDl4jnLfrJRACZRACcw9gaoMc19FzWAJlEAJlMChCRAOPv30U1LC22+//fLLL7/yyivvHkzvvPOOPdn2+eGHHzqyKsOhQfabFSJAOJDICscff/xxxx33z/9I/rV5yimnnH766aeeemoEiKoMK9QyWtQSKIESGBOBqgxjAtnLlEAJlEAJTJcAyYALA4mB/8IHH3zwpz/96bnnnnvmmWfeeuutPx9MbxxM/iU3vPfeezl+unns3UpgHgkQDjgpfPGLXzzhhBO+8pWvnHzyySf9I/n3rLPO8mQ5gADBqYGnQ5wa5rEkzVMJlEAJlMBcEvic8Z+5zFgzVQIlUAIlUAKbESAucFigJjz//PP0hTfffJPWwGch58RzgbGUjXoxbIay360kgWgNURDymcfENAoChHkT5x1MnBqIEdJKQmqhS6AESqAEtkOgvgzbodZzSqAESqAEZk6ApvD666/TF+49mHgrxO/boKzx2BNPPDHjtNlpknm8xGee7WagBGZOINKbeCUmE3lwqHWZYRQnoPgBUfGuueYa31500UU0CM9Up07MvOKagRIogRJYFAJVGRalpprPEiiBEiiBzwhwwUu0BVEYSAySuRKiPBp65fhtPnlcv+METmtgHZEbOH43jl0bUAmEQFQGAVOjL5hVJPEGSpgGvgy+ouKRG5566qlMSrKHYOdp8qAVYwmUQAmUQAlsTqAzJjbn029LoARKoATmi4DBVcEXnn76afqCuRKvvvoqy2cIWUdl4LYgsYUkG3y/JXPLFaODsfNVl83NjAhkZgT5gHaQZKpRJhzZeO211xJINRqE5+iMM84488wzdx9Mp5122oxy3duWQAmUQAksDIH6MixMVTWjJVACJVACCDCKXnjhBVMkjLJSGRhC//Iv/3LllVfu2bOH/RMTqGpCm0oJbEIgDwifBUmIx9EjCRD8GvgH/fGPf/z9739/4MABHg1f/epXRWfwlY2qDJuA7VclUAIlUAIhUJWhLaEESqAESmAxCJgobq4E44e4IJkBsXfvXvMj6Au7du2ykeALi1GY5rIE5pIAASJrT9AUiHemGr300kvWauHgYMNzx7Uh3kMewLksQTNVAiVQAiUwewJVGWZfB81BCZRACZTAVgiYK2F+RCQGn+ecc87ll1/OEEoghiy5t5Xr9JgSKIFNCJhelPgLZDv63WOPPbZv377HH3/cNIpnn33Wg2bplgQ62eQi/aoESqAESmCVCVRlWOXab9lLoARKYDEIJFgdz20RGZ544gkbRx11FBfuCy+8kMoQx+/OkliMumwu556AhyvBTWgNBAU+C+YoCaEqZAN1z7fSKaecksUv+9zNfX02gyVQAiUwAwJVGWYAvbcsgRIogRLYOgF2jjB1kqHUhx56SNxHM8mtsXfxxRebIk5iqOf21mH2yBI4IgIeLvqCSUlZOJbKYCkKGsTZZ5/tqy8cTEd0wR5cAiVQAiWwCgQ6p24VarllLIESKIEFJsCRweqV1qoUkYHKsH//fuYNlUFQBrHoqAxGVjugusAV3KzPKwGPlWQBF0tL3HLLLaYmcWq45557uBSJEMm1gfY3r3lvvkqgBEqgBGZJoL4Ms6Tfe5dACZRACRyWAH1B8DmzJCR+DRwZeGsbSjVjwuTw6guHBdgDSmAnBIRpOPHEE2l5lon16LkUfYHkZw+ZTzDInVy855ZACZRACSwlgaoMS1mtLVQJlEAJLA8BS1e+/vrrGT7lqn3GGWewdiQjq4LhL085W5ISmEsCWe3SzAiP3rnnnktcIPaZOmEPyc9jOJe5bqZKoARKoARmSaAqwyzp994lUAIlUAKHJcCXgcoguL01JjgvEBqMoJ588snHH3/8Yc/tASVQAjskkHCPfBZ4D5111lmmL5ko8eKLL5pJceaZZ+7w4j29BEqgBEpgKQlUZVjKam2hSqAESmB5CLBq3n33XUKDDYHojJ0ybxrxcXkquCVZEAI0PkKDh1EkSDEghWagAC5I3pvNEiiBEiiBqRJo9Mep4u7NSqAESqAEjpQAceGdd9559dVXbVhaj9s2lcH46pFep8eXQAnshEDcGYRmEAyFyvD2229XZdgJz55bAiVQAktMoCrDEldui1YCJVACy0AgvgyvvfbaX/7yF7MkjKaaDV5fhmWo2pZhoQhQGTgTUfos+0JloP15JBeqBM1sCZRACZTAlAhUZZgS6N6mBEqgBEpgewTWqAyGUnluV2XYHsyeVQLbJiDYKokhKoMFX0ydqC/DtmH2xBIogRJYbgJVGZa7flu6EiiBElh4AkLNifsoLoOBU/qCuI9VGRa+UluABSQQlYE/kTUmBGWoL8MC1mGzXAIlUAJTIlCVYUqge5sSKIESKIHtEWDSfPjhhyaBUxn4bAvK4NPM8O1drWeVQAlsj4ClKwl8khkThD8xIPkZbe9SPasESqAESmC5CXSNieWu35auBEqgBBaeAF8G9oyxUyaN0dSEfqzKsPD12gIsGoFjjjlG1FVLyVIZTJd4//33G5dh0eqw+S2BEiiBKRGoyjAl0L1NCZRACZTA9gjwZaAvfPTRRzaOPvpoQsP2rtOzSqAEdkJAMBTJM+giIjJ4Kj2SO7lgzy2BEiiBElhWAp0xsaw123KVQAmUQAmUQAmUQAmUQAmUQAmUwLQJVGWYNvHerwRKoARKoARKoARKoARKoARKoASWlUBVhmWt2ZarBEqgBEqgBEqgBEqgBEqgBEqgBKZNoCrDtIn3fiVQAiVQAiVQAiVQAiVQAiVQAiWwrASqMixrzbZcJVACJVACJVACJVACJVACJVACJTBtAlUZpk289yuBEiiBEiiBEiiBEiiBEiiBEiiBZSVQlWFZa7blKoESKIESKIESKIESKIESKIESKIFpE6jKMG3ivV8JlEAJlEAJlEAJlEAJlEAJlEAJLCuBqgzLWrMtVwmUQAmUQAmUQAmUQAmUQAmUQAlMm0BVhmkT7/1KoARKoARKoARKoARKoARKoARKYFkJVGVY1pptuUqgBEqgBEqgBEqgBEqgBEqgBEpg2gSqMkybeO9XAiVQAiVQAiVQAiVQAiVQAiVQAstKoCrDstZsy1UCJVACJVACJVACJVACJVACJVAC0yZQlWHaxHu/EiiBEiiBEiiBEiiBEiiBEiiBElhWAlUZlrVmW64SKIESKIESKIESKIESKIESKIESmDaBqgzTJt77lUAJlEAJlEAJlEAJlEAJlEAJlMCyEqjKsKw123KVQAmUQAmUQAmUQAmUQAmUQAmUwLQJVGWYNvHerwRKoARKoARKoARKoARKoARKoASWlUBVhmWt2ZarBEqgBEqgBEqgBEqgBEqgBEqgBKZNoCrDtIn3fiVQAiVQAiVQAiVQAiVQAiVQAiWwrASOXtaCtVwlUAIlUAIlUAIbEvjb3/724YcffvTRR2+++eYfD6a//vWvjjz++OPPP5i++MUvbnhid5ZACZRACZRACZTAYQlUZTgsoh5QAiVQAiVQAktFgMrwwQcfvPHGG0888cS+g+nTTz9VwrPPPvsHP/jBmWeeWZVhqeq7hSmBEiiBEiiB6RKoyjBd3r1bCZRACZRACcyaAJXh3Xfffe21155++un777//tttu+/jjjwkNvBh27dp14403fulLXzr66KOPOuqoWed0svfHQaklbh1kFxtf/vKXh7J//vOdVTpZ/r16CZRACZTAshKoyrCsNdtylUAJlEAJlMDGBFjXb7/99vPPP//qq6+SErgw/PnPf37nnXf+8pe/mEPx3HPPOe2kk07653/+543PX5a9yvvee+8RXJ566qnHHnsMgT179lx00UUnn3zycccdd+yxxy5LQVuOEiiBEiiBEpgqgaoMU8Xdm5VACZRACZTAzAlQGd56660XXnjhT3/60+c+9zlTJIzbc2f45JNPTKN49tlnzZg45phjll5lUF7KAp+Oe++99xe/+MXLL7/8ve99T9kx4cpRlWHmDbUZKIESKIESWFACVRkWtOKa7RIogRIogRLYJgGxHjkvUBNeeeUVg/aXXnqpmQKuZcrA+++//8wzz9AXjOdv8+qLcxq1hdBgugTPDihEweTKYeqEnQmHuThFaU5LoARKoARKYI4IVGWYo8poVkqgBEqgBEpgCgSY0MxpQRloDVccTFEZODIwuakPp5xyihgNU8hJb1ECJVACJVACJbB8BKoyLF+dtkQlUAIlsAAEDCPLJdf0BcjrEmURdhJD4i+YMWGD28LevXvNmLC2ZeZNUBnOOuss0QocqYI2qSOnS1mfYhNIuYIAEKYhSMMFXT/xF/kOrL/Ioc7KjZybwI3+dREHy7yUS63xRPCt+37hC19IQEf/5lxFljgvmC2SzCiOfzl0KL45I/Kcy9pY+liYm9RgvyqBEiiBEiiBIyJQleGIcPXgEiiBEiiBMRBg48Woq/E2BppHcgkmtIgMgj6aI8Dw5sJgZsRpp53GqBahQL0ICWnigOkD/BpiaTO2Y5yvv4+gifv373fK+q+GPUx65r1gB/wjBFaU/OvbzM5gz7/00ku8KtZfxH2l4Szbo3dRiuSTQCD59sQTTzzhhBPEVqCevP7666MHWzZCWMfdu3crrCMV3GE5kqQi2uUjjzziFHAeffRR3z7wwAMmknzlK19xvHT66aefccYZoldsUsx+VQIlUAIlUAIlMBCoytDGUAIlUAIlMG0CGU6POwMLdpPR8mnnbNnvx5AmMYi8QFNg7bPMmfGsaIa6ryQ2vwOoDKZUUBkY26zuTVSGn/70p3fcccfm2Fzk+OOPpy84zESMQWVwfVrGQw89ZCnNffv2rbmIs6QLL7xQO/na1762XmV4/PHHH3zwQTqFJFLjeeed5zBxHO+66y7yx+jVqA/f//735YHcoLHRthSQlPDwww9bWsJ1ssQGPwjb1IcoESQYuZUuu+wyp1Rl2LyW+20JlEAJlEAJDASqMrQxlEAJlEAJTJsAs5Bd5zNCA6OOlSjZMOhd3WFy9UFHYEXzHYiCQGJggTPmyQ2G6622gL9j1A6tQVJBLHNCw2iWHEAdkIz8cxygRzDgpcwp4KTAUYKvgRAPzmLVm3/hW1fOdSga5ik4htghMewdHK8Wn4Pk5DAtxL8cDeJKwK2Af0Fy4uLuSxPhgyBRBBzsFLmiYQ3LQyimGynOE088YcFOxfFJL3AjmUl7k7FhMoX9/s0e11T2ZPtQOsvkaqpXLoESKIESKIHFJVCVYXHrrjkvgRIogUUlkAUOmIjMS4mte84557BFTzrpJNvsOgWrg8MkapcpTmUw1E8poC989atfJTFAzZz2LzOefe7f9957j8RgFgNT3P7UyJAf1Xfffffdfffd5iz46qqrruJxcMEFF7iIY9j/fATMpKACpB6vPph4BOzatYs9z+wnZ5AnXOT+++9nwHNDuOaaa5wuRapw4pNPPsnRgExAy+B5ceWVV1577bWDypDMUA0ckPU4XYe+oAj/+q//qlA5gIqROR2UiNtvv93BN954o5Zmkohsn3rqqeeeey4nC/4UknKZWOFGsLiRRHzRJh1mzySqo9csgRIogRIogaUkUJVhKau1hSqBEiiBuSZAWWDoHjhwgKnJlOXobpkD/ursW8EIjTBXYphQ/cWXgQGPMxM6KoN7EQtiURvAZ647zJwCAQtIDGzyNZlRfSYm/Od//qdTfCveAdNdcrAjWfI/+9nP1GZCLbgaBeEHP/jBJZdcolojYVA6aAdmSfz617+2/7rrrvvhD38oS6n93O7nP/+5WIxkCEdSNAgf7nXxxRePZobKYD+VwZG2+TJ873vf++53vyueZQ5zC82JtkLXEIKBDwVFQx44R0hmQ8i80x1D86KPUBlcwU4yBMHLRZLnCVVHL1sCJVACJVACS0mgKsNSVmsLVQIlUAJzTcB4daa+s/oMMrNI2YfMWgECeLOz7oxIs2ANJjNcDVBLc12euc8cCzzrQRiuZ1TzQTCFgSFt+gDIDGkuBrwYojuoAv+qF2KEbScO5ctFeBZIXBJUE52C3R4PlLghONd+O9WpGxEUHKkGh0kHmb/AT0Gu+BFQGcgHKpojg3MHXwYeBKx9ekdiJZgKQSmQMpEhWRpy7lxCFY+Jyy+/3N2Hi5AtXJyaYJKIEtFHZIYOkukSsuRIn4OUYDvJ/uEic1+9zWAJlEAJlEAJzBeBqgzzVR/NTQmUQAmsAgGGXExKo8esR+YfiYFrA/tQMnuCaz3LkKXKGjTPP+EbVoHMhMoIINSG9M1ioDKw/BnwNB2oB5VBpdhm2zPLM6mBNMB3YFAZ4izgIpEYHKN2ojLQCAab3IZZBmrQAXxV+AiQFSgOQ9HUuCgJPBScdenBROygerjaqGHvIjQIOpS2MRoqwv7Ej8wFyVXmR2QGBI8JeocDhnuRTgglMqONyUP0EZ/2V0SYUGPrZUugBEqgBEqgKkPbQAmUQAmUwBETYH+yOeNlcKhtByS5eo6JWODTnH+WpyHlJIarPaw+piaL8cUXX2SIslFZg4zMDIbn3CPOaE84SCDLRsYdIEP6aLPMCQ2YO+CzgfuD/KkMxB3hDNRIJhqoBQoFCYAMkUp3tSQnMvgTH5E7wAA7ngK+cjzbnq/KqDeKSlfFpmMw/t3OWYnTsaau5Ja44EQyh2YgM2ktBILham4q24QGgoUIC0I/jAoQLsjxge5gcoSzAsEMC9dx1ppgE2vu3n8PSwBJAtDoch5pA9rJ+mkm2ZOvRq88uj/fxpckn74dNtZf87A57AElUAIlUAKzIlCVYVbke98SKIESWEgCEQ7YjWw/BiT7U7KRf7PHZ1LcENiEOd6/tn0yToyom7fP4vVvQLiyS/n0reMdwMtdHEFWLtf94bCFpDbrTKPHkmfbk2wYhww2VjfzW0q4x2SQic7s50XCpI8YwffBJAUzKT5bQ+L449nzjjQNIcERXZYYQS+gDQ3hG1SxswRBUIPkBn4KnAtGTXqVm+u7lCkM/B1EXpSTNZDkU3J3zWB01sYRsaQm8JpRxgT7kDctk3hBfRgVPo7omj04BDSn3/72txpA/h0UAa1Iog6MgvKvNiBFiRi+UkE5XgUlOcae4d9saEh2OrjwS6AESqAEFoJAVYaFqKZmsgRKoATmhUBUBuYlU42tGFPQp+01/zqAcehIaRAjIjfkLN4KxqvtSdlYfREsnBgDNXEZnJ7lCecFwQLmA0P2PFmHgjOoDCansO1Hrb6oDFaLwN8EllSQbUcy86gMDrCRMI0+IwYRFMxKGOrRvagMpAcnsi0Tc8FZAzatQhWrU1liN2aixHoDUnuIJpVgENujHp+FqAwyI2+upqEqi4uvsXi3d4uVPYvKwMfkgQceCAEwU5tkHSLOaI07IO2HGrWmorUoB1MW1FGSqnGY5F9fZadrqr71jWRl4bfgJVACJTDnBKoyzHkFNXslUAIlMCkCo14JgydCLDoWYxKrzMbop3+jHeSANccP/zqF1RED0o1iS9iZmzIvJdss3th+QyHtdBYbgxGbYJAGn03jz7KIk2Kx7NdVWax68yA4DvANURG2b7vttiwDMZQ+81OoA4QDEoPahN0xnBEYe9wc4rUeJ3afph64YNqDMW3HuJSLWDzSflXJLYIAYeEGgtFoFbPwnW6agyvHLUJ1b14JZkOIJcGrwl22bm0OGR4EhYgX8rb57frtYQmoOzVifk3eD45Pw+B9EJ+FoPaJtq+iPqiI7HFWmkFqk8JoD/lJw4uYFecFb4NBh3JkUvYMn9lwC7d2VtKw7dvDlqUHlEAJlEAJjJdA37zj5dmrlUAJlMDCEIgNoHM/xEdgf9qOY4LufhIjn93oMJ9DUkhdef342AA+06cf/o2swCTICORgl8ZIYJFKrA6jykbXR5ExQkgMTFOe9lYfYKDKFSOZ2/zCkJ2/jAJo6oGJJ1wMwjNTUUaNf7l2WHxSTK9wPKsvKgOXB1Ee1xfLpahFFpKgWVgzMuacdpUWZYFS1XfzzTeTJ6gDa07XYLg5OIASIUCD6l5//dE9yYNPFuzWVYbNr9lvd0JAld1yyy1f//rX837QWnK1PPWUhWiXgwZhvxaieWRPvo3c46nPHCvNL/LlIGLa70j/RpXw0pC0gWEja45kp1dHpvbEIcInTaoqw05queeWQAmUwPYIVGXYHreeVQIlUAJzTSAuAz6H4cSMH+bf7E/fnabAVjR+yFxkW9qWhhkQOv2D3JCNCA1Ug/Tg/+7lfOyx6dYzJKIvxNV5kCEyuTrChG2+1uwBZgOJIQJE1IccRmK48MILDZNeeTDRIx555JFhLHquuc9f5lLjak2cBRKDT3nkREAIsMrDoagy6jQS9eUwZ5EY1IgTc7XB5EsTyvizw1L6tA3tgbhgkYgbbrhhDRU3dQxD0WVJDJaftAillSZmAk9mtD2fh0Ixk1wtxE1Vn8fzO9/5TpQprSIvmWTev5kAFb1g0CAGESHaRNqSbzOLKgJELpjP6J4OjtwQhwivl4gLmVjhLZT9Wl1cYwYHmYgOaXJa3ZqNNf8uBPZmsgRKoAQWgkBVhoWopmayBEqgBI6AQEYLWYBrBILRf/Xa04l32CBJuEeGFmPts0Xz7+hn8hHnhRw2fLIbbUdKyGe0g7gzOCUbdiaHdA1Ggp0MBg7zHLDpC8a3La+YT4OlIgJQQJxbI/AIWsDIoSw99hulhlcC4OwxeIH9bOL7cceprw0vS/2hBCWwghkT7MnMcNFmXM3+LALiUpa69Dl6ETXlshoDX3pOCuuvr23Ihrv7Km1yMEHXHzzRPdqerGp+Pm1P9F7LenHVHWExEkPeFQrr3wgKedhH96vupAgTka7+HjD2H3/i6ZD/tOHBncGVR18FtpOy35GaOjec/KtO886J40Okz8gTw+dBveLLDtAGhksta2W1XCVQAiUwNQJVGaaGujcqgRIogSkRSLeejhD3BOZlEleF7LGRbf/qWMfgNPo3RPWzJ53v9L/TRx966jbYFenBp18+bNuwZ/RTmQdLwEb+ZXIwM4yrR2XQv+cJbyXCOC+wThOYkKUqWRahPs/bbjqagdqnC6DNS4WUc/nll990000cDWgHqnLDK3NzuOeeeyz9wEOByqB2aD2OJArQFxhyURmIQd///ve/8Y1vrLlI2oOLG0lef321GRcY7SHOMqzN9YdNYY98xkLWzDoLY3vAVSKG6nTQEXKdQbtcr1Fu+FW0Bl9FrVj/ma/iATEIpnGtGuZzcXyIN5ZP22ldpAqCqWTajvafUCDZ4z2Tf1MKOc87ansoelYJlEAJlMBAoCpDG0MJlEAJLBiBmOisdH3r+CTnk6lmxC9jgPlqcDzODAg9cr1zJ7IKmH/MKiKCbeLC4GmcbZ++YgoOKgMzLCpDdu7Q7CcuEDVOO+00DvN79+51d6PrpvEbGOc5z/pNNlIxMVkXrJLmJrvaAFFALEYygZYDLNcDkRRZXEysQ6kMDDM6QgQFzSYTamhSrpbxZ61IS7Of14OLb1hcjSTNJvfScnKY2lfFQnv6N04TIjtoAGlsQ9PKcLc7ygahRINx1vr4Dhveeos7mZSDu41tfBSWgeqmSrfFi/QwT+h0IKSC8h5TR5EY8unNlrpTfZplJoIN7z3tPO864oUjXccb0pGaVl5oaXuRS3wmDV5a8WdgJ0oAACAASURBVM1RzEyumU5he5cSKIESWGgCVRkWuvqa+RIogVUkoKOcsTv+CIOTQkIqZCgvHW6HMdik0a4zI41tr8+t35xv4zFuTxwHho716Ln61vk3V9u5USFLuvWMRuPqJAbjikbFpbgwbOLJv4r1vbMyM7TY8PwRbKhlI7fxYsBfbR7q2hqDpqKCokYRHUgMHCJY/hqD6+Tcp5566ic/+cl999234XXYbxkr5qIi8sKgMkTpoH3wUhE2UmPQJpMrG0Ou2PlasmO4VFguMSEexqsyrMm20mV2CQVE2TcsVHfOkEA8DnxqJBqwFqLKhkAPkVkjuQ5TLWzYM6rA2uNEIgUxImps9CzSQ7QGbV4TpWppbNLgB+GhyGtzhgR66xIogRJYFAKH7GEsSgGazxIogRJYVgJ6vYrmc3TDti5yYvgbB37pYGL+2Wa28YqnO8SFgTXIpNRFZunFeo/VF3POZ3rPLMbIENPEOKgMBAVT9znkn3HGGbI0zTysyL00BiqDiQ+DynCoBSNGgWgV2gybn7nFomOYxW2BAaYVpc0w9lyWI0NUp/Wu5uw0gTbUrKbIgcLVHONgFzE7RkM1f56I4FuODL7Vtl3cv8lJhqNl/v777//5z3+uzWsqkwgSmVzlvm4qV5KcM0HlNt/6XF/AFWlCc1XMyJ1a4FZylbljXpiZI8ZzQc3mJTnM/fHapKDxa+AKkeat5dOYvI60SXqTBqz9q30vKxekNbj10B5GN7aSpR5TAiVQAitCoCrDilR0i1kCJbBIBIYBOiZinH59ZppxFIT4DGe8Lq7dTEfDbiYgODfmkGG3hFfwOSRWHLvRv+lP6zHrtU/ffKIyyIBbJz+2t2g2LFItzkdeqQPiOFoHVHsQ8IJ5v2b1yg2zqV6YWCwxFpfKYm9TsnguuILTtR87ncj9xB4GueONAw8CQa4Zi51pR4zg7+BqbDYHp6FqdWx4ZxlnZvv98pe/fPDBBzXjoSXEYce3cv7DH/7QsqbsvQ1zu+2dMpDbkTnMIomit3//fpbnY489JqsgSHKVtO0b9cSZEEgby3tGBvLaIR9oinm1DuEb4gGRTGoVTtGYaQpaAoXiiSeesEdT0VylvE61+dGklTpl535eMwHVm5ZACZTA2AlUZRg70l6wBEqgBHZKQO+WgqArbNhN0tPlqpAAfv418hYHYH1c/gjx7GUN2mCuSxERMuCs45vRv2Ej/6YbnW7x9FWG9Mj115U0Mztite4UXM9fR4AdZbqEiQlmHHAokLaiMmhCWgirW7uyoSlqgS6ivWkzvlWDmg2V4cYbbzQhIka4I0fv//jjj//mN79x1rPPPqt+XeSqq65itLuI02VDA+Zuw54XbHLfvn3xSB+kCnqZtkFZ+Pa3v225RDa/g9eVb0c73MtN5S0qg8dKbh9++GFCg8dHPgUN4T0hXAjrURl3dLOePHUCURl8arEqmsA6CLjDBpU2byEbEXMT2SEODvQvG0muoFV4wcbTwacmQbPwjPjMW7Qqw9QruTcsgRKYUwJVGea0YpqtEiiB5SaQSRB6urq2a1ImEjPJdHn1buPr69OYsH8NTXNk0KNlILHSGUI6uJIur85uZhGz3yR94vh7zyFJmR+MyTnM3jJlSSPRPLgwXHjhhQxmkw62ojIwvCUnCskpdoYmx8iPKqQFmuyglTqAZLBnz55rr72WuRWvh1F0qph8QFDQkvlT0BRcjUXHVMuwsINdUyt1gOadcx2QjTRy9iEtQ87XZFvzdkeiSaxHYgQNYr1eJg/RCxxJMvCAKEhUkjwdUUY8PqQE9/WvYW35sR3jM4/qMjWJlSqLJiGp68PqmN7G2rbkZRt516f2owFo7ZqE9uBBQC+XspN/mYO9hGlwGpWWFtEqj49PzSnbrrO+ca5URbSwJVACq0agKsOq1XjLWwIlMBcE9Fz1Wdkz0REyVqbDmn/jzatHG7+D2ORsKkadbWYb2yzOurq2Nnymj2v/0NPtqNpc1PSsM8Gw/7d/+zcGttkKcf5naW8xU9oS7wNmEgOMDe9ELZP3ON8EQoNBXTszrqsRrm9vGqpTuAloxhkoZpgNRrudvnWWw2gE11133Ya5cgtzGRhva751Lu8MBh5LjwVomPqCCy5Yb8g50TH2W7xTTpQIEBxkeNTsdDX6i4uYAHLNNdfIp9vJYaBRW8buRrFhYbtzhgQ0Es3DpwapbWskmZ6mdeWFnCk82obHIa4QvMyExbHtZa45eQk7MSKvVicN29qboq1vnzMsb29dAiVQAhMlUJVhonh78RIogRLYmEBUBjoCay0RHA32CnRn26fxNF1b3Vk9XXZOZrOzc7LNrrMdV3ZX/2yobiQNeza+cfeuGAHGM0cGVpA2wqRP2iIDRpfZEIx8xzuRNXXXXXdZ8eGRRx7RbjPfISpDGuCay0Zl4ImgMSeqSKz3HMaGj/eN7DHsBxeGNRdxZUeu93xhwhEFdu/enWAKDosYt+Z0KkOEBhLDN77xjRymLGsyTGVgEGIlG7mg6+SYI4W2RbY9bN4IqGgNXtIS0gaiiA3bcSjj4GDymqilibmbuWzkBq3FiRoSyUzKS5vjjKcmunBa1LyVuvkpgRIogQkRqMowIbC9bAmUQAl8RiA9VKbLmmGxRB2L6cUGMz+C4qAzmtUcY3Hp9VITWFM+k3RhM0RmxCyu5qVcApsT2ND23vyU4dtY+Iz87GEvGbDVSl3TdgZ4td443fjK8WnziRvCKqOaCTwZvxuago0ckwvG5rc93GKLGXNYzl2vPqy5Qm4XCKPOC+sP2wmorWe7R84zgbSW0SY6mluqlq+0okxVoyOYhkNuiyeaNp8m5AGRvNIJx8I6iJmq2Q/hcrLB68FFJC3/ULebZ1DNWwmUQAkclkBVhsMi6gElUAIlsH0C8VngLs7i0uPMIFjGwWyz0/RHjZ7phup3GgrLOu16olkJwlcZjHWYjeGzfdPtV0nP3AEBJpa2qilSGShlScQyO4c2qc3zLWdlafACTx44cEBIiLg8aOS1qXaAv6fOkoBmH38Hai8nBY1c4p6TjUTSIbrxRKM7eCh4PXhAHOD9P8y+caLE2YHoNghbfShmWa+9dwmUwGQIVGWYDNdetQRKYFUJGNHKlF09S9u6mJIOKJfaeNgO3rb2OCZOCtEXzI8YOqBxJtf7TFpVnC33HBHQFI2+Jq4+FYziwKbirSBSA12M0BDPgnjusLJIDGI6auTOYlaZs8ATh502R0VqVkpgywQoBZLGvOaMzLLxLGjtXBuIyEle+17+ibbjR8EBcfyxXyJG0CDobvF9cGUPlCfIxmE9dLac5R5YAiVQAjMjUJVhZuh74xIogSUjkMkRw1iW7qZOpy6mDR1KvUxJkVlZpAQWl22DY6w1KW602Y4Xg75sJYYlayGLXhwNksQgFAKzKu1ck7777rupDHG0iYLg24hrZlJwxrEOpcgOFqoQndHpVRkWvRk0/2sIxBOBWEAsphRo89q5MKKEtsHfx7PgYfFoSAnEEzXBmz/rs0RWJsPZI/UxaTMrgRJYdAJVGRa9Bpv/EiiBuSAwRAhjfXFSMCNXHH5juS+88IJtrrOJp8BbwVTeITAYR4bMzo3rrJ7lsGG7Hc25qNpm4h8EWFNsIaYUg4r5xC1cI7/zzjupab4aba4Z3dXULXJ54403EiYkkyYyWluiJbBMBCIHeygIBzRiqkE0ZU+BjYQv8bAQFxLiV3xfKa4NBAWLnkhUCYn67Dni4LBMfFqWEiiB1SRQlWE1672lLoES2CkBfuBZ2CxhHXnAZiPLretT2jCiq7+o45hVIczmtSReIpCTG+wkPeibDmHzdpqnnl8CEyagrUrsKKEWNG/NWHsmom14Wy3/iiuu4MhAVkvoxw0P684SWAICgy7sARktDh2BIwP1wauepmzDa98T5AdCcpapRg4wycKPCPXBt4S8BExNyJ5EQsnEiiUA1SKUQAmsCIGqDCtS0S1mCZTAmAkwsUyFkKxklpTgjpwadBx1NBPNMXPR9RqzlLoeZ7qP+Uw4sTjcjjl/vVwJTIyAxnz++edTzfbu3cupgXW04a0YVKQ0BpXjNfUNj+nOElhuAhwciAWc1PwoeGQ4LPBiIEl7cEypiNYQzyCeDsTrqBWeGs9Oli6m5WWxIULDcrNq6UqgBJaJQFWGZarNlqUESmAiBLJqetxf88kPVsAF4oKhJ3MiMjMis22NVulKxrIyfrtr1y7T0bmOZ6mIhvWaSA31otMloJFr0tJ0b9u7lcDiEcgkOO9/EvOQe78p0Rr8iDz55JNWu+T+JjCw2Xb8GnjJkRg8X+eeey4ZInvEEnY6DWJ0et3i4WiOS6AEVoZAVYaVqeoWtARKYFsEdAczyVZvL84LZqFL/jUSZUjKt7p9eoRnnXUWDSKxu3i9khgMQCWyly6mEa36LGyrBnpSCZRACSwbAa4N1Do/E35iOLvxcfCzQmvgGUSAUNpI0sRrWjbfN8dIflAkQrYfF59Eh0SFWDY6LU8JlMDiE6jKsPh12BKUQAlMkkBUBo6suoDPHExPH0wkhkS8S5wFn/FupTLwD9d9TMAFXckh8sJoeLxJZrnXLoESKIESmF8Cfjv8NGQahYlFFGo/MRK3haxMkQWPeTqYRkFooGUnRoN4KJzjuMj5YfJbQ7yO0DC/RW3OSqAEVpVAVYZVrfmWuwRK4BAE+CPwTZWGgI7p9gm7oM+n82e4KX0+UkKCO+ojir9gfUpag0En3cFOoD0E3e4ugRIogRL4bO6DlKgNAw6/O1l7IgEgOcHFo8FvkB8dMoSZeuboiQqUKXsJ9BNd209PVsesnN3mVQIlMA8EqjLMQy00DyVQAnNEIGuPmQoh6He8VSMuZGaEASjrRPBuNQDFYVXSHbStt5fPjFDNUXmalRIogRIogUUgQCAYQgLTDijXe/bsMTuPppDE2cEGyXv//v3cGejajhmSU6pxL0I9N48lsBIEqjKsRDW3kCVQAlskoN9mvIjEoCdnWsSBAwcee+wxoblsExQEX+CqKiKXxflsC9AlbfHKPawESqAESqAENiFAZSATSDRr2sFwJFmBC8Ozzz7rJ4nqbeIerzobJlCQISQBI/nWxTkiS2k2DNAmnPtVCZTAFAhUZZgC5N6iBEpgTgnQFOTMzAj+qBJlQXxHn8aOTIugNRg4yipiV1xxhYCOvBj8m4EjooO+4JwWrNkqgRIogRJYFgJ+a8SJVBqeDgIAkRXECSI9ZOkikyy4NpAe/EiJCpllL22TKng3SMuCoeUogRJYJAJVGRaptprXEiiBsRMQhYHKoLsmjjefBR01A0QRHYTypilk0XIb6bSZ+yoZNcqyEWPPTy9YAiVQAiVQAqMEqAx+j8zL83u0e/duskImUJjWlwl9vO38ipEVSOGmUZjT97WvfU3AIB4NVRnalkqgBGZCoCrDTLD3piVQArMhwHlB4lwqehY/hST+CwnozSVVIAa9N5MmROFKx05fzSwJn3p4lIU4o84m971rCZRACZTA6hEQ1lEa9AK/X6RwWgNxwa+SmEH+9bPFCy+T/qjnfubeeecdTnmSYwQkjuODzy5+uXotqCUugRkQqMowA+i9ZQmUwEwI6H7RDnTIXn/99UxqNQok8WWIrKAbZwjISFG8THmoSlmc3B69tMbunknF9aYlUAIlUAIDAQtPEMH9HgkP5LfJCkeXXnqpORS0Bj9nWR1JBIcnn3wyKytnlWWfcc1zunMbuKEtqgRKYKIEqjJMFG8vXgIlMEcEqAwkBqNAemNPPPHEo48+6lNwR9KD2RDiLFx00UUiO8bRlNMpWUFvLAuSp0/WbtkcVWezUgIlUAIrScAPk1l7hIZIDFnk0k8bXzzz/ogL0uOPPx7XBj9eF198cYJE2iadx5ehP2cr2XZa6BKYHoGqDNNj3TuVQAlMmQBZgeOopLOVgI70hSTuDNxNzWK95JJLeJCSGETMMi5kUMiAj34Y3aHKwpTrq7crgRIogRLYCoEoBXGv80vnV8wvHcXcJ33cTxu3BZMBxTDm2uBbP3y8G3ySIfzAJUKkwyRKeudQbIV5jymBEjgiAlUZjghXDy6BElgkApkioeNlWsRzzz1nGTBJfEc9MxEcuZKSFQZNgayQnT71ySoxLFJNN68lUAIlsKoEaAT5wfIrRjKgIJx//vlmT1AZhISUXn31VT+CIhwTGvwsijTkAJ9+ATMTMKevKr+WuwRKYCIEqjJMBGsvWgIlMCsCulBS4iwI7mgkRyIu8CDNEhJUhrgtmBOhm3XZZZdZPyIrfs0qz71vCZRACZRACWybQJwRsgQSL4ZcR9xHi1BIDz/8sG3RiLJaMwEiIZBJ8PSFr3zlKyZf0NYpFMIb169h27XQE0ugBEYJVGVoeyiBElgeApxFM0NVd8oAjtGbLPSlR0Vx0J0S2dH0VP6ilAWJ0GDdL1Nbu3LE8jSClqQESqAESuCf/olwQFJPdCG/d34Q/SyaLehX0m+isER+Hx944IH8FPo19MvoB1HEh7o2tPmUQAnsnEBVhp0z7BVKoATmhUAmppqGqvMkrKPwV0nWidB5EnPhwgsvFOLRNs9S/gucRRPiMbNb56UYzUcJlEAJlEAJ7IyAXzcqg186OoIAkHFn8OPoZ5HEYBXMLEgh5rElKhzg95HmTptwW9rEzm7es0ugBFadQFWGVW8BLX8JLDSBxHfk9pnFw4V4jEdovBisFq6bdeY/kjmoelHmoyYEAx/RhS57M18CJVACJVAChyJAPZd46nFPcAwFwa8e0cFOIoLpFYmF7F8bJhWKiMzZgShvDoXkgCzh3DkUhyLc/SVQApsQqMqwCZx+VQIlMO8EOC8IwSDywosvvvj8wfTCCy+IcaVfpRclvqMhGoM58WXIyhH+zQTUeS9b81cCJVACJVACYyLgZ5F2QHn3C3jWWWeZOiEqpNmFgkRS56kMghYJzcDXz3LOEu8/Er0FmDqBYkw10MuUwGoRqMqwWvXd0pbAchCICwOJIQEXdJIsISF6tlkSEqGB2wIvUOtHUBkuv/zyzI+o88KC1n7WdR9mtah9BcnOBS1Rs10Ci0ggj97wAHaIe7EqkYKQpSsTHlKsIrMnqAxiQ4rOwAGQ1sAfkBAvKDK/BuEbSBK0iaR4RvTFu1iV3tyWwAwJVGWYIfzeugRK4IgJRF8wm9Q4zDAUYyMzJjgvXH311VdddZVpqCQG4zDkBhIDfaGzTI+Y9dycoHfL4zfrutOV1HUCarS/OzdV1IysBAGOYx9//LHXr/ewR9KQeN+ri1vx6s5LVVWKyGBmBOeF/KqqZbIC4d6UQxEceAL6MfWTSn1IlAdF7rt3ceu9OS+BqRGoyjA11L1RCZTAGAjwX5BMkeCwIH4VJ0/dIG6fvDolHp7nHUw6Q4P/gt6w7lR7w2OgP6NLqLtMJzYWF5VBn9h263RGFdLbriiBTE/z+q3KsAQtIK4NXq2mUXD947zAr4FHg4mH1n6W/MKqcb+kZAhrM11wwQXUB+/e+rAsQe23CCUwBQJVGaYAubcogRLYKQGum8bQJP6cBlh0hsTH1g2yYWBNb0k/yUJcRmMsIaEzpCck6RLt9MY9fw4IxJeBiqRCWTgmyNgjMtkcZK1ZKIEVIuAN7PXLmYidyXGs79iFrnuVGKcw9aggfmS9Y3kueLX6Sl1704oKSX0gPXj3irJskoVZFZl2wZPFTj++Cw2hmS+BEpgcgb4dJse2Vy6BEhgbASPYOjeJUGWAhfMCcUGPR0/32muv1TcSsCpJJylLVHage2z0Z30hHVn9YPVrg4XDrdf4G3eVWeer9y+B1SLgPUxlkLxdBdNNKMHVQrC8paUsxE/Ba9bb1XpMfmcl61/6tRVTmejAedCv7e7du32bpSj8BC8vkpasBEpgRwSqMuwIX08ugRKYDoGMq1hI4t57773jjjv0eDJF4sorr6QyXHLJJfq7HDt1j+LM2Vmj06mX6dxFterL6tQaOqMyWGtN7Rt5m87de5cSKIEQoDLwJvMMcibKFH2D4YWzHATUafxT6LlEBJNi/M4KD/nUU089+OCDPqlL5AZKxDe/+U31TmnyWZVhOWq/pSiBSRCoyjAJqr1mCZTATgmwIc0I1ak1lmLs2swI3R2dHh0dS3CJvyBKts7Q+eefLwoDm9PgNhN0WIZgp7fv+fNEIPOH1bgq1gA0CXE9heeYpzw2LyWw/AQYmVzo+ZQpqrduvMaWv9irVMLRmAvqN2KuNzCRN7EhuRCaQ3HXXXcJ32CWosCQvFq8nM2zcFhdCFepsbSsJXAYAlUZDgOoX5dACcyEQKaA8tU0P8I6W2I9potjzYhdu3ZlHW+mJhcGKf2b+i/MpKamcNPBl4GRk3FUn1UZpkC+tyiBUQJkX27zURn4Mnj3ejaLaFkJ5Ic1s9UEgKTy+yGWXnrpJVMn7KcyEP35EtL3oy9UZVjWxtBylcA2CPTnYRvQekoJlMBECGSVSh1Z8yPoC/qyRq0tIaFDY8MQiv2mRXDmFO/aEIouTvs0E6mJObsoFwb1rjurg2u6BK2BqSMMZBbSaxuYs+pqdpaNQN7MhrVNl+BWRvAlMRi+9smJbNlK2/L8g0BiQ5oToa7t487gPWzNJr/FHBm8hDUJb2PvZ8lG5i3mrMpPbUclUAJVGdoGSqAE5oJAOrJ6KmZGiGjNntSPsW3IWn/FzAj9Gz66FtzizqDTo+tT54W5qLnJZ4KaoIOrDRCeOOtyZNAwCE+ZSKzXO/ks9A4lsLoEYkyyLb2Zn3vuOZ9mq5mqxpssyxOsLppVKnmcF4gIZlJYzsncGa9iL2Q/1poEycmvs+TX2RiAY0YnX6wSp5a1BErg7wSqMrQplEAJzAUBaoKkI8st85GDyUQJ4R4tSymiNQuTWyanTQZnQjAYwW4UhrmouclnQr+WVaPeObaIy8Bfl8pgTDUtoSrD5Gugd1hpAuav0X85MjAmrR9sEPuqq65iZzImu6Ds6rQMyr6XLRHBpEW/1FqCn+kDBw7YeOaZZ2gQe/fu5YToZ9qRiQrZkYDVaR4taQmsJ1CVYT2T7imBEpgegfRfdVkMjHDENUBNWSA0CP2oC5v1tEgMEhcGpiZlQWrfZXo1NAd3oigRFNS7JqElqH0NZv/+/RqJrzi5yGObxBxUVLOwhAR4mRmvZkk+/fTTXtHGqDnG82LwcmZJcpVfwjK3SBsRyI8v10KyL03B69ccRi9eSlP+1VT4NfhNp0OddtppHNAkwoSxgbaTjYh2XwksOYGqDEtewS1eCcw5AT0VbvAkhscee8zACIkhTg3CVrMn9WV1ViRzJXRtmZR1wpzzCp1E9vRus3Ca0AyXX365Ti1P3fvvv193Vi+W53a9WiaBvdcsAXajZICaG9Htt9/uQfMMGs3myEDdo/11+v2qNRI/wRH6/SjzNPQG5towLAKV2RP8EA0JcD+89NJLbTiyKsOqtZOWtwQQqMrQZlACJTBtArqtbklfkPRfeb8TF0gMDzzwgA36gmSgjD0pGSSR2keZdiXN0/30axkzEr1Jt9UGicHIKrkhs2loEIkEWT+Xeaq35mVRCURcIPgarBaOlw351FNPPfjggxdddBF/eMkqP5waPHSLWsLmewcEovVrAJKRAI2B7KuF+EHn88Lhxbw2owIOo0PZmfWA/Ih7dfcVvQPwPbUEFozAUbfeeuuCZbnZLYESWGQCOhxiiem8GvTgv8Dv3biHuZ2ccvnfGiJjRhIXDIOII2WcREc2XZNFLnTzPh4CGk/8WUwR5wKTqRNWnbDexDDC1sHV8bDuVVaYwLCQMNORovfQQw8JhuIps76P9zNpjxDsdV0fohVuI/+/omsJ3sxkXz/ZXF18GhvQihKm1wQKb2z/Ds4vXtdFVwIlsPQE6suw9FXcApbAfBEwSqa3YXyMynDvvfdapVJEMWNl5kfov+rFGhgxPGKQRI+ExNChj/mqv5nmhmGjSeih8nnRlzXRhv8LL5jrr78+3Vyfms1M89ibl8DCE/CKJvsyDj1cd955p1e0h87Tx5nIi5qHvHHpriC78NU8jgJoGFzJaLs+aU/8XLyc/bjzNTOK4CeeU4NZNua1XX311WbZ5ODqU+Ng32uUwLwTqMow7zXU/JXAchAgLvBfkBKFQZTHJ554IuNjokNxW8haEkbJWI9Sp0gsR72PtxQHp00cnQVNaVK6s+yfhL433Ep0YAVpPDqykiaUxByqO8x4K6JXWw4C0Xw5l3Frpyz4zFvaM+UVTfxlK3KG9zSZXW+A2lva85XlA5aDQEuxcwIkA8k7NguOeN/GA1Fb4v+ijRlU8KIW2sP2GWeckUmRw8t55xnoFUqgBOaTwOf8rsxnzpqrEiiBZSKgI0tfkLL8lVEOezjA67DyXDDWYfmARKVOwOqOdSxT7Y+3LOmzZjmS559/3ookjCIzgbUljjDWIiFDGDQzhsZr104ylsRSGm82erUSWHQCeoCWqLRiCymB84JPgXI8TRzdE8Yvb2MSAyHYcLRXNCvRk7XoBW/+J0dAQ4ojTEJCakskBhJw/F+8ny+77LI9e/ZoRQ3tMbla6JVLYB4I1JdhHmqheSiBZSaQQGJGyXRedTvoC3fccQcvXL0N3VbOtxwpebxzdDcGUnFhmZvCmMpmoEzLkehT7B9SghZ13333Ea3izk2xkgy6GjQznpY4ZJ0JPCb8vczyEPB0MAgT5SRrCXtF0+9owSIyMA6vu+46D9revXvFfWQZ9iFanrqfWEkSsNmb2dvY777QS37uNSqKMO+zLEVMCNYxyAqXGlXb1cRqoxcugVkSqC/DLOn33iWw3AR0IxTQ5N70XA2OSf7NuJnBMSPPurAiPmaiL4mhvY3lbhLjLZ1x1/h1P/roo9xxtSvDZZkukdm/mpNGVdfc8WLv1ZaGQFaRoDXY8LrmX8a7IZMmfNojUI5ZbN7VvBgod30/L03VT7ogaU5aFGWBWRtz7wAAIABJREFUaCXZkNw3Xgx++rUrjcpMHKm//pOukV6/BKZPoCrD9Jn3jiWwKgTSczWz1xIS0nPPPaerYaDD5F6JL4OJEglGbWc7GavSLMZXTgNlZk+Y+muZCYniYPTVp+FZO82hMEhLiXBYpueM7869UgksA4HIcN69JhaZZMSD3Ya3MSeghDjhEGRQmlnI16xxVZehyqdYhrgxehV7IXsPG2PgzvDMM88I+Uxu4B2TRMaykcWDKmNNsX56qxKYOIHOmJg44t6gBFaNAItOYv4x87KMtkCPJAZBGaDQlzWIccUVV+i86sjq0a4an5Z3XATipGDqONPImBiJwYadWppOLZHLhPPMwTFC2yBE48Le6ywNgXj6MPD4/niOvJy5sktZFICvmZ2SZ2ppityCTI3AwZkQny1NIp100klUKjKWu5ubQ2UgAdMdBlkhIpcAOtpkly+ZWh31RiUwUQJVGSaKtxcvgVUkkMjSxpYNWfBj16XIeLKZEZQF/Vd+kkKIxSBcRUAt81gJ6KcKb657qnXZ4B0joF2SYTSJvhDla6y37cVKYOEJsOhi1Hl8qAmJk8oa5LzA6ssruibfwlfzHBRAK9KoovkaWtAZ0CswfZJ7I1FYP4E7A6cG3QPNz2F1apiDSmsWSmCnBKoy7JRgzy+BElhDgMrAi0FkaWtl33bbbQw8/Veet1wYvvnNb4rYF+db3Yj0OQqwBHZCQEPKupXaFU/vuOmOfrp4QoTs5C49twSWlcDBIee/J2XMmzmf+XdZC95yTY0AlSHeCpwaSAz0hX379onay8nRjDaJ6EDk4kejV+B9rvlNLW+9UQmUwIQIVGWYENhetgRWjgDvdB0FycqC/CFfeukl23wWDFxk/TMhyhOFwYBzx8dWrn1MuMAxkqpbTRhzL18CJVAC2yHgFe1337oSEbAEFuVlpm/w+uuv83wUu8E6QQJFm6djKILcYHqF8Ynt3KnnlEAJzAeBRn+cj3poLkpg8QnwexTYiQOktSolgxUkBn2IrFjJEzIzfodOxuKXuCUogRIogRIogRLYKgHhciT6gg6DxOdRt0EiNJAbyBCWTZV4PpIbuEBu9bo9rgRKYP4I1Jdh/uqkOSqBxSEQv3ReDGI96i6QGKwpaFEJoaRNlLCQhJmWhiz0GIxOLE6xmtMSKIESKIESKIExEzgYCeTz/BkNQkh0BBMl/KsXoecgJKR/RRvVf8hhhiWkOj+OuRp6uRKYCoGqDFPB3JuUwDISyKCEGZXEBWMRZkmYK0Fr0Eu4/vrrTb/cdTBllsQyAmiZSqAESqAESqAEtklAMB1aA5UhwZusQ2zEgtwgtBPvBp0KQxSSQKRu0GAN26Tc00pgRgSqMswIfG9bAotPgCNDVqykMojkpGeQkP5XX331ddddJwqDmNJmSYjkpA+x+MVtCUqgBEqgBEqgBMZGwJgElSHLWnN71Je488477777botckhh86mP4lgbRmDtjg94LlcC0CLTrPy3SvU8JLAuBiAt++02qFKuJ84JlqAw7KB/vR2MO9IXzzz8/S1LxdWznYFlqvuUogRIogRIogbER0D3InAhXTG9B0GjrEJs6wU2Sd6QYT0YpRHfiFGkJIVMnpDo1jK0CeqESmCSBqgyTpNtrl8AyEqAy+Pnn1miowVqV+/fvt3SlJNCjsQirXtsYJlu2N7CMTaBlKoESKIESKIGxERhWr7zqqqtOP/30p556yuiFlaqoDAYzjFtcccUVHB8SPbphGsbGvRcqgUkSqMowSbq9dgksF4HEeiQxvPvuu4YaODeSGCx5rU8g8XsUGvqGG24QuinLCi5X6VuaEiiBEiiBEiiB8RPQbZCEaTDLUtBoTpGcJRPsieLAwcEe3QzLW0rRGjqGMf5q6BVLYKwEjrr11lvHesFerARKYGkJ8F8Qk0l8pgMHDtx1110CMfBsFHzh4osvvuyyy3yee+65gj7ygezP/9I2ghasBEqgBEqgBCZDIEMUpmSSEk444YTjjjsue3Q2uDbohHBkMIfCzk6dmEwN9KolMDYC9WUYG8peqASWnoAfeEMKfulNlPjDH/7gZ96K1sQFgRgyUYJDY3/4l74ZtIAlUAIlUAIlMHYCOhUZpeAaSV8wbsFfUqeCU4OxDYEhb7rpJuoDlwe3tjH2DPSCJVACYyRQlWGMMHupElhOAkYVrGUtCfT4/PPPmyhhnuQnn3zCs1GIx0suucRyleQGww7LWf6WqgRKoARKoARKYPIE4rlgUQmDFiZH6HiYpGmn2E+vv/66vsfDDz9swEOXQ/cjkRq6iNXkq6V3KIHtEKjKsB1qPacEVoqAX3dLSEjiMBlPIDSYJSEUk9944R5JDOSGjiqsVJNoYUugBEqgBEpgQgQy6VKkBk4NPo1hSHoa9AWulIY6Lr/8ckMdFrm08ISQDRPKRi9bAiWwEwJVGXZCr+eWwEoQMJLwxhtviMLw4IMP7tu375VXXvnWt74l0KO5EoQGnYCVoNBClkAJlEAJlEAJTIUAocHCE/oYklWrqAzUBD2Qe+65x1ckBqMdplfweqjKMJUK6U1K4IgJVGU4YmQ9oQRWhwAHRcma1YI8S++//774C/QFjgxWlrJ+NX/F1aHRkpZACZRACZRACUyZgJ6GBSayijbHSfGhqAxCUItFzcvynHPO4dEg8jSvhylnrLcrgRLYhEBVhk3g9KsSWHUCJIZHH330iSeeeOaZZ6gMifVIaDC2cOaZZ5ozaahh1Rm1/CVQAiVQAiVQAhMjEJVBl0PcR7MkeFbqkAgGKUwDxcHS2ha/9G1VhonVQC9cAtshUJVhO9R6TgksNwGBGN577z2eC2Y/RmJ48803+ShyXiAxXHnllVmzuiGXlrsZtHQlUAIlUAIlMHMCxjMkHQ/rTURrIC48/vjjeiZ6KQJU642YOsGjIfEgZ57hZqAESgCBqgxtBiVQAv8fAR6J0p///OcnDyaLVkpEB/MjDCAI9GjDZEgui+ZDFlwJlEAJlEAJlEAJTIcAKUEXRVfEjAlTJEyX4HFpLMRO4yJf+9rXzjvvPI6W08lM71ICJbA5gaoMm/PptyWwWgSiMhglsJbE7373Oz/bEhcGP97WqbZhCWsui1lrarXQtLQlUAIlUAIlUAIzIqDjwVVBD4TWYL2JPXv2/P73vzcQYgKFjooY1Za95OlQlWFG9dPblsBaAlUZ1hLp/yWwmgToC9wOzXIUTokXg0AMRgmMFQjBcO6553JhEORZJGd+ifViWM0W0lKXQAmUQAmUwAwJpPtBaMj62dbSfuedd/hXcm0we0K/hcoge7ouZk90ge0Z1lRvXQIIVGVoMyiBEvinuDBYsfL5559/4IEHxFWyrsQHH3xgrOCqq66yYiWJwehBJYa2lRIogRIogRIogRkSoDVQEMRooDIY/DBLYv/+/Y888ogOjFzRHXRaGqBhhhXUW5dACFRlaEsogRL4J/oCV0MTJQwFPPTQQy+++OJf//pXsgLPQ+tW+sGmL0j8FQurBEqgBEqgBEqgBGZFgMogWVGCr+Vpp51mFMQyE+ZNiFpNaPCZpSgcIHUlrFlVU+9bAlUZ2gZKYKUJxItB/CSBmv1IC9ps2y+0wQFrUNMXxGKIC0MlhpVuKC18CZRACZRACcwTAVoDjwYzJvhdytcLL7zwyiuvmPgpHqSvBIkkQ0jzlOXmpQRWiEBVhhWq7Ba1BNYTiMogbBKHw7vvvtvqEpJfZb/ZN9988wknnJBYDOtP7J4SKIESKIESKIESmBUBgx9GQfRS9Fi4XprvySUzEoN4kJwaODJUZZhV7fS+JVCVoW2gBFaUAH3BRAn6gvToo4+aK2EQwBISlpO44IILhHs8++yzeRsaKKgXw4o2kRa7BEqgBEqgBOaVQDonOircGfRejJHs3r3b9E/BIMWxtl8wSHM/fStx0pzXcjRfJbCcBKoyLGe9tlQlsDmBuDCI70hc4MXg02zGjz/++KKLLrr00ktFVIrEwOewEsPmJPttCZRACZRACZTArAjopWQ45PTTT7/22mtPPfVUAyePPfaYCRT26+eQHvRqqjLMqoJ635UlUJVhZau+BV9pAoI7EvuFYracxF133fXyyy+TGHgeEhduuOEGjgy2jQOsNKMWvgRKoARKoARKYO4JJB6kSJDWsLT2NmWBysCdIQ6bvhVhyuKXOWzuS9MMlsCSEKjKsCQV2WKUwBYJxIvB5AgLSQj3aAYjJ0POhGeccYbpixwZ/BIn3OMWL9jDSqAESqAESqAESmC2BOLUYA1LnguEBp0cE0Jfe+01oylWvjSsQobQ1eHgMNt89u4lsCIEqjKsSEW3mCXwGYFIDD4FYb7vvvsefvhhK0qIlsR54bLLLrv++utJDFJjMbS5lEAJlEAJlEAJLBCBBIOkMogtpSfDnYGrpk8xIHlrUhmuuOIKy15WZVigOm1WF5pAVYaFrr5mvgSOjEB+aMkKTz75JHVfLAYCv6mMVAYTF/0w82LwA8yr8Miu26NLoARKoARKoARKYHYEEkZKN+bkk0/mofnpp59y23zppZd0aUwLNb4iGKSVswgQQkU2TMPsKqp3XhUCVRlWpaZbzhJAwMJOpkgIjGSuxB//+Ed7rCgRfcF0iUyUaLjHNpUSKIESKIESKIFFJKAPQ1bQnxGL4corryQ36PBI5AbKgrEWwyq7du2qyrCIlds8LxaBqgyLVV/NbQnsiEBUhttuu81kRdt0/fPOO++WW26x0DSXwoZ73BHcnlwCJVACJVACJTBrAonyaLEJEoOVs37xi19EZUgwSD4O3Bl4cc46m71/CSw5gaoMS17BLV4JhABZQcqKlcI9Hn/88bT8c845xw8wB0ISQ2cqtqmUQAmUQAmUQAksBwFag7ETn0ZTrrvuOq4NQjMISkVx0O3h8kBrsCZFx1eWo7pbijkkUJVhDiulWSqB8RMQ5fHxg4nToB9aK1ZeffXVe/fuJfbzaOBb2IkS44feK5ZACZRACZRACcyCQJacoDKYGXrsscdaYOKee+4RlEo4KolHg6UojLhUZZhF5fSeK0GgKsNKVHMLubIE/vrXv3IRlERhSDiGTJQQheHiiy+2rgR9oRLDyjaPFrwESqAESqAElpIAlSHDJ0ZTuC1QE4yykBvef/99oa+pDEIz+Iojp15Q3TmXsg20ULMlUJVhtvx79xKYLIEPP/zQ/AjJihIcGd58881zzz2XF8OePXus55Rwj5PNQa9eAiVQAiVQAiVQAjMikGCQZklccsklhl5oDdaeMO4iaoNpFOQGG5w6Z5S73rYElpZAVYalrdoWrAQQ+Oijj4RjINtTGawabSUnEsO3vvUtEoNfXCqDYzpXok2lBEqgBEqgBEpgKQlQGRKFgQuneRO/+93v9IieffZZjgxnnHEGHwepKsNSVn0LNVsCVRlmy793L4GJEKAmZKJEBPv9+/dzZxBRmdOgoI82KPciPlZfmAj9XrQESqAESqAESmBuCOjtkBLS8+HRKSIDp4YPPvjgoYce4vKpy3TccccZd3EMSWJuct2MlMBiE6jKsNj119yXwIYE/GT64Xz33Xd5BvoR/e1vfyvGMhX/ggsuSLijLiqxIbfuLIESKIESKIESWD4C5ANBH0kJukMCVIn7+MILL9x9991vvfVWYkMSGrIE5vKVvSUqgZkQqMowE+y9aQlMkACJwTxDC0m89tprzz33XCIy+Fm1aOVVV11lFqIf1AY6mmAF9NIlUAIlUAIlUALzRICCYHxFjsySsC3046uvvqqPpMukg2QdipNPPpkvQ+Nhz1OlNS+LTeCoW2+9dbFL0NyXQAmMEOAESGIQQllko7vuusu60B9//LEVobNupaUlqPXk/M6VaKspgRIogRIogRJYNQJkhfgsZK6EcRd7KA5GX0RnoD4A0nkTq9YqWt5JEKgvwySo9polMDMCVIZPPvmENyAXhj/84Q8mTZxzzjk33HDDpZdeevbZZ5Pq/Y5WYphZ9fTGJVACJVACJVACsyNAR8jSlZac0F8SHtvUiUceeUTvSH9J+Cp9pPp7zq5+euflIVCVYXnqsiUpAXq8iRIk+RdffNGvpoiP/APFerziiiuEO+LRwIuhlEqgBEqgBEqgBEpgNQlQECSRIHl38v3UcTK9VK/pj3/8Y5bisvaEpSjA6ZDMaraQlnpcBKoyjItkr1MCMybglzI/lsI9Pvzww341BTcy/1DERxEZ/KDGD3DGueztS6AESqAESqAESmCmBLgzCFMlEIN5E6+//roYkG+//fa9997r08AMocGkCX2qCg0zraXefLEJVGVY7Ppr7ktgIGCuhOTH0rqV+/btM72QssD97/zzz6cyFFQJlEAJlEAJlEAJlAACURkIDdaztBoXRwb6gg2fdl522WUOaHSGNpUS2AmBRn/cCb2eWwLzQuCjjz56+eWXxXo8cOCAiAxvvvmmgMliMZh2SGgQjmFeMtp8lEAJlEAJlEAJlMB8EPjLX/5CTRAD0jiNOaf8F+L4aT9Ph84znY9aai4WkkB9GRay2prpElhDgMpAiRe+iMTwxhtv8PETjsG6ErQGTg3FVQIlUAIlUAIlUAIlsIaAcI979uzhvyASpIBWhIZnnnmG1sCdgfTAJ7TESqAEtkegKsP2uPWsEpgXAmIX+Wnk4+fXkSMDLwbqu1iPkiWgzzzzzM4qnJeqaj5KoARKoARKoATmicCXv/xlzgviWOlEPfvsswZsxGgQ34rEILKVsNmmTkjtSs1TpTUvi0Hg84uRzeayBErgEAQELrKWxCuvvGI1pieffJJTA/+Fm2++effu3ccdd1x/Fw+BrbtLoARKoARKoARWnYBukpThGct+c2Gwbf6pPpUwDWJdvf/++1wbVh1Ty18CR06gvgxHzqxnlMA8ERhUBuswmS5x8cUXC/dIZSDMS1UZ5qmumpcSKIESKIESKIH5IhCV4eyzzz7hhBP4NdAXTJpI8GxLWoraYMymkSDnq86am0UgUJVhEWqpeSyBjQhEXLdipYkSjz/+uEhFFq3kwmCWhF/KY445xorQG53XfSVQAiVQAiVQAiVQAn8nQGigL5ASyAqGai6//HJxH02gsH/v3r1iN/jqoNPD54qsBEpgiwSqMmwRVA8rgbkjQGWQXn311QcffJDKYCEJv4uCGJlJaJ5hfhHnLtPNUAmUQAmUQAmUQAnMEwHyQZauFAZSP+rjjz82V4JHg08htA3hGLlpt2qeaqx5WQACjcuwAJXULJbAegKCPporIeijiAx+CE2X8BNo3cqLLrrIb6TtBitaD617SqAESqAESqAESmA9Ae6fIjJwW9i1a9c111xjdQnhtE1EFZ3B0l3vvfeeSNvrz+qeEiiBQxGoL8OhyHR/Ccw1gQ8++EAk5Jdfftnvn0WeTZHg5mdRia9+9asmEM511pu5EiiBEiiBEiiBEpg/AiZK8AzltmDJiVNPPVV0bVqDZcLF1TYd1Z75y3JzVAJzSqAqw5xWTLNVApsTiMqwf/9+WgO/BirD6aefTmXgyMCLYfNz+20JlEAJlEAJlEAJlMAaAlxB9aP0qQRloCnoaxEaHn74YRNUDeFUZWiDKYGtE6g1snVWPbIE5oIAnz2BHonrzz33nF8+kwn5L0hnnXWW2YNk+LnIZTNRAiVQAiVQAiVQAgtFgBeDZOoE/9ALL7xQF8tKlpYJF+5K0CvJQI5vGwZyoWq1mZ0NgcZlmA333rUEtkeAmv7RRx+9++67lpYQjoEvg+gM5hBed911Vl2iwW/vsj2rBEqgBEqgBEqgBEogBLgtWF3C6uDiNVAZnn76aWGwBMPS6TJNtZRKoAQOS6C+DIdF1ANKYL4I+IXjyODXTkQGqzoLfXzuuedeccUVxx57bOdKzFdVNTclUAIlUAIlUAILSMC8Cf4LMv7oo4+mxyUSliUnDPZwGu1K4QtYpc3ytAkcdeutt077nr1fCZTAdglQ0LkwPPTQQ5au5NFgeWf6wmWXXXb22WdzZKgX33a59rwSKIESKIESKIES+DsBaoJpEZa0fOutt/iQHn/88b5455139LVOOumkzE7tvIk2lxLYhEB9GTaB069KYO4I+NkT7vH+++/nyGCZpSuvvHL37t38+jgydCXnuautZqgESqAESqAESmABCXAO1a0iKJx//vlZNZz3qK4XBwfrTQiDVYlhAWu1WZ4qgaoMU8Xdm5XAtgkQ1M2VoKPz2XvxxRf95gnEcMkll/i1Ewy5cyW2DbYnlkAJlEAJlEAJlMAogYSBtK4EX1Eht43x/OlPf3rjjTeM9Njg0WB0J1Mqyq0ESmBDAlUZNsTSnSUwdwREOaYv+HmTbPuFs66EuEQ+/QrOXXaboRIogRIogRIogRJYZAJmRuhlGcgxb8LalgJvC4wlEqQynXnmmVUZFrlum/eJE6jKMHHEvUEJjIVAVIZEIbKAMy8+yyzt2bPHjxzFfSy36EVKoARKoARKoARKoARCICM6hAYBIM2SEBuLO8NTTz0lDJYBHt2wgiqBEjgUgaoMhyLT/SVwSAKMfCEYJR50XObEBPIL5MdmQqq2u8iKuRJ0dHEfTQU0S/Css87Kus2dGXjIeuoXJVACJVACJVACJbADAullnXzyycZ1Pv30U7MnqAxGd3T8/OvbpB3cYUVP/eSTT0wE1qPmovvCCy+YCKxbK5144okEnXrpLkGzqMqwBJXYIkybwHvvvffwww//6le/8or0M3P66adb6IHWMCGVQfHI51aUoDI8+OCDYjFIfu3clxdff96mXf29XwmUQAmUQAmUwCoR4ECq68WFQTfswIEDhn8iOljSsoM922sINBrjZ2agiGh+++23Exquvvrqa665xkAapFUZtkd1rs6alMrg8aNOSVZ/EbXO55piW4EvcVM8sVJdvrfSLFBlbbJsCX6eTHrqJmdBCnKSeWWcvjY5uF8dEQFNWvxFr0V1ISyQuQym59l5RBfZ4sEq3eMj/fnPfzYhUMyhvXv3nnvuuRdccAFlvetKbBFjDyuBEiiBEiiBEiiB7RGwqpeuF+v3ySefFKPh1VdfNXXChm62EaZ5jsAtkxKLLAWXW6NiTDD6SEaqtgdk52dRGRLU/LnnnrvvvvueeOIJ1orxM51baefX7xVmTmBSKoOmwwHG0KtFX9hFnsY1RWWbXXjhhcLjpzHVBt5KU2DTsjZJDJTUBx54wAtuk7O8+ED2TmQAc0Dq5LFNWM3zVx4l+sLrr79uTqAGQNwlqHOgOOWUU/xIVEGf57pr3kqgBEqgBEqgBJaAADuFG78OGH9+yRiPvhkzx1LiOtjzrDKw3vft28eSTy3s2rWLU4aRKlqDEs1zzpeg2ax4ESarMpCmTCN//GDK3PIBN5eYm2++Of9q5VUZttIQGZnESM5Fd999949//OMEuT3UiaiCzPvo8ssvp1xWZTgUqDnfH5XBzwOVgfeKavXzFpWhcyXmvO6avRIogRIogRIogSUgwE7hea0bFqGBypDFJvTErCZu1Gduy8gE+5//+Z877rgjObzxxhuVgmuGf2W7KsPcVtwSZGz8KgNPfmPs/BeMt+/fv58Xg0FXRtGaQVftmwpIg/Cgsprit6OtM6S1fr49nCA4pXuYne7TEK403okV7iVxDci9ZMm9+FZ46txLluatgocZE7QG9Pg10FDlOXAGpca3AgewTm088sgjCU4DnQJ6FVbQmbdq3Tw/mqiJEqRojxK1yDxAnilxddv8xH5bAiVQAiVQAiVQAiWwcwIZ18nClhwBMnNZH1t/TDTunV9/7Fcwjdd8XuaAPiTTzNyE3IL5YFl0Y1dsLuaVEo391swTZqCUmd3sqYQwWxO8zH702IAWZRd67KKLLjIjGFumzeTCnI29sL3gJgTGrzJovo899pjYeBQEiUMO2eymm25akwkBWq3JZ2a7sdlzzjknYRo0OE8F21jr/+3BpOWJq5dAd44Zr8qg9XsCaRm5l+kbhv35EZkU5KmbQ5VhDUOSQfgkKCuSOcALxRvEjBUYQfZyyX5eUiSGqgybPA9z+BWVgb7gmfJcaJm7d+82Eabv3zmsqWapBEqgBEqgBEpgiQmwzLOIeKaE+zQr+bLLLpvDIjP19R65wbLLMtCYTBqwtN8qacx7s6onkXP9VdEruF3TDlyfSXXttdcSFNb0XcGMM/tVV10FI4vMQK+hUzvn2TdkEsSW9ZrjVxnYtBQEcyV88hFgFEk//OEP1wgEv/71rz2cvB4crzky+A25o5xJAZ4KAgQPHwdonXFGooTxVhpjTbgXbc/DJsbBT3/6U68J14/fRDIzxntN4lJcGM477zzTIih/IrIS/3IX2OkLFFaT+W0TMh3p2ZboEZPISa85CQIifUqaKNnIw0IeEsqECqYSqzJMAnivWQIlUAIlUAIlUAKHIsAwZgaza5jEpi1LDBbdbFYMM2euhiepDHqPrH12FktqiKcon+lVkhjia3Cowm57vwFjC0awBJkhLmK8mYWi+7rmgvFlICiwvDgybPt2PXFuCYxfZdCsSQPG0rVjTgrGz7We9eXnXyQuA6uJnwJdUCMbr4Kw/o6rs4emYNCbdpNVZ1UENdF70DyUCb1QVoftNEua0LsepcyO8Yz4kfCrQH6uQ8o0K6L3KoESKIESKIESKIE4BRgB0jfTK+MXQG4wNUDHzKxkg/DzE5NbH1LGqAzMAcO0g7+zDIsoQQjgDV2joE16ogQmojJovmzaWERUBs/e+qeOAGE/ScJTGolh/TETLfkSX5zKwAr17qM1cAMhslIZTKAwi6wvlAWqd78QEezIQ7Yp6J4p3is2KsktUD02qyVQAiVQAiVQAktAwPA7NYHZwlNYZ1tPO8N4xlMJEIMlPw8l1W9kiwn9KFdGcwcfWJ7mpoozCrhyT2gJ9nkofvMwDwTGrzKYa6DVatwUBFMS4vW9vqhx4B/2O54xzKuH8OapENDBp6eXfcVX3MG8bjwVvG7z3cXnAAAgAElEQVTYz/4dXf8yU4w8LU53d2nNehYsbc+/lKgELO0Y3rmXmQUkSfn0pjDRwFvDvbj6eCy5GAkG4US3s5Hcyipd0MHyZpB5zdwK5p+zpJw1E892VqiUWRKKTLbM3BAFX0NGieJ7QhhSKBW35o3jpUkMAhANBKSIQQ72hlJHmVXlW7dTO/4drWu3Vi9cs+z0VVy2kFljJEMKJhHE3eXHt1kZKL5nss3YlkNX8+36d+KQQ7SH4B1KmsbgyvLgCgkjKv+2VbEalyv3knk5T3J6IGhLOWxN04Uiwo0mlCusb9vj2hNtyNw5pZZ5ninQ4Tyu6/c6JVACJVACJVACJVACWySgD6nfKOkKchAQJ8uJFIf0P/XT5mHEVJ9fB1gfkpnDrjEZgRUj8EHKqFdsw6d+tf65LnS69xsScB0dfr10XXQmzxDoLQcrrC60RHYJAT1nXW6Gm6hw7p57uYLgYtSZYWk86EbdK/TJ5US/Ov15Hd0NsyTDri8PsQXWdMKZGBm3Tqh7/46WiCkxGBpOZCO4heNdKtbcmuJn4QL5YYlI81CtG1bQnO8cv8qQAsdo92k4Xbs5LAXHPP/884lWqC1S2mw7nR1777332o4pGLGAJnfllVeKChm/cYfxCLJGi2adh2GNLW1ehgUdhV2IichYJSK4nWfAvZzr+mxLz4NgEF4WMTi1LY8lc9e9RIXUHFMK7dsjlMAHFAoNdLR0ng1naZ3J4UxUhsPSHj0ADUqnyBSKn6d39FuP1qUHE58UKDy0edJAENbltttuU14hISTOKRlmHz3do2te1p133uksAANTxa1RGby81IJseINI+H/961/HP/QQ1h4sWaJq5DDvrNG7mHSjcgWn8M7SNhIBRBtQp9qDc7UNNSu6jGbgWy3Kv97CLpL8O1fsT0XQojRFt/AqdBgsa2BqS2h4MXnbukLudUTAt34wyJo0LE5BWCa1/62f3iNLoARKoARKoARKoATGTkDv0QxWHUJ2uEFQ19cFXT+SN/b7HvaC6f3SBXSnWSvypgPPKtGNzLksIJ1Y2XYAW8a2nvNg46y5fsb5XMdKZ0yeQSbIYfr2CQyn/6z4Ovli/+typ8duMDLjgkYZ05Mfxsl08iUd71znwIEDf/jDH2RV7Ab9edrNhllygCuzF/TAmQNrRnn1kCkpzqWqCJyxRmUAhN2nR+1c2yzHBM4HQZ4Zg2sKzmT4xje+IT/IMEaqMhy24W14wPhVBjUR4UctZrYSG9K2RuYrVpnP9bXlSM1RC77nnnvuuusu9qQWIBG3SFzDWRqxgA4sPUqVNkQ18Dhpu9r973//e2Yh6Y5tNjznrmD7hhtucMdYaJo4y5PzAomBnexekTM0VjfS2jTB5NAzqb16LGOIunWupoFqqRbp/N3B5I6jZNnGhBWvHoa0tk5xkPmJ2qLr61WRpYzkB8VAfvRgB/iWRe3pssoGaxyWRGrJYb5VCuEzvCYUQQ1ikrpjinvU/+u//gtVkWMhdaSCD28QV8jFuaX893//t9NpB14o1CLPv+3RnGCoBvft26feJS8XrypRLT3bMule8uYFpMriQDGcm5J+85vf9B7U6uQB8IiOvpJt7YovgFCjIomqOG8KOVHYn/3sZ75VFscn/87SnBQw6q+m+Ktf/ep///d/0xiGFqstOVEj9IJz08xMWV8FO9yTWvPgaGnep17ifiR8al07vHJPL4ESKIESKIESKIES2AkB3V2mNetGJ00vmiWic6vLGoNlJ1fe4bnp/erK6vSyoXTsDYnp6xoIzJUTC09W9f91MnUsCQ1D/Pjh7ulgKxe7QBedxaTzbODQAUOXWGGN3umu66inSwzFL3/5y9tvvz0WU3qzTtG3d+5wov3ouWkOcNbPf/5zhtW3v/3tdObh1SFPZhzjajJMH2G1yUnW0ctg4ZBhqoEqMO4oV0w2XfrPrK/Pfz4HKIjCykPmjzs3YoQR1t/85jcyPHovt0NvcAAhWAzXGW7Xja0QGL/KwP5nERnJ16TITmw81hp7icnNNkvFO2ZNhUUUtNMG255mxrD0yXB1lkciDjBxRvCvZuSp8Px4vB2p0Xh+tMjRJsUa9GxIrukJ8QBQzuLYo3Fr62xOjXK4l/bkXu7oXlL8dlyTVOks9qpLsS3Zn3QvTdyRP/rRj9ZQpnE4TOukVri+HGaQf5oN1ItDHpD3QNJN3NqTTJQBf1TbM06OnsOyfgHFzptiCCvogYxjiD0O8yaNnkJWAIc9n2t67OOJAF00ywCxDbiLuDt6ed+5u4M9vWugOVg+IwarfVUZsQBkLwWlgF1NuW/eNTk9HlwuqCVoAy7iW9nTSOR5eJflYDdVUq9I1Urj+P73vx950vFuR/5wX2e5kcolV2GijNdff70GIA3qieJoCXwcXE2eFW3Na24rT93mx0CKm9LJjHpUQNy0IoTdbvNz+20JlEAJlEAJlEAJlMBECejhM0b0APVU9dl0CPXZJN1F3cs1HrsTzcmai+sJ6zcywTiD64frNw4pR+Zf+ScNGGfVDWYdrM+hfrvrMK/0ePn/sizi8+tEve7Mj3YvBDKel+608bB///d/ZwbqvUu6sq6MhsFXaejEGt5zDFYxFtbffXQPqjr5LBH2lwyTIdiY3/nOd9bM0ZbhOCbY777sxA3tL1/pWjPW5EqXXgebUMLQyx0zvCfn6pTqoYCc2X27ZnB08wz324HA+FUGbUgj03a1PPXEWlOXGuh1112nVe3du1edaVhrrG71p/0x5xh7qtM4OVlLq/IMq35nESkkJ2o92gRL0ranyAA4FYrHgdbPDGNDSrEwNTgKgiQbLsV6lDcXZ8FqedGomNZarXvJZ/z5tSffupcsaYIsT8atE7U8ZjDtQFk4XCjd9773ve9+97uD/Rmm7mIegTtS5qI43HTTTS44ZZWBDezx8DR65FBVtEwoWKMyGOTnp+SVYT+G/JQG/yX0PNi8pCh/iuyCKg4TNjkskreSZ9gLyKuHHrEmVq1Xm/eO/QrurKgMefexotc8gQ6OyhBnJ3lQO04kMdIs1aDqpukohfagOMO7gACRSuHmgLmzaJOqzLlrXvFUBjRkVTPzerrxxhvl36W0FsVXidqM7MmG9kCIlWFtgCyVpVgHlZcAoclpn/QjB7uLzI/3hYIPdJGK8iocVAZv9vHeq1crgRIogRIogRIogRI4IgJRGXQ4dbYZrlKEBj3JjMYf0dXGeLDuLuuDfaQLHZUhQ6eDhR+jZlAZMmS4PgO6wXr4bBkmD8dt/XOTCGJD6TzHmnAvjuQcARxMNVD2TKBm7tnJB1lX1pXdi9OxjrfxwtyIJCGlo37YsTrGCBeGX/ziF0Zw2WIsAt34b33rW2ssf2oIP2VHqgtddMlN19tfvnVBcHT75Z/xolzMzGQMN9mWefKHC7oIzUihqjKsbyFb2TN+lYHBxpBTcyqSscSJICqU3KhR4pCqZbtqJerMwR5RjdVn7Hl72IpOZM453lOhZZsioY7ZyesnDmnTrsxWdIwDDg48f+bRYKfHzPGedo2S8U9HIOy5sq/c2mPmXlq5h9C9nOJfDwCrMrOM1lh0TmTHxt72OMm/jAkx4NajoOWZQc50p7MMM+qhkBO3SMa2UjFbOSaOTG7nEXW7ISeZzB/3DaKA6mB7K5RXCcgZKvf8sLq9HOkv3hpK7VNxbOTWysjEVVkeOQdnnggpUWWB5pURsQYWh0ler7bBzIQFeYPdnsyzkD3/ahUuZRsQ+x0p505RU/HsglT1Me/VDlapXBuKFg3VV8NLyikOlhmZ9CJzL+3KpVSNTK5RGRQqwocNggXpyqfThxdHrPp4TygmUPQmzh2AoDeoDHQT0ka0swgTW6mpIzom7iHaqiwhoB2igbZyIXZEl+rBJVACJVACJVACJVAC4yWgE6sDmQ6qTpouqG6zDrO7ZLR/vLfb+tX0G3WP9fB1I3VT9Zl1IBk4wygjw8owm26tPjkdIYOFOufKkg587uUi7Asqg8E8HfhYE+QDVxtUBv1V/X/GkeK7rFvorruXDrbutHPTjc8IpU71MGsjt3DTTbq1znUAa0JBdMsNebqy65Mz4nw96CbD1QwBsrbk1q1VEMtRp111jBpfSs0ccGUHuEK845UrF4GFORNbwH1dimU0WDfjNeK2XqeLe+T4VQZGkebLSLPBsmXH0oS0wsRx1FgZSx5IrcRIuBagscb63QZEJwrO4XaMTwaqpu+mcWRwNW1Xy3aMRqnpp70ycTUX/64XLDbPgBPZ7QIZapQsTznPqP6as9xR0VinHk7J05vhaHeP0LD5XY7oW1YoOSN2NaQepJzuCXFTBjz+tEMqAzEPH8coOAs/uoC3IQHI8+YrUwOUiMU+ZEANqin/ekPBG4GGJAGygium5OFUwOimsuENi61iOtddZM9O1r7XjcwgoEY8ot5c3hTJsOM9w9QBeXaw28HrFnkpOJELjIzJSZIThxx6QfhX/TrFXVK/XiheSevdJbQKuZVzrzmClCu74KgSEZHCexkTLyBtBjQvl2RmuCkUt9xyi0YrvI3DNpQzjqgS1x/ssmgQMjS5NGk5j142tO31Z3VPCZRACZRACZRACZTAFAjoj+nQ6kbqEOps67bpDOsk26MvvWYAcgr5GW4hG/qxDBD9dn1pY/W68aMmj967rqyutQ68Y1jUsVMco0+ra51LKRFbnaewHrVxPoYPa4LB5ZqDNACC63Dr1nF1jFKPfrvDUuvVsyN4E+iZG02M0sG84sjgpuuHEt3dcKmyKxcDx6dzY1mMFl8BZVLvmlTxL//yL5y4OcIPWUVAGZkJrAlw2DVJ/o11s8NCrdrp41cZVJ6aYBd56rR1Zrkq53+ivuOg4rHULlmP3F1sS+w9duk20LMwPczaXMxXl03KpVyZ6OAY15elUZXBV6Ntbiu3ZvIx/Djw0zUy+4PJOjyNwxVYvFq/583zQGGJymDbkR6J9U/FVm59qGM8flq/CQVrCq6kyHutkBj+4z/+w3thlI9TPHhRQFSN14cjqQxAuc5wLzUityhlFkM8U9yL7W3bBSMB+hxUBsVkq/vKuR5Ibyj3sq0xyJIrOxJ5N1Uv9rs4qv6NyuB0GVBZXtlRi2gBnnZn2Z9mM5pD2XN3V/bGtO0w2A+lMjjdpbxNvJ68KxXKKaNXywslc0xch36hpCSJ3HfAAqb3kSqmg1Kd0FvfBg5VX1vc7+6YaGxgjqoMcrLFK/SwEiiBEiiBEiiBEiiBCRFIx1sPUJdVn5DtYzhNz41VoqM4oZtu5bI6w7rfOvl6klxxGcx6vDrVw7n6zPq3DAEH0BeoDDZijY8aKb7ikU1oYCMoIJsuKsMaO8v1ja26uD5q1IfRrvVWMnyoYxSEmWNwelAZoGZ/scIICuvtqagMsiEEG9+Hwf76zPT6wheGu0RlkFX6i1FD5RpEE8ewTaIywOJfhokEzmDdHCq33b8hgfGrDEP7S7Vp3Gxdw8uxM5mdmktGjBnhnkmVpyUxRLX70cdgw+yu2akxpVknBqTnZPQA1poGKpHi2LEyECuUkex1sJXr5xhnSVqYUtggbpm6b5vJLdtrjEzNkZjiGE+4wrqR0rl1ir/1m27lSMTY4UEXSztZpeHxX1LMOCzJgGeGvZprMox9JZ/savxlkovRj3/8Y1dYf1MH+1ZJIw0MxVFqzzOdhXCr1hyGj/ca2h5me+IxwW3Bv+7uygjYqXm4FHXA6TLmLC8yh9lm2JMYiB0xrVO5Pp2lwSiRppIZFsmnbUXwrWksbu36LH8X9Lnel8Ep3h3K6NbUDZdd8x50HRlTd871IyEbDl6vIGjVUuReF5Htcb1PB/jKpXbUHXSykWgj69+n6yure0qgBEqgBEqgBEqgBKZDQD9Q35Udni637jdTnIEwnbuvuYver2zoD+vN+rStuytva1x3ddHZDvKpAy//us0UB3OB7dS5HQZ9GRRxUnYX/WHF9JXj19w0veJJlDdWWzzQFc2/esL8oOMxsb7vrceuaBlXlk+deWdl6HGNdRlDVc4znjqaeTtBi6VgWyc/lqM6PVITdRJMFu6a41cZ1iBgA1sKkdYVM9sTKDiiNq3dsNVZ4+pPNatIT8L2qtC5dISf/OQnPkfvbr8WJsXlxldpKx48htwWq2qwXWXY6c5i/kVi0BBZ3WseubTpPOcM+BjYW7zXkR7mWSLFCTEAHVsUPWA9UcITil8YNYfzhWx7ogaVARb5lzeZtA2OWCneLxvasQ7I28oViIiDA4iDM5XArb16UHJrR7pa1IrIB/712mIqhxKGruPdJ+f2O0tuhxklnmrXRMzxmsTwBpHPxNSkaKaAASVvXiKq0vuRiuS+4DvA8RuqDPKsvlDyJlr/enKujFEZ5EpJZWN7rfFIK3H98YPKIBsKpWa9VdfrHetP7J4SKIESKIESKIESKIHpENCZ1E/TodXdNRimm6onrD85nbuvuUvsHf1Y/Wr58a1OOytMH3LQDuzUubWTFWBETd+SRaALbWRUJ1m3c7gm2yEWvj36+frPrO4plytWG0vBRlQGmQdcTtZ34zMEOKghsQE3GXrcsCysFRzcheDiglE6XASlDS2LDS/SnQOBiasMGrdk9ktuyfTVshnqvM01a08Ck1JKu9Hut1g3Wk+sZc+AgV+ChQiOHHs8UVpGGp/GoU1IzE7Js2RbS2XFbb2tuIjjNS8p2kQUBG1OQ9zQXk0RoiDySvIYO3LDR2KLhT3UYaAxQc0C4PDDnYnpjga8HkjOHfEReOihh7xcgHWMhwcZ3FIin7YB8U70uV6hHO4r/55b1TRooorjOZfsJCvKSax9Bj+lADTZyDSqqAxRDdwIPfudaAaXw2B0ihp0C5l0LlzkhtxacSip3tpUBkFuaVJRFvKt0/3r02FqRw5Hy7UGmoLLs2xIG74ovZ3lWU6cKAMarYZ0KPIT2q8skpzIhqdDiYAFUH42zPOEstHLlkAJlEAJlEAJlEAJHJaArhrjPP65CQSQsa50uQ97+hgPiHliNFf/X4eWhaKPLel7ywyv4dyLjZBuc4wa/+qW82vQ/R6Nzuhb3dEoJuk8b2ImjLEUo5dirOney0OsNiWSk0N1zmXPAb5lUOjz6047y7kKYnuLOXRiLuLTBZ0YDj63bjlu8V6rcNjEVYY1EBlvJsZrAYKFshsNoWvrWYNwNPzG5uhjiWl5TuTPT2JgiDJcxQj1hEh5EjSIWN0kOgIEs23zy27xW3NAzEESOoVJ7LWyuflnSNz6KHHv2fzILd59k8OUOs9epAevG4jIOvLJ5YG57tv1DydtAjcznQY/hQ1v4cTY3uSMUbETdkoKCcMDaRKUkuLjCglOi38WaMgUFaKAuohiKvanf70H1YvDXNweKsZoNhIIg1Cifl2TRwxtItf3b14fykiDMPtmCZ5/RYhwq7Lo0F5qVAbvfb9hk248G1Z6d5ZACZRACZRACZRACWxIgFGq16qfxrrRT9PxZtVnMi9LJ+buhidOYqf7Go0ziEtlyMgZE0mW9CH11Yf+f7QDnUydZ51w+SdM6G3OcK7HJGj0mvNAYNoqA2NS3H6Wpw2GKNmPhcmYZI0n9MhWoERlcCLt7f/+7/+sj8qultjSohhKHmzXYX/Gl95yAB6ncakMxpbFm7S8KouXopF7HSrbbG8Gtmd4CqKmF5yXCJ2PAiLOqvcI+1xIBToCndKrRCblZ01WvRm//vWv/+hHP/KWPFQp7Jd/KbcYlSrU4/9j786fLa2q84EnJn6jwTiDoAzN1PTEPCso0ZSWqVSqkqrkz+EPSiVlUklIUsagRpQZuqGhaRrolhllMCAC0arvh/skb4733r59h3POPcOzfzj33Pfsdw/P3u9+13r2Wmurjv5PPbZOKQ3UBigsg9WNqszewRqnkCy+VkD/Jh6HQcwckAd5gUEYDZkh53e/+10uNsgLSdTGO+64Q2vTTh0Mi3TXXXexjtHHDdo/Fz/FFgNK+sWcAaTQAAvYyzLMxQi2kUWgCBSBIlAEisCSIIBlIKeRiknaYRmo+mEZsise2+rpoEF6TFQ4cjUJmRyOZRDBMdL70JIPjWZX9vnTTl+I0D5ZRhPap9PU1rIkCKzWOSfdbQ9hLO0pjXRv/65Sv6nBrktr9eGhbR6PbPnSxDxLHg/b6RR+fhl22tENuRfLEJsZmjDde23Xhro2oBuzTIw2SYOVhvbThcRKWVvybl3RNlVrGLVf9xkXUFyFG2ALwIcCMnoqj089yncd1B3sAJMHgGxVm7W2UoPZIDBLweOAmravRnqyqjVGgakIi2HJUx0aQgYsgwXRF4200uEXNE/LNSZuEW6P4wBbL84U7Ed0CtU62DLooEKs76cb3y2Ngnbqi9Issklp/7qFDDMw7ifr5tnGRfUCZIiFqV/aMwzTNgrsLUWgCBSBIlAEikARKAITQmBlD+5DU2L7Z4RYwmR0E0I1gTZi+YSqXlUsWdpun81FKlKEamKktC7TgVbIzl9okYRgI4JqvL5INIJ8UQt5W9q8ybAao2goYQNZ+oywDG2IWpetOKJytJVV/YoPuF91n5RuIHK7z2mOwhk7tVQZps0yrAI3TybegTZlHmRexh19A80/Ol5UwUx6iq6NbiYSvqz7OK07qKpQl7QuB5FbooRrp2zyu2iWeyY9nJnH65a8uxctc5oNJdZQ2syKgd8EnwIXrXoD5h5+3wEYw6qMwjZYBvQB2LEMbLSUmSNLjU68p3yqF6khG1JAe6BnFUtCEskPLvUmRI0MVgq3Z+GDtiuWSySrIda1CWFr+pmERlnVsSYwvqerSwstuJiUzIfTZdvqdfXCECYQQ2AZLE3q4rhVGJu/CBSBIlAEikARKAJTQ4CkypzBbhmhl3zLpiBXptYAFZH2wzIQIAnM9l9jc72uWkTEjRUwq3Cx83mgIxpsE9o1zIZfVCRbqkom7pLJN88yEFzhQK1wI6F62yCQzDVg0BC1mZysm65Iq/qleZHMQ4hovza4PcrOttvQG3eCwDhZhoTiMwlohlKUzFVaa6x0MhV8+tfw20g3F6PqmxaS2eNTx7KtnZxDP1MI3VhdfjLPcHUUUWmUtBtUQZNyXS7N9I1uqa6o5UqTc1V1aVImutYq1hS34ezh0QC/epyGua5twSFFuZ7b0/ih+/lVTr2WAUpyrnpgtj2usRZRGr2d2ux5s+4cO3YMF8AcwBXwWg31SPdDMTBDQASEgBitNw2GiS8KlEFKa5PNXZRhFbnISMGnZSuHQeiaXyHmxhCiKtVZpRkRmanTSdojs0IMnwzqksfCpG0gUqYlL1YMGj80L7PIWMjp+7bhyo3qhZsWGlmLqWI1UslqlwZV34hL6JI4awBw3am1vcaoFyCIBtUlFubaZXR7JfeuIlAEikARKAJFoAgUgUkgQIYkqWIZiLthGfxLgp1EXavKjN6hLqIpCRxfQBvCMvDsPnTokNhw6yoX5FteyTzWid90hOg1RFDmDLpAGHY9phDK1yOFu4XEG5VnKDO6mDwQIBJHWvbroOG7K8qaPFtCI4VoA8lfk9yrKCK6FvpOvxhKU7JE2dHIhJnXjOggYRmI8VuqupnHhcDYWAZqHr2LYkbDRIyZ6OIvmN/87UfbahJQaM1jBvyoPmoVPYpjvyeTjre2V6aUGeMW7NrwuJp5pvKoF4MHwEMij59wFilHY/gj3XvvvUeOHNGetYWvuqIuczd1rdVaVYcdFPpB1eIXaox5TxXMARnDdE+wAFAoByloljP1l/Lg+TXd13dN8lQrUNTDGFbJfMZGbj6DdmobWkEzPHioSouOPqoL3aA9/LU8t9qDgEhUTkM2oJeKPLfaydzAjaEnrJthKJLBAwwEvyrTEqPj7CYADkkD6qK7hsXIc658w+SLbK4bNS1RppyxZQCCK1lQzA05jYXS5FevMo1CqjbojDXUJfxEFp3Ng7M2p7qUzO8mJ26AxTRWMgylYXIy2RBJVKVsQ8xey9/aorZ9xYwdZRlgMrqMbrvY3lgEikARKAJFoAgUgSIwIQQGloFkGxWAarNWlZhE7Wqhe9u6I6tTKzSAtByPiXUVq7SBpE0+pxEQy4ncpP2Y05KBowgohEhMuibr4iMI6iwjKGvEfjdSMZRDFSIqk4rxCFF2sms4dDNKnBIS0XxL3ddCbVAjJCNsU2fI3lrLQV7Xwh1oOd1K0n3C+f3336/N5GemHNQNfSFIl2XYEvJjzDxmlsE2rBnwgx/8gHr2F3/xF2YGDW20uSYcrdWMNC/DMpivtqk3ZhmoXh7aUZbB85x9chPdDKNFm15UVvPJv6nRtFbRv//7v+PqPHjR8zfADgNiaiZQ4loCUnUeWjMbjULjTbCAnK1g+o6yDNmlp7pLeufX4dgLj4FeU/ipxyCiyn7rW9/y8Lg9pN0GzdvqTyACPmbBAqTN8Lnxxhs1wPPpukdXxE31hosBoGweSKzEaEVwMF6HDx/WqejbBisMZbLFIELjOUSokeYPHIPiSlgYC8FalkGl2FbdH2UZ1O7G3KuRSrNa+Rd1GpbBqmFGDc2zqppsYn8qRAaZtwrRaH6t1QDzhEubmWDK4ZIQMWggPw0rtWaLRnnPPfeoVC/GzjLAJEs8zqUsw04GtPcWgSJQBIpAESgCRWAKCBCMY8tAHI0WMKq2TLQBEZLJ+cR1lVJ2qEKk5VX23avaIBuxmeiu2dnYozRpPBGUMEyTUghF3b8O8qOyEXcpFLQexATdISyDbH4Shp88fNtttylKLaPaVlgGgNAOMBFbwiF0iUbql8b4l4RMLFe+xmhJSosVg44Ty7EMP/rRj2wZxmcEAuFQzqgAbqlhzbx5BMbGMhh+o0ijzliaTMbbcZXmxGhrzDNWDCYlLc7kpusKpoAeo8HSV4ecZjAd2E8ump1MEjwD1OBM7sxvWmjIKtl8t8msatqyhySslSqo1hrm1w1mmKVB7bRredI85dOuXTS5JXPUhNYSZHCR7UsAACAASURBVIFDH12hq1NEFe4wTg+2Vg3apidNIdrsyVSgu9Q+9EsXZNBC9wLBJ4smz4Y1Yi2vsflRXDcnEDQMuUgbjx6uSWggEOmgToHdYRnqtbLgPjAyowYjKdOvlG23+9d4wcrKMgpmeAGlGUpJ71RniFf8V86DIRV9yK9JgFIL0LRE5tATrigcsKN8RNpvHcH7qIV6r3YZEAFpm0L8tG7ft3ERJuDCoUiQ0TYtNL6644uZljKhZHDDK+mv3o3RAkWlsWVQsiWyLMM2xrG3FIEiUASKQBEoAkVgmggQ9enYdPtoASRtaeyC/bo9okGQVMnqFC41agZplvjtC7l63VtcJJlHF5CNBE6Mp7jRBYjWxOCwDALqowlI3a5TfFg0RFSWP8SE6uynEsWVFmcKXwjqhHZ5KE3ZsSM2u5dETQ1Je2ykkXJTyOlaqBwCtiSzDb9bb71VdeClEhKSAR61MRddt4MLB/npFA7ak6ghqohKeLpaen2iCIyNZTCxYr5CXTfMxtWMtM+8qvWUc5OMmm0SsM+nA+MITETT0dwdMlPe+BF89atfjYWC+R3Owl0Swwc3xlFfISqiB9JC2SwwEPB0Ra0N8XHNNde4YvKt4jtG68LP3X777XgKtdi3j9VN6rJk+FWnwpz59Cjqqcy6icDTU4/x8KjEkkIDqMfapmtKGFXLJzqco4V7yHVcA6DnmdQwz7lm012tPhqsX9/+9rctIrqMD4KeYyOtAqOFwNBjLEHD4wp2z/boSCWzDkLGkoExSRiIMC/qMpSj3EGygc6qpGGGMueDWOaGbEMD1Mj+QlO1TTKC1qmf/OQnyaCDfjK+1prYYuwEW0WFheXDZkZZr02qBx54gGnDgw8+mLVM+YZe17785S+HLMvo76Te0XvRPSqVDE3iMqyFelx1tZwiUASKQBEoAkWgCBSBnSNAEKUdkFrZ89prJM7tXC7dZKuo9+RGUiuVXjPI1bZpCbTE79FtzlWlEblJsKR3+heBU8upCSgGvaDS++46BYHSHq4ku7BEX3IprWewZVAsCZmmQ01w7/ATHU35lH+3UMFoZ0TriNluYfggybOZPurOV77yFY1kVcESnKbGoBi7kTZo3krAtP/2RXduuOEGYrxEC3PjWs1iMzU2z7gQGBvLgCsyoaUEw6NMfv/73+c6Qflft63f/OY3TYJvfOMbsRTIXBlyuohlUCbrdLvHJlZ+ouWa/cI9mOW+eyquuuoq81tFVGXWAaN1mV5fW0mmNWrD47fubHM7pc5PZq2HgTVOCjH71aWR2qai+HSEbnCLB48KSv/0CI1W6gHTd9q127XTyQjrdj8X123PBvlHf3JvkovrlqPZGAHb8pgFTbJkWCN8B4snP6YiKB5sHwsLj6uR4oCwqjsK8cRS9S03QLDirBqpNCkckyUGyJ5/1k2Gj0Iee5CheQbUyFopNMMSjGhAgsR2QFPXdhxtoWrD98///M/33XefYkfzGAuDe9NNN6E2cBA4lHVxCD4DVmtryRWYSEZWw8wu3bTaPvTQQ6vy//Ef//Gf/umfmhgGGm5m+6gJxukK3+R14MeWQWuhtIp622QhzVYEikARKAJFoAgUgSIwNQRiy+CTdkDYpnRM05ZBdVgGn+RY4jQJ3+ewPbYuCOTMWAqEZaDjaLZNVnqcjUAqA9lbsq8mJ5GYPEzloeSPlkb4J6VTE6j0YRnCa5D2yfaS3UHSOwrAjaP3ykCQHmUZIqWvK6vrjmR77zvf+U5UFYrhWhKHUnD99ddrDMWQ/kWDWNXx6AgbVLQ2/3DLuhj24hkRGBvLMNRE6TIbTFCskjFmtrBuI6jfZhhF1CzPKI5mc5GirhBT0xQ37/Ori+Yxzox2GkMgeqxslD2VrrJWULgqJAobNTszzyz0ROXelKmuMHbq8ljKlusuDnYTo8+qp04hHiRV6wVybrTlrtNRVc0ZYSDthgza6cGgXdMnPcn0ds2WTfkbMI7D7Z5zLQeIBykX9c6zva5pfTR/o4Ao8YlJCRqWEmgMZfrugdQLywrLqFXdUQieArkA8MFIZLS/+a7x8uAafSqHwp+62CmAdDDlALWxwGvor5/YMiRaTIxZ1hYLSeBoAMpTOVbA0Tygw2UYCxchgB3wr8AZqlB+FlAgy4DMcnFoEqZj7ZRLyZqqRgufkQr9tKpVCrF4mRhmHUAAm+HWkY0X9LW9G65gK8w9yOtCTM68J0whBa7L6WxQVH8qAkWgCBSBIlAEikARmCYC1GYiLsmQ5EYsJBUT7eyBxaBgorKc6kj4BHj6hS6rmiQ8KudvjANlh+W1u5QgEa2JzYOXwajcTla/5ZZbRksjSw86Ajl8kPaHPMTpO+64Y+0+IspARWoh7spML7CBx4WcjK3xZGy4rW02SVtpmqGdBGZoj+ZRoMZkB3pUy0seKLmRsC0PzdTo0H3WomSksi9LifMdcSObW6gGSljbpF7ZGIHfjenBxpm29KshzPDTCc149vPr3m7OmZE+TTJpldanVW5UjkIkkymFmI6G2TNsEmRyJBu1Vl3yj9blmZFHFfKkELPE4xSVftDqTbU8WkqQLAqjdcU2QTmetFxHEEiySbyVYko01OsZ0x2FU0F1cNVEp1ffvZJ8ca9sfBY8WqZ+cFgXq+GiurQ2HiKmPtA0jM4ME2nVKubxk9Nw6JQnSnVySh7dwJhiE+lQaXIqXBptgyqoux/aqJx1FtykdfVzdyEXJCOVSoP8UFfuki3oaQz0wL6q8FXdNw2UJlui6axiQHQ5teig8ZVZ7ww3zHUwSzzE/MSWzAwJVprkRhnW7QjQVAcTLczcW9UkVZhFqsgckN/AZVUanSQbj+OqX/UrpTHZ+Md//Edj8dd//dd/9Vd/lSV47aq9pcKbuQgUgSJQBIpAESgCRWByCJAGibhkToLc3//937PqJd5LFGYS40QVVNJvJHBivA5mt4ykGgX+jF0mjbudxBsVI7u8A2Wg8FGtx/fRAqMjUA0GNWGVaK1kG6vE2lXNIN/a/KMCRO9I1EmFR09RoMavbb9yyPPk89y1imUAsmZkiy6K3mil0YbcS8j3XWepafEfH83merb9smNKPqdWxLIYMhNli844UvOYYfwswzyiMIU2eyQ8qzwF/u3f/u1f//VfTWIT1+oT3yRfptCGVjGbCFjy8ob43ve+Z3pYBLEMkhVwNhvcVhWBIlAEikARKAJFoAisQuCuu+76h3/4By63dt352LJZJu3TfgtUEVhCBD6yhH3elS7b5EfCMWHg/WH1wcCxwOGd4XOtYc+utLCV7hYCqNO4S/gSLhZjuq6pxW61sPUWgSJQBIpAESgCRaAIbIxAXJvtw5PobM7HE3bjW/prEVhUBMYfl2FRkdphv2L2L35hTs2wTc1LAsuwKkjEDmvp7fOIADsXPhqM1sIyxFGtLMM8DmXbXASKQBEoAkWgCCwtAliGFSfmj9lNJNeR7sbumb602Lbjc4dAWYYpDRkzeBQDWwbxAsRrFFtFDMsEbqBVTqkRrWYmEYgbmLcRusH08IqSyjLM5Fi1UUWgCBSBIlAEikARWB+BbBSxSK0tw/oA9eoyIVCWYUqjjWXgKCEICu8s0VzFU+WsJUgJfbLh/aY0BrNajVcRtptlHZbBfEj00FltbNtVBIpAESgCRaAIFIEisA4CpDgUQ1iGhDmvLcM6MPXSciBQlmFK4xyreAZUoqo67pE5gy+NyDAl9Ge7mtgyhGVgy5AwtrVlmO1Ba+uKQBEoAkWgCBSBIvBbCMSWIXEZBGXgLk3+L0ZFYDkRKMswpXHnHHHo0CFeEnRIq4+4DM5rmVLdrWa2EQjL4FXkC5aBO189JmZ7xNq6IlAEikARKAJFoAisRoAUZwdRsleUk9HLMqzGqP8vDQJlGaY01CwXHGbjAEv+EZYey5A0pbpbzWwjwMLFxOA04UtYBp+1ZZjtQWvrikARKAJFoAgUgSLwWwjYJRpYBnKdE8TKMnSKLC0CZRmmNPRx05pSZa1mrhCILQPLutgyxGNirnrQxhaBIlAEikARKAJFYNkRwDKwSGWzjFwg1yEayjIs+5xY4v5/ZIn73q4XgZlAYJRlyPupHhMzMTBtRBEoAkWgCBSBIlAENo0Ag2UUg+0i1qk8JhqXYdPINeMCIlCWYQEHtV2aLwTCMiC8fSnLMF9j19YWgSJQBIpAESgCRSAIkOKwDFJYhtoydGIsMwJlGZZ59Nv3mUDAq4jnXjwm8N88+nw2LsNMjE0bUQSKQBEoAkWgCBSBzSGQMyZIcbL3jInNYdZcC4tAWYaFHdp2bF4QGE6y9MWb6Q//8A8b/XFexq7tLAJFoAgUgSJQBIpAEBhOsrSB1LgMnRVLjkBZhiWfAO3+7iMgMhCbunfffdeXnIHUuAy7PyptQREoAkWgCBSBIlAEtoIAlsF2EVkuHhM9Y2Ir4DXvoiFQlmHRRrT9mTsEmDBgGd5+++1f//rXYRl6yuncDWIbXASKQBEoAkWgCCw5AqI/2igKy+CQcrtHZLwlx6TdX1oEyjIs7dC347OCQGwZ3nnnnVGWoXEZZmV42o4iUASKQBEoAkWgCGwCAbYMKAZEg7xYBqkswyZga5bFRKAsw2KOa3s1RwiE+RaR2BeMQ8jvOWp/m1oEikARKAJFoAgUgSJQBIpAERgQKMvQyVAEdhkBZgs5wBLLwJyB94RPHn273KxWXwSKQBEoAkWgCBSBIlAEikAR2DoCZRm2jlnvKAJjRQC5wL7uYx/72MAysGgYaw0trAgUgSJQBIpAESgCRWCyCPCPIMJJ2UDiQFEH2Mki3tJnGIGyDDM8OG3aciCAXBCR+OMf/7i3EXeJ9957r7YMyzHy7WURKAJFoAgUgSKwOAiQ30hxjFKRCw4mt4GUGA2L08P2pAhsGoGyDJuGqhmLwGQQiC0DlsGXsAw+6zExGbBbahEoAkWgCBSBIlAEJoIAKwYsg4RlOOuss4h2ZRkmAnQLnQcEyjLMwyi1jQuNwMAysGUIC15bhoUe8HauCBSBIlAEikARWEAEEl3rgw8+wDIwZBDYm2i3gP1sl4rAJhAoy7AJkJqlCEwSAa+ieEw0+uMkYW7ZRaAIFIEiUASKQBGYIALiMuQAy7AMpLuyDBOEu0XPNgJlGWZ7fNq6JUBgVfTHxGVYgn63i0WgCBSBIlAEikARWBwEeEwwZEA0DCwDGW9xuteeFIGtINCpvxW0mrcITAABbyA2daIE1WNiAui2yCJQBIpAESgCRaAITAMBtgwDy8CQoR4T0wC9dcwqAmUZZnVk2q6lQQC54FUkSpAQQfhvoYkb/XFpBr8dLQJFoAgUgSJQBBYEAbYM8ZiwgSQuA+mutgwLMrTtxtYR+P2t39I7ikARGCcC3kBhGXxBgTtdoizDOPFtWUWgCBSBIlAEikARmDwCWAZ7RWQ5+0ZEu8ZlmDzkrWF2Eagtw+yOTVu2JAiMekx4M7377rvhGpak++1mESgCRaAIFIEiUAQWAAFnTPxqJdkxQjF89KMfrS3DAgxru7A9BGrLsD3ctnyX5WY0rbpfkBhXfA5pyxVs64ZVTfKvYiyIaUaKHPL41/ehqcm2rWp7028hAEnvIR4TvqDAEzooY1GkikARKAJFoAgUgSJQBOYCgZxHLow3KU5QBtLdkp8xsa6iYSgHRSNqRYTeKStBczGj5rqRZRkmO3weG0qj9POV9Prrr7/11ltvvvmmZSjPmNWHbiny3ydX0hdW0h/90R9NtlkrpYdt1Z5XXnnl5ZdftiZqpwXx/PPP/9KXvvSJT3yCuZfm/WwlafN/rSTXtfOzn/3seeedJxumdgpNXewqTAAwfvzjH/eFrwRDhkyPxe51e1cEikARKAJFoAgUgUVCYPCYINGR64RmWGaW4Z133qFlSG+88QYN6Je//GWk3CBDofjc5z73mc98xgbb22+/LXBmNAugLdKUWOa+lGWY7Ojn4Fx6I03+ySefPHHixMmTJ5977jlPlIqRdrR6yWNGY5euuuoqe9pTYxk89s8///zDDz/86KOPYhA8/J7tm2666eabb0Z2+I5oePbZZ7Xc50svvfTiiy+6/sUvfvHSSy+9/vrrzz777LIMO59AsWWw5vaMiZ2D2RKKQBEoAkWgCBSBIrArCNglShhvEn50aYL0rrRkFipFK9AdaD3PrKTXXnuNU7CLn15J5557Lm1Cyn4n6GgWFKKyDLMwdmNpw/JO/bHAd8ZC8As0eYYAnq6nn34ay4DMw+1Zg3JvQtHK46J0zjnnXH755WcsdicZYl6B/vjFL37x6quvev41z2Pv4ZewsMjFz3/+8ywdcgCPPChGSc7jx49bHZRgdXCLQnbSkt4bBLAMOckyZ0xAHglltQXvqOtK4SoCRaAIFIEiUASKQBGYWQRI9eRkErIW2jXMdt3MtnZCDaNKEGWBcOrUKfuUdAcW0xJVIloPfYeIK1EofIcYPcieK8bBvRNqVYudPgJlGSaLuYcHh3fs2LGf/vSnrAY8XUiEr3zlKzEBwEHkerwVuFTIP2lreQ+w6uixqtMkD3YslI4ePXrvvfe6wuwCG+JXKi4FmH/EJZdcglbwr4WAIYPEigEZ4dfJwrccpTNh8B6y1IZlsC4boPhN+GmZbe2WY/zbyyJQBIpAESgCRWARECBd25m3jUeoIydziF5CWwYSrI1JCgX1h3Jhn5Wf9cUXX/ypT32KsbZE0JXYUNNBaEn4BUAxbYBVwjQswlRoH37nd8oyTHYWUMv5Gtx3331MGCw6Hi0swze+8Q2qu4r9ev9KeuGFF/ALwh/4HMwcJtSy+IwhFFWH40A3ctO48sorbaeztnjqqacYL/hC701Lbr311muvvRbjqLV+sgpgJcIyVAEeyxiFZYjvDMzDMnhR+W61LchjAbmFFIEiUASKQBEoAkVgogjYJSLtIxqIzWR+5gyku4nWOIOFk2BZLhw5cuTwSkI32F6lShw6dGjPnj0XXXQRGwfp8ccfpyL9+Mc/5otNObrwwgsr8c7gaO6kSWUZdoLeme+lKCLqKPO2/S03rAD4RIh0EpaBYi/UYsyEWBBgItg4TNpAQPlqCWuoeRhHD7YmWQqRiDgIWi5DBmyCxz5OU7ykqLtWB88/JhLFkF50OTjzDNhEjlAJPg0KmxFsjnHBARkm/y7h+2kTmDVLESgCRaAIFIEiUARmAgFmyFRrFIOtO2K2iAwkOtt1cT2eiSZOpREBwZYk+wUkAlGW1iDt378/PAKPbOoGtQILg4th7gE62gS1yEX/VrOYykBNqZKyDJMFmrrIIgilRzNnAnDBBRd4wKw+1h0VUyxD4HmofKfwW5Im/YApP35iIRc8557tsK1WRv9iGURq0FrWTSJBarkn310SToTq63ZdCCsxWfiWo3RDD3mfWXmxDLgerFPeT9bc5YChvSwCRaAIFIEiUASKwPwhQFVmI0xtxjLYsSO5kegQDaT9Se8dzhRYeBYaBHcJLMNjjz0GCroGt2tG01dccYWdS+qDBtM7bKGBCwGRvU+bnfYvyzLM1GjuvDFlGXaO4UYlUNpxB/T2cHUDqRnF0r9clXJILMXSF4/ZpE9t8DxLHm+POspDpR8GYPnfOI4alsTyglET+wXtSbNzZaPe9rftIhDMvZAQOrxmTAZMMMBNj+0W2fuKQBEoAkWgCBSBIlAEJo5A9hTFUE/odIaoWAbC87IFZdB9dtkOpOMJzlEiodyuu+46YR2do4dTyEjQLOxcknJBRAD2CTECMDF4qUiZic/L3a6gLMNkR8D6grFjF+Ap8siFR2ARoFbPElXfMuS7h8rDxltJijPFZJs1UnqMF6wLCf2qwbjGfSuJnUWWSI2fWnuWuSKTgeUIWwbzBMuAcspUWWZM2vciUASKQBEoAkWgCMwyAoPlMpcB8nzMGZZQYbZPxnybnzg7bt3HHZBj9+7da8+MQjGMIKVDTnyEXVhqSPy4qT9seJcQtFme2DtsW1mGHQJ4htvjWo/AozTi9oSE4TQh6kF8FjxyFEs2BZ5D1y1Srk/almFVixOIgdkSloHZBeIDy3Dw4EEsA+OlsIxlGc4wzGP6GfEEcytvYnNiHLyuxlR2iykCRaAIFIEiUASKQBEYPwIEeBI+T4GwDIgGadIe0OPvxo5LtE8GBLuqA8tAu7nsssvQLqNmHVgGMeloQ1gG+2rZcy3LsGP4Z66AsgyTHRIMAorhwIEDHiHPnuTIFodKCIiC3mMsgGXghhQ/pbVN8fi5xaf1S5IZHzFeYwcsgyo87VYELIM1MZQH+wtL5Ok4RQ4g7qIPu0XDrBHumoK7x1qIFukKlgGzYCCkHOfBw22ROti+FIEiUASKQBEoAkVgwRAgDNuus41vp5DwTLzfQIResL6PdodeIKwYlgEgcYKgsxBuV3UZF2M7bdA7KEGy8afwZa3eQQmipEg2PmWQFLhuzgUGdk67VpZhsgPnSRD4JHWgORkRnTx50krkC2MBRkR8lixJowzfaIM8gUhBjl7Z35bZLeNlGcIXIBTztMd3w/oY/6jToYNZQJRom75oG3snYV2mb4hxuubN6fWwDOaJo30MuiW1LMOcDmWbXQSKQBEoAkWgCCwJAqRiUQ9p13YW7dIxCl7OQIbxmGC7jRGwbZaA92vnQFgGRAMdJO4SKAashO9rWQbqyVNPPXX06FFuFznkLqbWa3OurahXdheBsgyTxR/ZhhrAC3hI0HvWIKojcwafeL7EXPQrliGHOKxqjSfQmiV/Tt+lc9L/x9vi2DJgGfK0s7nAv3qMV/lQrarUesqfSghZyrC2sWVwl2iR423bspWGZQA7fkfHzRDAMiozSRIbctnQaH+LQBEoAkWgCBSBIjDjCJCBifRkNrYM9OrYMmAZllANZndAL5DYa5Nm2TjTg9YOH5aBQmSfMiwDS22q0Lp7qLClnlA3fvKTn3C+EL3OFWXSU9YW2yuzhkBZhsmOiCXGDj8t0TkuNHP0G67BMuQhYQjgybEqYf7o536SVrXG48pyXs6U47k6ndXDtruR6I+eds+8ptJyrY++oBs2WB+tC24RP1YL9Y56jLbcIP+2m7dUN8YzLfgb6BBAVuEcabmEDn5LNfrtbBEoAkWgCBSBIjBfCBDVJCI0YZ5gTKimLVOwac5LKBXrPmUHIKwSUAygWDfYnI00xAG7XXtp8QRfNxtdI5Jwzq2QE6RUIdLyfE2SpW1tWYbJDj3NMBo7lsHjcfHFF3uopDxdjz/+uFWJhYIk5wYsQ7a4J8EyeIAxBcgORKzykQUWBV888BsEfbSI0H7ZRFlQLKYo27IMO59J1k3TYDj9KM4sMRXJTzuvoiUUgSJQBIpAESgCRaAIjAUBUjSROIcmENj8a6+IRcPGe3VjqXoGCwkaxFdKwQYsAzom2hChl4KzLhlhO1ZpdBNh4LAMNlx5oA8swwYaygzCsrRNKsswkaGne3uEJKV7zCQUgw1/D1LOlfDkMChipyCPGA2esSF8g1uQDng+Px07doy7BJMB6xei1JrlueJ8Qauni0rKlHbSBy3BdGiMKrRNaQpf1zMqtSAXtE2bn3766VOnTmmPhllQkCkx1hga5kvpxi0NjdVTgqQhMGegZ201NLEWKZhbArOZi0ARKAJFoAgUgSIwOQRowrFiGJyOiXA26iTi3BJqwgChAflEH9ApVmkToWOoG8y6aUBIGY4PkqAMo7YMFBNqBX5BADj8wpNPPsl5nPbhLrHtFOtemlF0K4oV8Xg5OZ3JTexxlVyWYVxI/lY5njFPwqOPPurqtddeGyMfzwDtUZgGn540ur3nkFYfUwLr1FAEHoGZw+HDh7EMni6Pk8eMYo/5U6YHkocF3yTEhDAzO2QZtCS+ZKgNy+IZrbzYL2iD5mkYlkFPPfYIhePHj+NK9E7DJB5Z2mbhmAi+C10oXwm4iR5kZE0SgHtpJVjDQve7nSsCRaAIFIEiUASKwNwgQIy3G0QZpgOjFcjnBP7a9p5u/PALfMYpNT6pHjQI6oN4c6siwVFMoCqDiI/SE088ceLECVoSxcpPIkGGxxEO/6qrrkpQfFwD/E9Xb6/vFgJlGSaCvCcHI/DDH/5Q6VacQ4cOYekQez5ZUrmIqEMleGbQn1K+D00Jy3DXXXcxELJ4+XeUEPV03bCSPGwUUfr8TvqAL1S+Bx4JQrn1qCtzgxAA6MMfryQBIyVtGG0bl5Drr79e21zEMpZl2MbQhGXA18Rjwhxgeuf7NorqLUWgCBSBIlAEikARKAKTQGBgGVgfx/E5NstLaMWwGXixDCgGG6j2z6ge2WrFMoSaGUrIRiwVw47m3XffbRdTZluhWAa7m0O22267zXdqC36h1tObwX/6ecoyjBlzz0asp7gVIAjQDTkkYnBPkkHywFiS5EE3eDwolqMknKflsssuu/3225kzJPaJsA6XXnqp61YxO9uxF2DRoNihA5hUXgyeRrYS9FIPXtLpLO1VLXluGVNgOhKOIZ4dG7AMloOrr77ajY899pheiCWhbeK+ukXC46ZtOzeyGPPAzE9xxsvAMVSJORk2F+NgzsxPD9rSIlAEikARKAJFoAgsOAL0ZJKw7TcCPxmYMMzylC3Dgnf79N0jwdqqpKdQhWBCzfGFKpQtVWIt7oCdAtXDRcWEjpGHCmNTzU9UEkjCEJIUCtu0yvQTu2maBdl4sO2lKF155ZWJDbeB2nL6xvaXiSNQlmHMEGf/2XPFx0HiVoSxE1uBWu45wSZ4ljxCHqewDB6khIccZRnQBB4eD6rSkBTIP0ZB3/zmN2n4CnELg4gh/MHQAWXed999LCBk27dv3xVXXIGYUNTpWAZPeDgRT7XnX4GsJLAMcSc7HS4K5wPCKMPCitFg2P+1r33t1ltvVYuL2qychI3YoSvH6Rqw8NdNEuQRCsm4YG3NE6NZlmHhx70dLAJFoAgUgSJQBOYIASyDrSCCOo3aXh3jYpt8ZRnoEdQfYcXoeDQ2wwAAIABJREFUQSEUoBSmAMvAFzjUwzDQ8lBhaCU5BdNOG/0lLtg0oCg+1KjrrrvuK1/5yuWXX54bAU5nSUyHsgyz+dSUZRjzuHgMPFoeGASB1cd3zgjciujkHiEPA4pBQnzmiaKT4+GsSqM6eXazMXwsBdxC22QvwA3B+kWTPx1roFhKKaIBmUpT9fixLNCe0/WQ4qqdCvcM+yKbNsSWYQPvJg1WLEIxvhXnnnvu/v37b7nlFg2rK9rpoN7SdeNr0CHsvWWMvLoQDeZP4kGebvS3VEUzF4EiUASKQBEoAkWgCGwPARI+ATub8OR8QhpJ3v4QCZmOvb0yF+AueoTNSKoBFcaGq31W/uN2Romykh1NuFFPslcaowZMBPWB2kKLibhrqxJrQN0gDEdFQlJIqAdEA/uFBQBqSbpQlmHMA00/92xQuanrtH1LD97u/vvvF7zEY+NBsiqh6yj2HifPIfqARZBPC9PQFHlQfR4865fVij7v3rUmDztsOgYkJkwoBo899dUjHeeoDUhBmS2mnnYriOdffnfpl1vqh7bDEcntkDTcJhJawehD1WQwkUyABNQdSy0tpAgUgSJQBIpAESgCRWAbCNhKJA+TounSduDJ7YRhajCuYZlZBt2P+a19Mvup4sRDieEzTKRsoRFlo+aIao9WEFHep2yUpphyZ4eVYkJRiu0DLcPemxtHj6LYxqj1likjUJZhzIDTCRFyMUZgeuAJwd6JdEKl91BFmferR8gDg1/gGcEBAd1geRqaErcLj5a7omcmaIIbx6jJKxyPiDLAZQwsgyVAjRvYMoS4DcvggZfCnmj8GNs25lGZq+LMn7C8sI2Fi9cYSzMzJOzVXPWmjS0CRaAIFIEiUASKwEIhQFC3X0iEThQ24hkhTQR0Ytsya8K2RQ8cOEAdoF+gGARTeOaZZyDDidt1Yi3dBw1BrKXjUCUwEfgIMLol56lhatgvgHFgGWQGKQeKsgxz9wiVZRjzkNmITtwEDII1iOGQBUii0vuXFQOmgBrpEfKToAYhPldFT2Anj9jz4OH2qP2oQZ/uOp0aT/OPiYFaoqOyjMBc4CY2sErQTvV6bp0KoWSGXp78M4ZRsXDEbwoTof0qshacrmFjBndpioOtZPiMjoVYvzG+mVcW6KWBoR0tAkWgCBSBIlAEisDMIWATkQpNNvOF9ktK92mXjj68wUbdzHVj3A2iVtBu7KpSZGgHTHHVQPGhYkhiN6IhoGQXVrw57AOFQkhICotf6U2E3jhuu4XShH1gyUuHIvrSOCBMEh53k1veBBEoyzBmcCn5nh+fnCBo7FYf+r8UQwbMXBRIjJ3HT6JJWptWrUrIAg8Vhs9T6nn70GDgM5/ZgC9QiygPbkE3eDIV6Gn0MIebOF0PtcHTLr+dcxRj4ji4EveH092lLiuCdUFHPPZWE704XeZe3wkCxsWyiyzH43qTmVQ7PLV0J43pvUWgCBSBIlAEikARKAIQsOVGShd2jYRPSZbI/OS0ZaYYwEIjyO4jbeLgwYOJXE5/IdAiIBKRQTZKCsWHNXf8x6MNySCbRDEBo31Zxg42XEFNoyEAR0Pp9JsjBMoyjHmwPBieHAlFh5PbXukeS6yBoCkeNr4VFi/PnqJcD1vhiR1dy2JfwDVDHoYPnl5Vu0sbNuAmsAnZHt9SO+MlZYNdwyTPvM5iHBNvIg4j2ra9jveuUQSMPi81lJOgHthcg2VWmAMhqmo/0tlSBIpAESgCRaAIFIFpImC/ULJLTwF2fnw29uwJkYeJ3Esum0WzsD+6seEtRkY63agF4dgy2Nf0BbA2NalC4CUVy+BewrDrS07rnA7DGblebXBGBuK3mpG4DKI/Utc9QowOPFHUe2yCbW0GC3k+Xc9trBisdFhVFMPXv/517k/WOxSDp33sj5/akYvUXW2I1Qa91xUNs+ZiHLTBUjuLsM5bm4ygVRW8J0+eTDgMA43fiRUMrnfeOtT2FoEiUASKQBEoAkVgXhEgjWdfjTE/jwni2aFDhxJnjWq95BTDuAbVtiWhl1oRe3CoUoWIvq5TN+ga2deMBQRReVz1tpyxI1CWYeyQjqFAz0/OmEhgBcq8dQ3FEG8FSxs7IpTewDLgI06cOMGLwSmyDpVkVsScQYZseo+hQSNFsA0Ly2CdzbEXYRnUbsG1/Y4ZKcswFswtoMC0vBrKkDsrIT7eMPrYnLIMYwG5hRSBIlAEikARKAJFYDMIkMajAydkAG9WHscsgsV9JLGXZdgMhmfMQ7+ga4RliCf4sOFKAaF0JNnUjOX4GQtsht1CoCzDbiG/Ub0h7VhhedIYC8kqGGRMG6Lbr3L9otvb9EZGCAYhnCQlP9r+RnVs9zePdAgOz/9zzz2H+6D3qlHDLK9+rbvEdqFdfV8sWQwleDmngNfyik6KoYrhXn1D/y8CRaAIFIEiUASKQBGYDAIJFkDu5aRM7iWJIRfY9uYY+LIMY0EdjHZJ7aWxyIYwosE5aw899JB/Cca56LoM1KWx1NhCJoTA7915550TKrrFbhuBxFmgUgqL4tE6deqUFY2TgtXNWkbJFAySqj/o8x5ICxwTBvFREnaFtj+hZw/rge9gaqF5zz77rH8xIBgHdg0JBqElVYC3PfSjN+Z15TVm9JmxGFAkOrQNPQYX+zCWWlpIESgCRaAIFIEiUASKwBkRiMZrv4eTMrGcnHbllVfu37+f7L1q/++MRTXD6RAIy+BXDimsReKUbV+TMMzGAblACaLy5FCPbm2eDsZZuF5bhlkYhdVtSHQD9leUeSwDTV7Cm7rOJ4IDGCZv1GCef4S0upTJ/E+5xSZoDBcJUQlZ9fvCcswKa8udSYW2TabmZSzVUmugYctExVJrGvgEstAbCX5T4nwZp0X7XASKQBEoAkWgCEwdARs/BOA4KZPJHb7I1JRgXNF3jENhUy37alEraBlE30ceeYRzCl8Jht4E41hwj7HSFjUJBMoyTALVnZbJFsDhAtRIi9e+fftYCrDIYiNgOcPexWRot9RL3CEVF7mghddee61F1gNva92BNH6anA3FTjGd2/vRtIDlC4PBddKEJAAkZpfBC7Qttbs1E+YW0Ta8CBSBIlAEikARKAJbQIBMLjngAMvAktcXiq7T3GzyDVHStlBcs54JAUQD0feOO+6gX7Dnte0KavustA/IT8he+0yN6u9bQ6Asw9bwmk5uLAM2gXMEfZ5uiTqlatInRVJlLY9loFjulm6ZoyU857w5tC2uU9RdVK62aeTYT7WYDuYzW4uVFOaA5ajCZSYeK+z0LLgBfGZb3oYVgSJQBIpAESgCRWABEEjcx7AMzzzzjM022i9fCURDWYZJjC/Fh003cwbqhoibCUtHP5ISHH0SlbbM8SJQlmG8eI6nNColAwFpPMWNtZQ84RucczvW2lrYhwcCW09NiQT19MWCi2tgP4J08NNu8U0dmyJQBIpAESgCRaAILAMCIjKwIWXIkG0e0hcTY/vqZHU7bcuAwJT7SPplyStNud5WN0YEyjKMEcwWVQQmgkAMw7zJWIsJ0OBfYYfQDb7wqanxyERAb6FFoAgUgSJQBIpAEVhBgPOyQGliELIkRTHY+EliyFDr/c6RIrAuAmUZ1oWlF4vArCDAVMELTOIfIe4mloHZ2AsvvMB+TFTIxICclba2HUWgCBSBIlAEikARWDgEsAxEL74SWAZWvfbYwzLoaE1KF26026HxIFCWYTw4tpQiMGkERL5wiKn4uqh07znuEiJBvvLKKyKDeuHVYG/S+Lf8IlAEikARKAJFYKkQsJdja2c4WsLpEiQu4RgEZeC4Wn5hqSZDO7tVBMoybBWx5i8Cu4MAW4YLL7xQBND4BDo9NKecohtYOpRl2J1Raa1FoAgUgSJQBIrAgiJAxBLxMfGwnn766ePHj1933XUHDx7EMjRC2YKOebs1NgTKMowNyhZUBCaKAN8/LhIsGo4ePYpKf/PNN506gVb3CvQT9qGc+kTxb+FFoAgUgSJQBIrAUiHAisHZ4SQuUbffeOMNASBt+fBdtevDknSpoGhni8BWESjLsFXEmr8I7A4CojzGZsExoldddRVDBuT6Aw88wIfCqw6nLkMjQe7O2LTWIlAEikARKAJFYOEQIGiJt33s2DEOqrZ5HDBPBhOUoUeJL9xQt0PjR6Asw/gxbYlFYBIIJAykTzEgr7nmGuYMTzzxxOOPP55Dm1k0+IkDYS0aJgF+yywCRaAIFIEiUASWDYH33nvvpz/96cMPP8yoAcvAhMHplfZ1GJB2X2fZJkP7u1UEyjJsFbHmLwK7hgAGwVvNkZZecvj1F1980RUBGsQ9Fus4EY9///f7UO/aALXiIlAEikARKAJFYAEQIGWhGDhKsGJgPUrK+sIXvsBXwpnitnl6euUCDHG7MGkEqpBMGuGWXwTGjAA7Pa83zoHnnHOO1x6PiVOnTon+6OWHaC/LMGa4W1wRKAJFoAgUgSKwZAiQsn7+85/bznnttddEZBAY6/zzzz9w4AC5q/G2l2wutLvbRKAswzaB621FYFcQYLzARULy/jt3JfGSwLKz5WO/5xX4B3/wB/LUb2JXRqeVFoEiUASKQBEoAvOOAMnq7bffJlxxl0AxRMTir3rJJZfY5qkhw7yPb9s/HQTKMkwH59ZSBMaMAE7h4osvfv/998Ul8hYUAxnjsGfPHi4Vjpwo0T5muFtcESgCRaAIFIEisOgI4BcEupI4Sgh9dfLkSQKV0yv37dv3+c9/Hr/QcAyLPgXav7EhUJZhbFC2oCIwTQSwDDgFp0vwG3zsscdY9CEdMO7MHLwCyzJMcyxaVxEoAkWgCBSBIrAACGAZfvOb3zBeCMvAY+LQoUMHDx7klMpXIlYMNRddgIFuF6aAQFmGKYDcKorA+BH46Ec/+ulPf5rZAhMG/Po777zDuu/48eMIeLEhcRB9C44f9JZYBIpAESgCRaAILC4CTETffPPNt956S9xHYpWOCq2NYuAuISpWJavFHfn2bPwIlGUYP6YtsQhMAQGvOkSDT+GO9+/fz3jhgw8+OHz4sBckcwYXtaGvwykMRKsoAkWgCBSBIlAEFgOBd99917ldJ06c+NnPfmYjx55NYmDhGsS9Wow+thdFYDoIlGWYDs6tpQiMGQFuERKiwftP0GNHSxw7dowPIWM/rhPs/ZKhRMOYcW9xRaAIFIEiUASKwCIiQIJiGSrWlT0b7qhoBYd52bYhaKEbFrHH7VMRmCACH5lg2S26CBSBySPg9MovfelLmAXHLOHdnT3hBfnEE0+8/PLL7BomX39rKAJFoAgUgSJQBIrAHCOQQyXEYhBRW8THZ599VmdIVoIyYBl6RvgcD22bvnsI1JZh97BvzUVgHAhgGVg0KOm5557DMjD2wzJwoNi7d6+fXBlHJS2jCBSBIlAEikARKAKLiYCYVqIwCKR9aiVhGZALYRk+97nP9ejKxRz19mrCCJRlmDDALb4ITBgBFn3Sf//3fwtNdOGFF2IZXn/9deGR8QviISPgMQ6hISbckBZfBIpAESgCRaAIFIF5QgC/wMmU7adwj0JoM2TgNCG+FXLh/JVExCrLME8j2rbODAJlGWZmKNqQIrADBHAKSHfkAgLeO9KbkiGDYEWMAHENvuyg7N5aBIpAESgCRaAIFIEFRIDg9Ktf/eoXv/iFiI/333+/E8GJT1/96lf37dvnAK9SDAs45O3StBAoyzAtpFtPEZgkAliGiy66CPWukqeffhrLgFnwgnSdLUNZhkli37KLQBEoAkWgCBSBuUQAy8AI1OmVYRn04fbbb7/tttscCk6IIkE1ivZcjmsbPQMIlGWYgUFoE4rAjhFwosTHP/5xRn0iQTrYkgUgLwl0g+MtfUfMe1OWkt8xzC2gCBSBIlAEikARWAQESEfSz3/+c/wCeemtt94SRfvTn/40y1D+p7Zn7NOUYliEkW4fdgmBsgy7BHyrLQJjRcCLEK2AaxCd4frrr/ea9NZ86qmn2P7ltOdPfvKTOIj6Fo4V9RZWBIpAESgCRaAIzB8C/ElRDAwZfvaznzm38qGHHiIshV+4/PLLHV0ZU9D561hbXARmBoGyDDMzFG1IEdgBAliGkAgx8MMpiAHpVEtRIR05gXrwyhQJEhMhZ7n5HSDdW4tAESgCRaAIFIH5RkDER1EepRdffFFAKxszV111FZZBOAa+EgJaVVKa7wFu62cAgd+78847Z6AZbUIRKAJjQ8CrkVEDXwmfvCR8cf4zDoLfhLDJ+bWvz7HB3YKKQBEoAkWgCBSBOUGAFYOWiviIXDhy5Ig4VpwmCEX4hSuvvFKIK74S7BrmpDdtZhGYXQRqyzC7Y9OWFYFtIMBaAaHAbIHJH5bB6/Po0aPHjh1zhUUDSwevUt+3UXJvKQJFoAgUgSJQBIrAvCPAVwLL8Nxzz917770MP3WHvadYDJdeeqmjKysjzfv4tv0zgkCVjRkZiDajCIwHASQCloEJg/MmvEffe++9V155xb/CGmEc/IprECHSS7TmDONBvKUUgSJQBIpAESgCc4IALwnnVr788sv8SV966SUiE6GIl8SePXtYMQikPSf9aDOLwKwjUJZh1keo7SsC20CAFQP/CO9ObD2e/r/+678wDk888QSu4YYbbjjnnHMSBrJEwzaw7S1FoAgUgSJQBIrAnCLg0EpWDM8884yIDBiH884777LLLrv22msZe/IqndNOtdlFYAYRKMswg4PSJhWBnSKAZfjEShL90QtVGMgXXnhBcCOxlFEMnA9liG/FTmvq/UWgCBSBIlAEikARmG0EhGPIuRKEIhSDfRfhGMSAdCbXJZdccvXVV5OLuvUy22PY1s0ZAmUZ5mzA2twisCUERDDiaujdyUXi3XffRTqgG+677z4XE6ZhS6U1cxEoAkWgCBSBIlAE5g4B8g9HCaadgj5iGfhKMF7AL+TcylAMZRnmbljb4FlGoCzDLI9O21YEdooAlkEoIzEauE689tprHBFjIohx4HzoFbvTCnp/ESgCRaAIFIEiUARmGwHnbb3xxhukIBQD004SEUeJm2++2aESZ599Nn6hFMNsD2BbN38IlGWYvzFri4vA5hHgFiGJ0SCykXeqlygu/+TJk9gHx0FzQYxjRcI0bL7Y5iwCRaAIFIEiUASKwOwjwIpBQjEI9+jIrVdffZXlAu9RQR8vvvhip0t87GMfK8Uw++PYFs4dAr935513zl2j2+AiUAS2igB3RJyCwybEOmIo6HbuiO+//z5Pik9+8pOYiK0W2PxFoAgUgSJQBIpAEZhxBISmEvr6+eefP3z48AMPPCAYNo/RgwcP7t+/n/eoTReCEN5hxnvR5hWBuUOgtgxzN2RtcBHYMgJI+i984Qv8Ixg1MBfkLiE6A4rh7bffxjt43fbopi1j2huKQBEoAkWgCBSBmUeAx6iIj1iGJ5988v7773echMO2brrpJkKR0I//7//9v5nvQRtYBOYSgdoyzOWwtdFFYBsI4BpQ+EwYcArIewaECH78vSv8FX0p17ANVHtLESgCRaAIFIEiMGsIRMhhxfDUU0+xYhCO4de//rUwVYcOHTpw4AA3Uh6jNlpqxTBrA9f2LAwCtWVYmKFsR4rARgigGARf4BzhGEv8/ZEjR7x0RYJkKIjmZ9TgRStSw0ZF9LciUASKQBEoAkWgCMwDArZPnCghHINYDEwY0A1OlLj11lsvvfTSPXv2EHh6nvc8DGPbOMcIlGWY48Fr04vA5hFIZCPWCvwjBD3iNMF1wtsXv4DgRzEgIJgOyiAMEuph8yU3ZxEoAkWgCBSBIlAEZgEBUahitolisJVy6tQpvhKJfm2L5eqrrxbu0RcWnbPQ2rahCCwwAvWYWODBbdeKwDoIoBtwCt7BgkEK0+B9jGtA+bMkFKnBDQkSuc6dvVQEikARKAJFoAgUgRlGgFQTC00nSjz66KP33Xcf8UZoqiuuuELER+YMNlS6mzLDA9imLQ4C3bFcnLFsT4rAGRGI3wSWwQFOn/nMZ3zefffdx48fZ9GAYmBP6PXMaxH7cMaimqEIFIEiUASKQBEoAjOFADHmvffec2g3loFn6Pe///1bbrlFrEfhGNhynnfeeRwlGothpoasjVlUBMoyLOrItl9F4LQI4BoEVRamAcF/2WWXsSr8+c9/7q3MthDHz5bBaZc4CKknSJ8WxP5QBIpAESgCRaAIzAwCRBqJQ+hzzz134sSJkydPahoh5+KVhGLIiRKlGGZmxNqQBUegLMOCD3C7VwTWRSBvWQGWL7/8chEZRGA+evSoF7O4DMIy2wTYu3cvlmHde3uxCBSBIlAEikARKAIzhQCKwclZr7/+unCP9957r++iUN1+++18JS666CJ2mk6U6N7JTA1ZG7PYCJRlWOzxbe+KwPoIxHWC2cKFF17IgNC/r7zyijCQP/vZzzg0Iho4TSD+mTw0CPP6CPZqESgCRaAIFIEiMAMICDXFUQKtQIZ56aWXnn32WXsnJBz8wo033ijcI3nGhsoMtLRNKAJLhECjPy7RYLerRWBdBFAM3tDYBO9gn4nREM9GOwO4f3GS1r2xF4tAESgCRaAIFIEisIsIEGC4fHKU4CIh3OMjjzxCjLFTwlfiwIEDDDY5SjhRoodn7eIYterlRKC2DMs57u11EfgQgZw3wXuCVSFfiQsuuOCee+55YSX95je/efPNN535lBMui1cRKAJFoAgUgSJQBGYNgbAMmAUswwMPPHDkyBHMQhKiQZRr/EIphlkbtbZnGRAoy7AMo9w+FoHTIhAfRYaFnCMQDSIkMTh8+eWXOU04ZdpugNgNLBpwDZ/61KfwEfVpPC2U/aEIFIEiUASKQBGYFgIEFedw4xfErrY7IrYUl09mC1wkEvTx7LPPJt5MqzmtpwgUgd9CoB4TnRBFoAh8iMBg1yDoI7qB8eHzzz9vi8AXtog8KbAMjqVIzkJWBIpAESgCRaAIFIFdREAgBsGqUQwcJYR7dFoWiiGOEiIy4BrslNhB2cUWtuoisMwI1JZhmUe/fS8C/4NAgkEyVdizZw/zQoQCiwb7A46bds6lL0IzCJ6EZUgqcEWgCBSBIlAEikAR2BUEhI7KLogTJQgqjz/++I9+9CNSyk033XT99dc7UUJCMexK21ppESgCQaAsQ2dCESgC/4NAzBm4L372s5+98sorkQ5vvfWW6Aze4s65tGlw/vnn4yAEcQjXUO+JTp0iUASKQBEoAkVgmgi8//77hBNWDM6SOHHiRCJJCSPlzKz9+/f7ZJLJAHOaTWpdRaAIrEWgLMNaTHqlCCwvAom84FjpQ4cOIRQOHz4skJIwDSgGr3MXZWDpwASxMRqWd5a050WgCBSBIlAEdgkBLAPnCCYMRBS+Ekwv9+7dSz7hK3HppZfaDnE2VlmGXRqcVlsE/g+BsgydDUWgCPwfAswTpASD/PznP49csGMgwBKniddee81LXRhI/AIaQuJGUQeKzp4iUASKQBEoAkVgCggIFCWRRpgwPP300yIykFJwCkIwsGLgJfGFL3zBuZVTaEmrKAJF4IwINPrjGSFqhiKwjAjEe8JnTrJkvMAH0mETNhC8133HRNgrwDj0gKhlnB/tcxEoAkWgCBSBKSIgFgPLSgdJPLmSnnjiCeIH/wgOngwZWDHY/HAqVq0YpjgmraoIbIRAbRk2Qqe/FYHlRAC5ECOFCy64QDilRFFi0ZC3O2PF3/zmNywdHEUhG4uG5USpvS4CRaAIFIEiUASmg4DtDfsc4ReeWUk333zzgQMHrrvuOsGkUAz4hYaLms5YtJYisBkEasuwGZSapwgsKQKhG3TeHgKjRPsGSUwbnD0hsW6Qx7u/rhNLOkXa7SJQBIpAESgCk0GAdGFXg+fmqVOnwi8IEUX2YGXJikHER44SYkgxYYgLZ1mGyYxDSy0C20GgtgzbQa33FIGlQiDHWDoUiruj5GX/6quv3nPPPcwcvOO91M8++2zsQ80Ul2pWtLNFoAgUgSJQBCaHQI6rtJkhvqOzKh977DG2DBKHzSuuuIIVAyFERAYRqeO/ObmWtOQiUAS2gUBZhm2A1luKwHIh4P3NHFFizpD0zjvvOETKDoO3O78JPhQCNBAI5JRhudBpb4tAESgCRaAIFIHxIUCckPALIk9L9jaOHz8uEIOLKrHbIQrD9ddfb/ODBNIdjvEB35KKwDgRKMswTjRbVhFYbARsIAjgnDMs2SsiGrz+7733XvsMb7zxhiAOdhWkmiwu9jRo74pAESgCRaAITA4BexhCQdnPcJDEU0899fzzzzNh4KrJeEHiK3HJJZfwkrCrQSCZXDNachEoAjtBoCzDTtDrvUVguRA466yzeE/YRmDCgFNgwXjfffcdOXLkzTff5Cf53nvv2VJAQ5RlWK5p0d4WgSJQBIpAERgfAliGDz74gFxx7Nixu+++m4zBZgGtsGfPnhtvvNGnf217lGIYH+QtqQiMH4GyDOPHtCUWgUVFICEefTpgwq6CY6vFZCIKeN+//vrr9hxYM/r3MysJJUECkHlR0Wi/ikARKAJFoAgUgXEhINYjEwZSxGuvvfbSSy/9dCW5YmODCYMoj3v37vWFgEG0KMUwLthbThGYEAK/y+tpQkW32CJQBBYSgVAJ5ACOEi+++CJTRidcnjx5kihwzjnniAQpLJNEIMBE9GSphZwD7VQRKAJFoAgUgfEiMARiEILhoYce4itBhJAwC/gFKSdW2sNgMlmryfGC39KKwNgRqC3D2CFtgUVgwRHwah/CQDqh+uKLL8Y72HDgNsm+0RfbESwbY99IGnD8REI5LDgu7V4RKAJFoAgUgSKwdQS4SEi/+tWv2EVKJ06cOHz4MHcJzMK+ffsuv/zyK6+88uDBg1svuHcUgSKwawj83p133rlrlbfiIlAE5h+BWC2iFRgxYhbsRZAVMA4vv/wyl4pEipanUaDnf6jbgyJQBIpAESgC40dA5AUuEsjMmzGRAAAgAElEQVSFo0ePPvLII6+88gqfCCYMyIVDhw6J9SjkkxMlxl9xSywCRWBiCNSWYWLQtuAisOgI4A4YNTBVsM9w3nnnvfDCCyJBigH56quv2oIQJ/K6667DMjBtkEegpkXHo/0rAkWgCBSBIlAEtowAloHrJRcJwoPE9dJZlZdddhljSSl7GFsutDcUgSKwqwiUZdhV+Ft5EZhnBOIYiWvIqROoBMYL4jU42trn+++/L4AT70qnXfKkcCQVewdJsAadrkflPI98214EikARKAJFYPsIsHm0A8FFIkdiP/vss88884y9ChsVbBYciY1l2L9/f47HZia5/Zp6ZxEoAruEQKM/7hLwrbYILBACDBb0Bo8gHiRfCfEgJRQDcoEAYVPCsZc54NoBVAQIxET8LBYIg3alCBSBIlAEikARODMCiSFtK4JnhNOpmDC88cYbzBl4XPKMIDOIHn3++eejGAgMNifqcXlmTJujCMweArVlmL0xaYuKwLwhEMME0oDEf5JwgFNg9PjjH/9YACe+Ev5FQGAWHIHp3xoyzNsIz197w3zNX7vb4iKw2wh0fd7tEViK+h1KxfiRf+Wjjz76wx/+EL9g4qEYOFp+9atfdV4VUaEmDEsxFdrJxUWgLMPijm17VgR2CQHCATaBRyW5wTHXv/zlL8kTb7311uOPP26zAgchpJOUgyr4WexSM1vt4iAQ41syK/MZHjocdpjd2ijzmS+umIShHkpALM7AtyfbRSD+bgLscWGzFAujI+WLT2v4Jz/5SXvIMkjlHbYLc+9bjQAXCUs0I0fOEWweRYn2neUCUUHwBQGeHCrBBzMhn1bf3P+LQBGYKwQq38/VcLWxRWAeECChJtwjuQHXIGr08ePHT548iWIQpkEkp2uvvZYM4VfZyjLMw5DOdBuxBlgGJAKK4cWVRGz1PQ476K1QD6RbbsClGGZ6LNu4aSEQlsE6HBu0xNbBLFiWfdpSpu9ZnHEQciIaptWu1rPgCFiHGTbiF9g5PvbYYxwtmS3YdSAYCMSAbjD9JC4Sdatc8KnQ7i0BAmUZlmCQ28UiMF0ECKZSdsMIDb7bT7Z9kXOwyazkWtItl0viRXYt/FuRYrqjtAi1MZZBLrBZSPwwoUCchWZzjPmMRH416yRf/GsSohjKMizCwLcPO0YgLANdzkPE0ifmPx4Tz4ulO4+M70gH6ayzzpIzgXt3XHMLWC4EsuoigtmaoRgEYhAf2q4DWwZRnDBZZACOlkwY7EmQCpYLnfa2CCw0Ao3+uNDD284Vgd1DgGxBfiVbRPezw0yq8El+9RMZ194F2UJgSJtmZIsYNdQ0d/dGbP5qNpcYyGCvBCeXcA1xnTCXKEU2YFFXMfnO9/nrYVtcBCaJgKWYgc+QPD4xC4pm6DmyRNthtkR/diV1fZ7kaCxm2ZlUCKyf/vSnIRcQDaQCMRfiXHnRRReJ3MTLUrIDsZgotFdFYCkRqC3DUg57O10EJo8AeXTFH+L3GUOyv7VTEdcJThOiPYkNefDgQSqizQ0KoZjS9f6d/JgsWg0mD4rBKesPPvjgvffea6/MRPrc5z7nk7QasdW/9sokTubmZE1mFm0StD/bQiD8QuyAuBQlwr+nyfYytk5MPqqgLzfddBNzIQ+OVRrLsK2qetNSI4DDMoUwws6qfOCBBxgymGbMZG699Va+kwQDS7S1mqjQxXmpJ0o7v4gIlGVYxFFtn4rAbCCQja9wDQQI/hEEDk1DKFACWeGSYp1iRdIl2vqVckgbzEZ0N81mYwxnsRWsu6MU8Y+wP5Yj1kUV5XeDz4obTiy9fcbt3KetM5Oq82oWR7RtmjoCsVbwKPGD8GhYja299D2PT1gGXyzLfuVCnyeOckgblAdhN/X2tsI5Q4AJAxY4URiQVhzZLNQsGsRcQFeZcgcOHGDPGEbY0t2Vec4GuM0tAptAoB4TmwCpWYpAEdgxAviFeMsTVe2SSbagbW7Yf6YBkjz2799/5ZVX7tmzhxUlkbfbGjuGfGELsA8mnqgj1m2LUYEwDjm1hN9Ngn0kMohPwqtP27AS9goilWUXdlq0Y1tEIOYM9pmTEp0hn56prNKUQ1yep8aThcKjGUqi7WyxqmZfOgTEwfGuN5HYLTpeiq9ElmWzyFteGhirhvxYusnRDi8NArVlWJqhbkeLwK4igDXIrnJOq6IousI503aZ73RF/+ZwCltq8jhWLUYNWl3NcFeHboYqj4uvCWNbjOuNMB+k2ByYOuyMEV5nqMVtShGYVQSsq4laYrFd1UY+FKgEW9B8kTxlVml0MMZBTjEamDNYnOvjNqsDuzvtinWMT6QVrsoUCkXFXBHRYMUWf8HM8Wk7wXKdudeX++6MVmstAlNB4PfuvPPOqVTUSopAESgC/4PAIN0yYaATohXscpBObH1ka5qAwo1CNnaV7vGlskhnDwSYw6AVQjE8+eSTVB3R6Tj3ivHB+JYIywqmkfA7VYrADhGwGqN940zhsbJQ4/JYN/iS8yYsyBiHWpztEOdFuj3xF5gweImzNWO/gAhmcSYig2ljfY4hjBWbXYwrJk/f7Is0AdqXIrAWgdoyrMWkV4pAEZggAnYwiKeMJC+//HK+9I7OJogQSlhU+kKNFNLciVb79u2TM2EaKotMcDzmqmjTI2etIxrIsiKHHTp0SIA6juLhF8yZuepQG1sEZhEB/AIKL8EarMbW5//4j/84fPiw3WluSozOrMkUxT5uszh4u9QmLIO9AYEYxMoR4NmhP9ZqCa3AeMELnV8bfoFJo9mVmdPNg10aq1ZbBKaEQFmGKQHdaopAEQgCoQzsY5BiKYfoBgaW+ddPhBLX7VcL2cDqkqWuSFG4hkTvi2lDkVw2BGKLS4pl7ULhcVgJcZbltmNQJabdZFbTpjLrsk2M9ndCCFiQsyaLbIJNsB3N0B3/60FD8HkSPW7M0DxxrtSiYUKjMPvFJrRHIi699dZb3tcS/tenSZIXN5bKjgKuIYeh1tZs9oe1LSwC40KgLMO4kGw5RaAIbBkBQqptMeqiTyHNiSMiNUi4BqYNEhk3MgplUjDqsgxbhnghbiDLMtiWbKUyxMVA2RO75ppr2DKYFRSe6jkLMc7txCwiELMFiiK9kSGDZVm8BtQD3gHFUL+JWRyzqbQp5K9YOTgFIUJNDCszEwZvbW9qr3WBHhOO18ud342LNX6Zysi0kiIwKwiUZZiVkWg7isCyIZCdZ0LqyskA55JZGVuSXx9++GG7IqQWKqU4f45VI8fETzjOnMPuWfeul2TODB6/PMMFErNXhnW6+uqrzZmwDEuCQ7tZBKaMQNZYpmT2ogXlFTHn/vvv9+lfK/NojN4pN6zV7SICA7+A+c1bm32ZKAxJCCknRvGP4CjBo80WQg1ednGwWnUR2EUEyjLsIvituggUgf9DgCBiD4QgS0ZhVEmBxDiwkPddkHN0g200Qkx8O3MIRQ/ZXpIJxD8iLr7UGxtitsiSWOSaA0sCQrtZBHYLgcRoULvnDsHnYcT8cr/HQTAjqonZbo3LrtRr6B04IpkGOUUiJ1ZiHBgeOqIyjmw+bR54fZsh3Q/YlZFqpUVg1xEoy7DrQ9AGFIEi8CECsXsnkZBUUAkEFxvXLBpskjgKS+RqWyKSHWym8jG8JMFUfFmG2ZMIHcxxs31qB5W2wwoXyyCuxzIg0D4WgV1EICwDRo/eSHu0SlM1BWjwJLIv28WGterpI2DoxekQO0mIHAFBUf/ewpI12Q6B17eAHUIwfOpTn0I/lWWY/gC1xiIwOwiUZZidsWhLisBSI0BMwR1IJFemCmx0ya/USDskZBrbJoJEvvnmmxFtXWEqz9Uzhwu4JbtqS43g4nYey8CJxtAjm4y4RIr1adwXt9PtWRGYFQQ+DAX5kY9g9KzMlEm2RWzm2Zr5F+kwK61sOyaDwBB8l/2CQI8Mygx9ThuxE+AiQsGbWhReFINDhfNSrpXZZEajpRaBeUKgLMM8jVbbWgSWBwEyCsElvIM4UsQaRIMoUwRcgRvsn7hIrLlwJdlhkzM7KssD0fL0FNPEZYZ5iyEm0dorQ0LFnmV5QGhPi8CuI4DX8/QheT2PdrPZFiF/d71VbcBEEcAyGOUE3+UmIyVqkuusC5kWev96HftkX2Z9zjGoE21SCy8CRWAuECjLMBfD1EYWgaVDAMtAWCGyEF9EkLJnwnWCiaaDuB955JGcrMYF1NYKQcfOtswhGpYOqSXo8GDPYqApOcRZLIPN1SXoertYBGYIAYutBxDFILEss62N9p2h9rUpE0AAm2AFZkfmLXzkyJGjR48yKxMsiRnL9ddfj2UQCvTiiy/2sg7R73MCrWiRRaAIzB8CZRnmb8za4iKwJAhEWMEd0Cd5T6AbYrVLzM22tn9jRY994D0hMX+QZM5dFXcWY6qEZTDoyIWzzjrLQNN2yjIsxuC2F3OEAPKXMukxpHlyYsL21pZhjoZvk001uIIvONnHEEvoJFaEQ7L2XnHFFfv27fNG5iKBX/BGZuRS47JNwttsRWB5ECjLsDxj3Z4WgblEIEwByUZISAwCr2CnZHGgcDo3000sw1NPPaVjZB2mDT4dTiHoFDmJF3FZhrkc8jWNDstAzOUjk6AMZRnWgNQLRWDiCGAZUAxSVFAWDWUZJg761CswuFgG0XC8Z59bSd62PhPsE8nrJZtThL2RhyiPU29mKywCRWDWESjLMOsj1PYVgSKALCDdJlKDoI+kn9deew2JwIbTYd3MOAm7NlIiGxGPKKW0UJveiXHtxtANJR3mdC7l7DRbalQaI0u0Lcswp0PZZs81AhzTUAyYPjSuoAwc1qzGc92jNh4CQ3xHoyl5q7JSEdYxFAM2//nnnxfukfGChO7fu3evKI/WYYeP1IShU6gIFIHTIVCW4XTI9HoRKAKziECcJuyfXHrppXgExgv2W6J/8hA+deoUf1FbLqPxqJg/RBgqyzCLI7qJNuGPMEoJNYcz4hEzMEebuLtZikARGA8CWAYaaYzFUAwUUZTueIpuKbuHQCIveIF6mWLwEfc4Bd+xuhIegYuE6Egofi9WySvVy7eBkHZvxFpzEZgPBMoyzMc4tZVFoAgEgQRcwDLYzXa6hPBjlE+C0bFjx7hOMOwkG3ElJRXZb5HIT7Zc3Fs3/vmdQmwZbK8ZaCoNCsluKsKoAzq/A9qWzykCLMgwtmEZbHd7KssyzOlQjjYbjWscYxiYN6lQR8ItOzMCp8A5QvwFgRgE3/UyZcliDsQhscT9Aox+u1AEJodAWYbJYduSi0ARmAgCJBtcQww1iTvUTjvbFFFXyEAiUXHgR0OQmZh62gN37JZz3RMVkoJqJ9xddNRKSBMZngkUiiqKO4wvGf0JVNIii0AROAMCnr6B4PNISh7JM9zTn2cPgYwdOwXOhmHq2QM6mtSr04nRriMUxD/K+ZTnn38+m0Gf+AXkvrft7HWoLSoCRWAWESjLMIuj0jYVgSKwSQTwBeQe/IIvzDjJSZLDCIhKBCb8AusGjqYkJMdusX2QshdnKyY8xSYrarYiUASKQBEoAguAQIwXWKMIn8zNEB0vcZRYCX/0Bxh5r0t8vUCPsV/A2mPn+ct4ey5A99uFIlAEpoNA14vp4NxaikARmAgChB6JOQMxSAXsF3KQ+xNPPIFcQDcI08DF1EYNiSpHu+MXEhabOOXeuGDUrmEiw9NCi0ARKAJFYLcRiMlJyIU4oHlXei2K7/j0008/++yzzzzzDGreIT4YeSwD/4gDBw7kPJEaL+z26LX+IjCvCJRlmNeRa7uLQBFYi0DsFFwXG5LzMIdSRAPrBjKWRKh69NFHn3zySVs0PE4lX0S0ylnfNW1Yi2evFIEiUASKwLwjEI8zVDsTP+9EkYwEMPIl5zSxU7j22mu9Pb0NmQQmdnKC7Pa1OO9D3/YXgV1EoCzDLoLfqotAERgzAuSkOI6iGBy4JQQ6uUosdDs2tmtYhxKtJO6maAhJUCs53VVv/zGPRIsrAkWgCBSB2UCA/YJoC0Iw8IxgvMBywSf+Hc8uoeMvueQSn6wYGPo5PyKuE6IXNcjubAxgW1EE5hKBsgxzOWxtdBEoAusiELLA9kvOdRc3m5eEFFHJp5/s6vgVASFqg+8EL7Ehcwg8hgLpQMBKKPV1q+jFIlAEikARKAIziwDDPe8+zAJTBW+6sO3edIwXvPXEX8C8ewmKvIBwl1AMOHcsgzcgigHtPrNda8OKQBGYIwS6lMzRYLWpRaAIbA0BtAJZyidBCn3A6TSxIZ2JKDFzOHr06COPPIJiGMxE5RTvKsJWgzVsDe7mLgJFoAgUgd1GAMuAW0cu8I/AKYhMJIVcSBwi9guOjciRTLiGhHj0HkSv13hht0ev9ReBxUGgLMPijGV7UgSKwCoEVuw9P0JyigNFjgQX9Yqx6JEjRwS7YjjKk8KvRC7p8ssvV0LIBRYN7l05uO13h4tFuAgUgSJQBIrArCGQ+I6JQORNx1oBk85y4fjx44nv6E3HuiHHLXnZXXPNNUwYBF+QGnxh1kaz7SkCi4FAWYbFGMf2oggUgTMjEMZBPnEfBdDmgErMEqaBw2pcJPAOzEqZjObgLp4UEiEsobaJYrVuODPKzVEEikARKAJTQSDkglcYWoF1nveXIMdSDnXOyUreXHv27GHKh0/37hPc0XdWe5/4xCeQ6X2pTWWgWkkRWEYEyjIs46i3z0VgOREgTmETiFzELDzChRdeGMksZqUJDBnSgfglyWDPx6f85LOYklYmW87J014XgSJQBGYQAUQDluGtt95ycsSpU6dOnjwpxKOXmoREQCvwBwytMDhHcAmUHK4Ue70Z7FSbVASKwAIgUJZhAQaxXSgCRWBTCCAIUAwSroF5QoQz8hlmISGvfGdl+sEHH/Cq8JkTLhOamwyX2JAuEt185mSKUA+bqr6ZikARKAJFoAjsAIH4RHgrJbCxV5XEZgHFICUEA34Bgc4/wquKOZ7jltDlzBkcVIk997IrV76DEeitRaAIbBaBsgybRar5ikARWDwE4o8qCBbRjXXDBRdccPDgQUanRDQJ0YBcYHoqGzaBuGZTKMkGEXGtsbIWb0q0R0WgCBSBmUUAdyB5SfHvQyskuCMXCcdJoBu8qjALAgzFWsGrTaBHwR3j/YdfEA55ZrvWhhWBIrBgCJRlWLABbXeKQBHYLAIxbUAf5JBwp1omEeDsCA1xs55//nkyHLqB3wTp7bLLLrviiity2mVcMDZbX/MVgSJQBIpAEdguAthwFEPM67yYhHV86qmnjh07xhwP5S05jTIvqRgvoM4TcshrbnCOqCHDduHvfUWgCGwNgbIMW8OruYtAEVgwBIhckbpi15DeEeNiv8CxgkcrikEirtkLYpsqarcdpETnTmxI1yWxGxK+YShzwbBqd4pAESgCRWBqCCC+mdRJieyIAc8xzHkl+c5xD7Pg5AgvIOZ1CcHARcIX7DmLhvALU2twKyoCRaAIDAiUZehkKAJFoAj8FgLYBPal+AIbQXxZcyQY8Y7rxOuvv+6TpQPrBqangmmxR0VDSKQ634eNo+4XdVYVgSJQBIrAThDAMvCD8PbBa4vsKKyjL+zs8A7xifAOEp84YR29ttDirofybnDHnSDfe4tAEdg5AmUZdo5hSygCRWChELA7JBHUsAY6lrPHcQ0vvPDCiRMnxNziECuxXH377bftKbnCJ/bdd9+13SQb2Q4BIbGGSFEfBpzsKZgLNUfamSJQBIrAOBGIv57XijfOkLxZGCx4y3j7YBkkLIPkheIoStYKIgTt3bsX0eBtJXnjjLNNLasIFIEisAMEuh7tALzeWgSKwBIgwOI0h4qzViDDCdN96aWXJog3xwriIF9Zm0sMHOJkwYfCnhL5L59xrGDLGrfY2jgswZRpF4tAESgCW0MgbDWqmqHckPALbBlwDdgHLxrvFGYLV199NYOFhHX0PnLF9ThHbK3K5i4CRaAITBKBsgyTRLdlF4EiMP8IYAcYJnCFwDWQ5zALrFVJhFwnXnzxRfyCKFyScN8kQqatxL74UPCVdWgFF1kl8L+ABBpi/vFoD4pAESgCRWDMCHitMI5jJcctYkjCOsbGwavH24TNQj5RDDmTMj566O/GXxjzeLS4IlAEdoxAWYYdQ9gCikARWHQECHC6iCNANPhiW4nkhzgg27ki2UdyWliOouAxIcWxwh4UMVF8BykRIv3kRvnd5TsZsaEiF336tH9FoAgUgf9BYPCJ4GQnxVTBJ88IJHUSiwaWC+zgvHTCcSOvEdaYa58SW7m8egprESgCRWBmESjLMLND04YVgSIwowjE9wFrwIfChhL/WGdbkgsTlyHCou82prhRsH0gVqISiIkSN9okNq72o+JkUTeKGR3pNqsIFIEiMFYEONnhFLwgmL9JaOgE+hHTR1JVnOy8LBwe4S0joKO3TD59yXcUQy3jxjosLawIFIHxI1CWYfyYtsQiUAQWG4FYH+TcSoas6SwqgeUCEwbGrs+tpJi/kiDZOBAfbUDxpGDv6pOIiZuwW0XiZM4gxd41/EU+FxvD9q4IFIEisNgIWOElhm/5jO+Dd0HCBsctgredyI5STqxEK4j7wzLu3HPP5R/hreE7SppFw2Jj1d4VgSKweAiUZVi8MW2PikAR2AUEUA/IAhWzUPDdfhRCYd++fTneHK0QswWfIkfiHY4fP85jgkzJ9jUuFT5tWMWxYuAddqEnrbIIFIEiUAR2hgDeGeksxczNZ94FfCJi9RYzN1YJzkv2ssjJRNZ/zDVDhpAL3g7o7Jot7GwoencRKAK7g0BZht3BvbUWgSKwYAhgFoRpIA6SEVEMDBbsTZEjYwdr84plLPtYpg35wmiWUy7JMjYOCRjpu9sTyqtuFAs2Q9qdIlAElgcBLINF3sqPVnb2JO+5hAoWJNhLAfvAdS5udPlEK0iI5tANCceAbg49vTy4tadFoAgsDAJlGRZmKNuRIlAEdhOBIYhjPCmGpuAayJrESrtSJEhxH4mPfCLImvKwoeVn4bgKV8idNrti1yBbokiSMiN05gsCwpccil4aYjfHe37qNsfizvP6669nptkv5d1tjkkxwJmf3rSlRWBWEIgHhM8Qyjl7KN/xyxb2WDFY6pOYsPnVUu+58wBiGfjNDYlbBJbBszkr3Ws7ikARKAI7Q6Asw87w691FoAgUgQ0RsBOFL8gpFQkVSfRkNDt4UiTGOOmTg+7JkycjuaIqUBIS0VMadalw0a+N3bAh6v3x/xCIwoNieOihhx588EGklahyjLSZzwhZX5ahc6UIbA+B8AvYhET8RSXkmKEcaYxZTqiFUMOeu0RbQDHELY7JWxb5BHS0qsuzvZb0riJQBIrADCJQlmEGB6VNKgJFYHEQwDJInG8JlOmVSGC+5MQyPhTiRD777LOJAfbiiy+SU204y08kFeKBHkgbHPa7bErHqEEJg/XE4oDVnkwAgcS0Z7Z93333/d3f/R3O64YbbkB1IapMsGFaTqDmFlkEFhkBqzEeAZuAwuMQYfXmE+HTd8kjls6zWeAKZyV3JtEll1ySL7wkPIBhn2uVtsizpH0rAkuMQFmGJR78dr0IFIHdQCAypW0rW1jkVE3wBZWAXLAJxo9XsktGAA094dN1sqyY5HGjsOuV3TDbYnHQiPV7fsVQ7Ea3FrNOWkSiaWR0cEMb95PSzjVGynmlRmTj/FP7NdxWgt4P36dWeysqAvOIQCzLWAOxOEskHcF0pFXfZZC4vFnb0Qce/8svv9xThhGW2Cy4gjX2k7A7vlu9reqliedxSrTNRaAIbB6Bsgybx6o5i0ARKAJjQwDLQNAkg6IY7HENPr3sb+PQi2uIY4XPsA++xOmXCW4sHThT2I6WBvmV5FqWYWyD9Du/A3Cbk4899tgzzzxz6tQpB85tXDirE/4IdiwPHTpEu5gdlmHjZvfXIlAE1iKQmCY4BSQjKzOxe5P8y35hOCrCk54TgizmYRnyb8jfxHG0LEsWBJ+W/VIMa9HulSJQBBYMgbIMCzag7U4RKALzgUA8KWLRMLTY9hf7domjL0GWlbsDKcQnZ9dgrwzvQOmNpUOc7e2qsXEIGSE/0iExJlP46T5jJeGzlrpnnCuMTWgXrEieeuoph49yb4k39emoHKYlCCDjYoBiMnDGKiadwUCjpTSMecWll16q5QxnEmcuYUQn3YCWPzkEzDGPvzXBfDOaGWjK7Wx6+MeUBhqzoGOnMR7wUAlWXd/zb777DKtrjU34RsxCQqgmBAM6WAblIBcQB+yYcggl1tiz5hFLCIYus5Ob/y25CBSBWUagLMMsj07bVgSKwNIhEJ2QSS3Z1MYX4oBOmE0zn7HUJd2GjIhMHJH3xIkTbiHsDpqGQrKZNrhXKHBwssg2eyXgTc4wlE2G46qVZMdy3RvtYTItoWwwapgRQ4bMBw2+6aabkFD+PXclaeeMtHBdJHtxMwjQkDFfR44cQTKaeygwpjQXXnghLXczt08zTyhUS1ZYTg/UNGtfVRfctCdc7eD+gE2IQ4QvFlvJv1lsQ4uEmbUme8BjiWa9RdthGaQssz59T4ze2eR6dhH2Vl0EisBSIVCWYamGu50tAkVgphEgyxJeybIhCOyGxTGYQJwvcaywdcnAQWLpwN7B9lpiBxCLZZByMoXbhy++SysRAz5NG1FFduPLMmxyQkRXh+d1113353/+5/yu171x0KCysbxunilf1BKTynAb+muvvVbtaVv4rCk3ptWNFwErg9ix3/ve95jbJEas6AAe8NlkGVAMVifTLwvdeKHYUmlw0xgsA0KB4Rh7pRgp5JAIi2qSldai6kmxeGLlEmzFF9YKUlZUzE7YB5+rvoSb2FLDmrkIFIEisDAIlGVYmKFsR4pAEVgQBAbZdO12X0wYWL/7ySe9keBLMpbIysPmG5XSNppks5o8HfZBHjtvLvrVvT6TktPnh5HKVjKsuhLRuXxEVFgAeDEAACAASURBVCOQ0ivQDfMy24Zt2BAl89LstnOTCNDb4zZl/9zeO5aB/rzJeyeazWKVKDNZoHyPIVWiIVpqJlH7KCEbynX4xCn4Dp+1113UvPzkedFCa6BnPOut77ETCVfregjcOE/p1CQ60jKLQBEoAvOOQFmGeR/Btr8IFIElQoDCTzon1/pCqWD3Hsk4IrLPxD9PRPS4Dcsgcd6OxO8nojPLCKjFslc5wxffpUjPMf1VF+10QirBEo1cu1oElgwBWr1lB8UgoImwJmhQhzhecMEFPunt1plJ4JEgC3iED4/qWZMSw0JL4iVhJQwhi3XFHkr+1TDuRfl3+HQ9v4aZzfewsZPoRcssAkWgCCwAAmUZFmAQ24UiUASWBQHkgq4mRsDaPhPrwy9w0pYSsSyBJHM9m4pMG/wrM3IBoSDZqUsa/TffcQ0xcBgsGuz1jX7PVvmwYT7676rvaxu88FfsrGZzFcUDc/2NlkK9Qf34zK/BAVzxZQjgPvNr9oTd7le3ux4nCPlHAUxm+9jhlahb0YXigyNnfM7dpYQk5WRG+TV6l9ujO/mi3sSwVLJso20brGxCb6lxtCNDq2RTWlgqNQ51JYMWpqnuHZ0/rtMSVb1qeugOzgsCq65rZ6zfs0ctA6VRgaHVQqgNt2hGhiCwuDcd14bRYmULDrJp/yqoh5zh9fRiVZPyrxtz0OzwIOS61gbebK3HLkmrtESBmjRaGtD8FBjllNyrU4kpwIrBQ+0u/2qGIfa8s/Z/+eWXU4h7gQa6dVs43ouZA2mb9mgJr66XXnpJ2IiHH35YO6+88krdseyIa7BB1SnH57pJ+WuvDxcDLCjUPprwC1KWRJ95FrQhq1zME8KrMhAbbBasiv6FXla8Ddrcn4pAESgCRWAVAmUZOiWKQBEoAguCAFGYNkKlIYXTLsjHUW6HkGZRqKJ9RYFMz6MF+Z6cdAPfI1j7jG4TvTSql8+oYf+rrv6fn8VwPXmGDCntdNraggzAmm7QeWiSYD927NgTTzzh38tWEoQ50oumET0zmjCllPYlMVER8tOWb1RH2Z5cSbxjxPb74he/SCkyuLAdrVBm/BG106GbQoFStFIXTYleR3d9dCUZTSXw4bdhq0CaVQpxy+HDh3mn79mzRy22gWmqzu1TjkbSVNM2rdI2ZeYuvdA1n6MdGVqlkUNd/Ng1Y7TB5qGYApJ7o0hndumFqmmnpvFo/n379l199dU6NXpRnmyYi1HiqNGTJ08KmXHgwAH9ghjMQ+4Mt8BWCY4aTbg+qq9eg2UVqSEbEHQ2UK+lNlKgyIvu1YXRJo3WtX8lDTRBfvKUqRfUWqvNqtDgiy++OJME5qOlaaeWSMIByKlfhliCjyFjJnD06FGF0JzNLnq1nwyHzCnEqSLXXHMN6NZt4XgvhrIBuOHLCDoFVnL+q2Sk/LSK9FnbgIFjMiJSmCOfCvc5XMmXtf+6PYzDwDtkFpn2Gco0ICueJyjWCqb3kBBDo9/lWbZVa+2g9EoRKAJFYBsIlGXYBmi9pQgUgSIwiwiEZSAW02rogRG4fWbzc/iMvE5kz/5ePmNcnO/ZA6SuUIcG7SubokRweo4UQTyWxpHLcz0/+cwubn7SMHgR9GcRtUm2CeY0KxrgI488ctdddwHzjjvuAM7jjz/+wAMP0CqjMcqmFXRsOqF06NAhaFNxjZEhoKf96Ec/cvsVV1xxyy23JDO77rUsg+Gjuz744IN33303Xf3rX/96NrHlRBbQh//2b//WKNDVVUHztJGrMQGAyvov//IvFGZVSHgQjXz66afDXNDQwlkIfok7GFgG2uMPf/jD+++/f7QjA6IoBnXZwVZXHHNGwcYyIET+8z//Ux81gzqdSaULNP/HHntsFcvwzW9+k/K8imUwvU1XKjdl+yc/+cl9992XXuNQ/PtP//RPMBmtlM5vCDTGjQBn8nPvvfeCZRUZIdvNN9+cJ0jbTscyoAm++93v6sK6k0ivjSAQ4Ax2LFKywQonAnCt1UhHQqgIwjb8DYHro6XZV//yl7+sMSaGBnugwAUiHIpR/sEPfuBfBZpacFCLJhn0YW587WtfU/J0WAZt0JK4SBg+k+f55583Q2Br+pk2m2cZ5NQvn1KmVv71mf7GimT012QwZ5ACoDadpJgq+Mz3uIP5N7MRmJampHCpw3dfXMlnWYZ1p3cvFoEiUAQ2RqAsw8b49NciUASKwNwgMJgkbKzPU1Ml+g9mgQ6Wz9EvvmdTlOBOmie404KUOZgwULrI3wqhPPiJdkHcV87ojjQ9J6byuUt+zftfkf7Dv0Nr4ZvvQ4ZRsd53G7Y2eDVDYzSMZpgdSIXM+NhoM5TgQ/VCFqAbKI0arwsu0rsoPwPpIyeVnpIJN+o0cwO3R2vKYAHBNnXuoruu6rsC3U59TTI00gC+wtVO5VO4kg2xIXNxKCQWBNR+TZLHva5oqhKoqdpje1/jqdx+9RPF3n41xViT6IGGXsMyIum1frmdIQaGRftdNJ3imJNs6a9O0ZmjhMdcQkfUYvc+bdNOeZRjxz4GHTFo17BkyBa63uk4HRvdoBz4aBWzC5llU5eZExbGdEqn9MtdhkaXqZ0pMKyKnKAw9zQmhI5ea6RyVBeagGNCeCK36ymVNc+dJ0IhUYaN5j333BPzEMRHVFklmMmq0Cl6uA4y9PCTAinAMqdfalGOzEYNvFqiFnVBUmO0yojIrBBXFCKPBGE/DeSRknE3E3pM9DTgZ/UwqzUGP4VfgIzxysBpngaA168GyHf5zZ/RVskTTifPS8wWdDlfzMbhuysqlYyORUbvoAF80Pkpa4jr4RFCKIRcGKUY8ms4uAmB02KLQBEoAkuOQFmGJZ8A7X4RKAJLh0B0PAqJnhP9CeK0MgJ6UrTTiPUkeykyPek/KhZlIN/zk+9RNtxCkUvm4TO3+AxxoGoKQAgIatXAJkT78pmfBvpABin+BQqJdkc/ofTKOfssw6q5RbmiA1PG2Clkn582SE2iIoY9odlGueXLgAugt9OE6Y1Rm3WZIkpPcy+EVxVuOKK40mDlpEFRsJWjEGNNX93MRNcS5gwy02ApqHv37tWAtEEzMlW0WTOYANhI1xeDIjObfxvmUWij9GqGgaPSs3RQIBKKPs+dgZ68auCUoOWmn1vMAaXZug87oM1UUyXY9pfHDrnJdtVKGliGVf3Cenz/+99nIMDq4S//8i8zz5Uc/wKFcHPIhj+I9EWnvvWtb1E7ddBko/YrAfsQGkUt0NbmkAhpJMJI9zVJT03FP/mTP8kZh2mSiaoE5SjEF3gyRtDlWPes1Wx1UFGw4scR04P0SC0KcR16qlM1TMJHqJS1hZEFO3D8akQyUnoNZJMnhWj8QFtsZgJsKY+eeupBqo9QRSsgRLQZbSSZ0qiWoUBDoEcQk03LAb6qrqw2MmQ1CK3je774hKF/DahRG1YM10dzJo9fjYUkcz49EcP3/OSuLXW2mYtAESgCRWBLCHSR3RJczVwEikARmHsEqFKR0Une1KeN+0OpC/sQ4+R8Zp+W8iPlu+v0jdg2R6X06d/hV+VEf/hwv3UkhGFqjy4RTcCv0UJDMfhMjAAlZFvbljU9YdBCN27/eH8d+BQtWbfkQflZ91eY2Oalkn3jG9+48cYbb731Vvvb9EbXdYr25QtPCoUnGj8jefwCNVg2V/xKqwcO1wkqGTyBM1RkmOh7lFK3w9DI0kXd6PZ1G7PuRffGyv3666+nx95www3iBVBTh3mScYxfxt/8zd8YBacGHDx48KabbqJsU3QVK08ccCjASBPBEbTNTPCpHLq0gR6t3U82vWOior/0T7UjGtI7cOmsckwnHA3VXSEU6cFrY1VHsAPAlE08gj/7sz9ToAygo4rT8EUiZBBhp91IQVI53/72t+n2tHEDoUZ+IriMhx56SI2g0DuMRswQ3K4LukaXxgt85zvfoeRz0ND3oBSSRR7tVA4jDtkMqP5iPVShRkOzqsE6TiFHfDDfuO2221SXDHBTDucRhfB2UQgeR40GNFMCB4Rs0hHauy/KZ7uhMebVdFwksAyGBrbIFO0ELCoH3WACZJ6M9hQsJqeeRtsfnQMZaDSENcQtSASMTAg4n4Zbyr+oAT/l31zJd5/AdyWMwyoaaxXg/bcIFIEiUASmgEBZhimA3CqKQBEoAvOKQCiJbNLSZyhapPnwDrF6yHef/s1nrkdnoITELIJKLEFBgaMkwoDLwCnkyyhelEbaL+2RChHXfe0ZVbCnAC4tThvsxvMR0BF71+tWStukB55u95j+HFVQdAPKNhaAXhTN0+4uxCjtFEgaGsWbSkZDBiCtjJaLcaCIAkGycU1bcy9VbdDWYjvgyECjIL/dbKVtVd1Sl5a4EZGhRnov4mCoQsepxGrHlfjUTnYH6BKkgO4M+rOhMUCaByWasF9dwSPQPzEX7loFnUmlFvn9KjPOYhReRekOOgAgaBRuGj7XmnIMZWqzltPVE3Yx101dVVD1NRt3AJaViIoXGSxhI/QCZ6EiHdR9zAK9XXs01aCHBfCrofEdGaQjxgUrocCU465hb1zhRlbHtRNQGhCaLDv59OFV3ddZDQY4WmSUOpFTwzTYRe03rDF48T1Dv+4MnOZFPdVr466Fxgj35AHB7wBNWjVGZlFoL/2V2XC4XRqIOZDmFgXKDPDwET6TXMlFEybf8+/wa5ijKa8M0wS8dRWBIlAE5giBsgxzNFhtahEoAkVg2giEZYgyQJrPLuXwGXeJdS/mJ2pbftXufI9dtF+TIf2RJ1fya/iI3OJ7tGstyU4mFYt2MWVdQvOo8ZQoG9SUTFCsOxKJLHg6loHeSFuOIi0PEkGPYKs0aqoqqPcUNpvDWAbcCiWWbqm/tDJqPP3NXrFfaZ40WLeMapsDy0D7RTEoX2n0rnXbebqLtDt14Uq0k+09FRrUoywDTVIbKM++GBoV6c7tt99OA5czxYZl0DX6pHLoxoMnCC19Lcug+5oqvx14nAWVW7+G8VVsWAZQcC7QcQXC6nRdAJpRYArB+mMYJjgA1k9ICqOgcN//f3vvAx3Vdd/7TppJctwq9ZAo9aiWm5lE1JpglVHARYrlmumVb1AC9yJfuAtx0VtYC3thlfKITHi+KtXzUokej2DMkrkyD3gKa8nXohW1uIFl8QqtyLKwxEKYYQGRHEhnHMvVuFHKuFXqk2TavO/MPv/nzOjfaCSNvmexhOacffafz97naH7f/du/LRwHABatgOGKCiBbUMUlOFBAz0ID0RHCcoZChI/4HW2B0ICU4Aw9ApzxE5XUVAaUhZ5FKegvtAtlocsgkUBlwEltLYNWf7QOtYVPBPIRziDiEhKjCGSCKiFPqHVQK9D1mMyHuZ6q+dk8j6GLsQF0YIu+BhyxVgJN1iQDrT5IidZhaGFcoYvRWBDDIQQFABTvB6RHY5GD0CA0JWKSH3GjNnKyiYJlkQAJkAAJWAhQZeCQIAESIAESSEcA3+9xear2qm2OsM2EywMmLYWsIJIZJQYYk5ohil9ge+AqzBgYDzBFYHrB3oNhI2plW8rsnRQ2jDCBbEtJb+Gg/rAPYbrD1ITFJRzsBVvgFU2DuS7cQ2CQY40AQMFUxl0whmHcgoYws2HRwYKFhQabU9BDYtwCKxpWK0w+mMqwTqdKCVYfKoApdBwwlY1T66gnShehMeCYAFFD2I0w5tEiCw00R7QINcFVKCZIj+rB3sYAsHSfsDbREJQIMkZHBmSLUlAlnIRbPioASxvz5MgNdqztmESdYfnDjsU40RKgX4QxjJPgiY9IhprD6AUunBSgkD+qgY9CycJH4cOC4sQ0O5oPpUP4UwA7PuJ36A62gwGthkiBTNChaDg6Dm3HR0tilAUPF/gyiIGtXUWF0cVgggSoHtqLTKCwAAWKti0xyydRKxAGTwxmLNYAIoDFqIYUghGi9ZQYz0iJhmAko7FCaLCoDFmuPIsjARIgARKYVQJUGWYVLzMnARIgARLQCcAIgdEI40Q4OGgWl9E5AhaUOK/9hHUqJrdhz8ASg/EsDMVskoVFJBz7SxMHJpltS4fVikla20sTnhQyCloKYxIQYKTBuAUZoU2AG+xhmHDCuAUT8VEYsUgpQiHAlEVVYZrC6oNxPlWVAenBFnoHGmtrw8PWFUY+UqIvYJOjuFRNQw7IBy1CnqLTRT3RIs3LINW92nkNi9AmRHthvePAmTSlT5jzNBKg+SgXpj6saBywq/ETER9ss4LKgAUsybKCbeLkk+hxEWsAuAAB/Q56KB1G+7TzTC5lJmdQK3SrNj7FmhSsQEHDxWYTkGCwwAfuGBiuSIzxgEah19AujDHciwMnbUfaTCrGe0mABEiABOacQMovB3NeM1aABEiABEggxwgIuwKWRhozKfkSDDmhMsCegeUMlQFYYLRkEw4MIVjUsKMQUqG6uhozz7alC6vJ9tKEJ9EiYeGLFQFCZYBtiVZDNcAkMKQN1AG6A0xNuKbDeEN9NKsb6SEx4CcMb6TEjDGm66dqvwmjEbRTyQfCzMacPHIWKkOaInBJtAg/8TtqDgsZ8/8wMievDqBKuB1VEpoC2ovSIcRA7ECek89nQv6TSSCaD/KYrof9jBAPiMuYaihapLTJ5G9Mg8cErQMro8oAemi+5uwz1Twzm15TGcT4RNegYhixIAN9AatOEA9SqIoYsbiE/hIqA0YXVAZRmVT0MltV5kYCJEACJJBlAlQZsgycxZEACZAACaTTCJKtDpwRJ8UvyQmyBhRFw1Ka0lT8VOumtQ42mziQg2g4FBY4+cO+xUcs8ofEAHcGpIGyAKMOugPqhpUOOAkhBhKAsE6nUYE0hI21mmTOxtymcbsoRRAwloisJlmBDCYT9QdnGMlYuQDpB0s8JoySAA8XHNOIlCFabQGYweZkJCtRPfFT6D4YfgCF36EmgBJcGzA+ITBh9MLFBuMWglGaMZaRWjETEiABEiCBuSVAlWFu+bN0EiABEiABEpgUAagMiLaAiAyw0DCLDlsO0QcwRQwXBogOUB9g18GKg10HQw6T//hIW25SZKeYCBPy8BOBqYzVAQhXie0k0mcAxQcHhAkc6JT0iRf6VQw5jD14YaDJ8KnBTh9YLgEJDF4Y4AblS6gMC72ZrD8JkAAJkEB6AlQZ0vPhVRIgARIgARKYFwRgtkFEgLu+CEAINQGWG1QG4cuAdRZYWQAZAueRcvKBD6bUNrEkBD8xWS1CeKbxKcAlVA/J8BO/w/6EjS2muxeo/IGGw36GqSyWliAGB1bQYJeNKTHMbGJRJdQKv2Q252nnhrGHA6KYyEFEvhRrPRBaAoMTAs20M+eNJEACJEACC4IAVYYF0U2sJAmQAAmQwGIngCli+OdDZcDMMGJVwHkBsQlgvcN+EyH9Yb9hhTwmkGfPihMhCZG/iE+JCqTZ7wCXRAwF/BQBJmCfCyMzy/EUMjV0RPOxEACaDsQdNF/sPZGp/KeRD6qEgYFjegtkplHiVG9BDeHEgZ9ghQODZ/bG51TrxvQkQAIkQAKzRIAqwyyBZbYkQAIkQAIkkEkCMNWgMsC4/eEPfwiJQagMcBPAXDF+h9YAiQHbRsKXAWZwJgs25AVTFvEIYSWKcrUtHm2LE9siaAEL4b+AG9EKVG+B+jKg+ag8WoF1K2jXfFAZUCVIDKCKX2x7Yc5PomIijKWIagGfi/njdjHncFgBEiABEshVAlQZcrVn2S4SIAESIIGcIgD79nOf+xxcFRAUAB7pCKeHuHqhUOi9995DmAasRID9j0gNiP44S3PFkAZQBCogNtGE0IAl99hKAPtZYLE96iY8FGBMwnkBB1Z2oHrQRGCQQ/uARAIdBHPaC9fIhD2P+JrQdOBOAnEnEoncvXsX0R/RdhBA04wDDvEysNsC+gitxiG2/Mi4Ewc6BTzRF9jHAVtgoNA5d6+wPHVipUxOPYpsDAmQAAmQwEQEqDJMRIjXSYAESIAESGAeEIB2AFMWFjt+Yt0BPAUQuv/mzZt37tz5yU9+AlsXEgD2MoAlPHsqA8qFpgDLGavuYT1ipQZEBJRbXFyM6XRhQsPiRSWxsgPyB/YyvHr1KmxsBIzA9p9QKBZu+EO0V4TGENoKrPqRkRHwR6vRfECwqAxQIt55553+/n4EiUT4BjQcOtEsNR/KglAZgB0OJvNgtLIKJEACJEACi5oAVYZF3f1sPAmQAAmQwCQJYIoehj2c5EVkBNu7hDc4LEkYnBab0zb9lE7C8xwHps0hKIjdE6EywLyEvwAMWpj9MHQRHnJWFyNASkCdsSUh9ALUAQ4LP/7xj0VAR6F94CqqhNl+4cgQDodhisOR4Utf+tJXvvKVBa0yoGlCZMFyCTQWfQHHgXfffRcDAwSw5QdoGDsUjgwQWaAyQPSByAJXjtlY1IBhBvECSgdCRUD+gAAkXC0wDHDgKtxeMj4UpzRumZgESIAESGAREqDKsAg7nU0mARIgARKYGgFYztAXYF5idhq/Y3Le9n7Y+TBEYYLCpwDHbExcw55E6VgZAT8CmJTYwxIVgxu/x+NBuba1ytRJYbUKLeOP/uiPYFdD5sCqgWAwCDKwt8XGFsKXAfEjsKYAjhVPPPHEI4kDdYYwsXCXSwAj7HlAhmJSXl4OwQVKChp+48YNCE8/+tGPLOEwsKQFKB5//HHIK5AYZiNAI2BCuIGvBOqGamDhzO3btzHq8BN9AVEDcTqw0SaGYqbGAPMhARIgARIggckQoMowGUpMQwIkQAIksKgJiECGMCmvX7+OpfipJqVhggqDH0oEJvC1zfwyyA7z0lAZYOhi5nx4eBieArBg4cIAlQFmfwYLss0KDYfMgZl5tHT58uV/8zd/c+7cOdi3wsYWCoJw+gABYQD/4R/+4dLEgY8wfRe0ygCFJeFQEo8BWVRU1NfX97d/+7e3bt3CohVcsjQNHh/Y5BJ6BIx8tB2qBBJk1tMEuSFnZAvmWDWDhSpYwAKtAWWJkJBlZWX4nSqD7WDmSRIgARIggdkjQJVh9tgyZxIgARIggYVNANPCMKcxIQybGWZkKhcGrZGw85Ee4gKc5HEvzD9YpLgRZjlW5sPpAMa2UB+SdQqkR/6wXYVYAAMS2gHutRCEyoAcEOMA55E/jElUT0xZp6keikMdVq5ciVJwL3JGKUZHeuT5B3/wB3DEQIgBpERWlpl5UQ2UiANCg4iDCMsW6zVSBQJ46KGHUBbECCgvOCyai2gIZtphJyNzCBCQS5IjSoiy4AQBUxkuAzDdobAgkiJahLaAkghXgbLgLoHwh3AcQHBK5IYbNZMev+AM6oygEkiGCiMZqoQzwv9CtA7JcBcyxKVly5ZBWkIylAhWomIoURyoPJauiBUKcFiwHeVoDkiCJ1ICLHIWyVAi6o+ruIRgCugLFIH8kWeyBiFWW6xatQr0MHhQf9yrZYX0yBk9Aj8RtAtrJcSqDVQSIwetw9XkkWZbW54kARIgARIggQwSoMqQQZjMigRIgARIIKcIwEKDEQizEJYtTFysw0/fPFjmsO5gEMKGxC8w9mAlwhQsLS2F+gAbWLO3k81pGJkQC1AiZqRRCu5CJjApLSUK4xw/YUv7fD7UCjYwksEOx5lkM1Xcjsr4/X6YnbBIoSAgMepj1BGgblRVVSE3XMUhtJL0jcVVYPn6178OecI2pbCloV/A1jUa8yIxCMA2Rh2ESAHLGe0VcR+MuQl7Hj+FWAM48NqAMIGPwixHKWgU8kFBUDQgNwAjWmo02pEA6fEThj0qA4Mchj16FhxEB4kShRiBn6CB24U+glqBhrFiyEc4ZYA/soXDgm3z0S+oDKqKuhlNfdRNuHUgAVQYjBZUGLVCiRgwlqxwFdoQ2oh6ol8gWOAwwsRdyBDNwRoWiBqQw5ADaojzOFB5CBO21eNJEiABEiABEpg9Ap8Qf5BmrwDmTAIkQAIkQAIzIYBl/+2J46mnnqqrq1u9evVMcuO9JEACMyGAABwnT57E84iQE08//fQ3v/nNmeTGe0mABEiABHKSwG/kZKvYKBIgARIgARIgARIgARIgARIgARIggewToMqQfeYskQRIgARIgARIgARIgARIgARIgARykwBVhtzsV7aKBEiABEiABEiABEiABEiABEiABLJPgCpD9pmzRBIgARIgARIgARIgARIgARIgARLITQJUGXKzX9kqEiABEiABEiABEiABEiABEiABEsg+AaoM2WfOEkmABEiABEiABEiABEiABEiABEggNwlQZcjNfmWrSIAESIAESIAESIAESIAESIAESCD7BKgyZJ85SyQBEiABEiABEiABEiABEiABEiCB3CRAlSE3+5WtIgESIAESIAESIAESIAESIAESIIHsE6DKkH3mLJEESIAESIAESIAESIAESIAESIAEcpMAVYbc7Fe2igRIgARIgARIgARIgARIgARIgASyT4AqQ/aZs0QSIAESIAESIAESIAESIAESIAESyE0CVBlys1/ZKhIgARIgARIgARIgARIgARIgARLIPgGqDNlnzhJJgARIgARIgARIgARIgARIgARIIDcJUGXIzX5lq0iABEiABEiABEiABEiABEiABEgg+wSoMmSfOUskARIgARIgARIgARIgARIgARIggdwkQJUhN/uVrSIBEiABEiABEiABEiABEiABEiCB7BOgypB95iyRBEiABEiABEiABEiABEiABEiABHKTAFWG3OxXtooESIAESIAESIAESIAESIAESIAEsk+AKkP2mbNEEiABEiABEiABEiABEiABEiABEshNAs7cbBZbRQIkQAIkkCsEPvGJT3zyk5/81Kc+hV/+/d///Ve/+tVvJA58zJUmsh0ksAAI4OnD8W//9m+//vWv8UjiwGO4AOrNKpIACZAACWSdAP88ZB05CyQBEiABEpgKARgzkiT99m//ttPp/MUvfjE+Pv7LX/4Sds5U8mBaEiCBmRKAwPfzn//8X//13E4qAQAAIABJREFUX5HRb/7mb37mM5/BsznTTHk/CZAACZBALhKgL0Mu9irbRAIkQAI5RADzpVAZPvvZz2oqA7wYPv3pT+dQE9kUElgABKDuQWLAAY0PjyRVhgXQZ6wiCZAACcwRAfoyzBF4FksCJEACJDA5ApgvxcTp5z73OSyawFTqvXv3YOfAc3tydzMVCZBAZghAZfjnf/5nOBNB+Lv//vsh/OGRzEzWzIUESIAESCC3CFBlyK3+ZGtIgARIIOcIwIUhLy/v85//PEyaf/mXf/npT38KrYEqQ871Mxs03wlgvRIeQBxQGaD6YRETXYrme5+xfiRAAiQwRwSoMswReBZLAiRAAiQwOQJCZcjPz4fKgHnUsbExqgyTI8dUJJBJArIsf/TRR0JlWLJkCXwZqDJkki/zIgESIIEcIkCVIYc6k00hARIggVwkIFSGL3zhC0JlgC8DtAb6MuRiV7NN85oAVAasV8KBWrpcLqoM87q3WDkSIAESmFMCjP44p/hZOAmQAAmQwEQEoDLAnsGKCawJxzwqksOXAdvpTXQfr5MACWSSAFSGf/qnf4I7A8KvCl8GxmXIJF/mRQIkQAI5RIC+DDnUmWwKCZAACeQiAXhlw6R56KGH7rvvPngxjI6OYtEETB3EgIzFYrnYYraJBOYRAfgNid0l4MWAp+8f//EfEZfB7XbDvQiP5DyqKKtCAiRAAiQwbwjQl2HedAUrQgIkQAIkYEcAKgMcGWDqwLyByhCNRmHqYN0EfBwQfw4/7W7iORIggcwQgN/Qxx9/DFEvEom89957ePQKCwu/+MUvQmj4rd/6rcyUwVxIgARIgARyiwB9GXKrP9kaEiABEsg5Ap/5zGcQ0P73fu/3sG4CPtvQGj788EMYPJhZxcecay4bRALziwA8hrBGCWsl8Oh98MEH8CSCtAffogceeABbzM6vurI2JEACJEAC84MAp4DmRz+wFiRAAiRAAikIYBG4CGX/4IMPlpSUYFdL+DUEg0HMr37yk5+EAIH7kCbF3TxNAiQwTQK//vWvcSfiody5c2doaAhCw+/+7u96PB5IfnAjkiQJD+A0s+ZtJEACJEACOU2AKkNOdy8bRwIkQAILnwAWgSPIHOwZWDjLli2DbYMVE1AZoDXgDH5CYqDKsPD7mS2YjwTwfCEGyo9+9KO+vj4oC1glIZZLYI8JBGXAszkfK806kQAJkAAJzDUBqgxz3QMsnwRIgARIIC0BKAiQGITbQlFRET5ipwkc//AP/xAKhUSseyymwMIKOHJzcjUtS14kgYkJQFlALAYslBAP2t///d+///77kPagLGChxMMPPwytARIDQ6JMjJIpSIAESGCxEqDKsFh7nu0mARIggYVGAGslfud3fgfGD4IyIL49gjLcuHEDMRogPXz5y1/GGcSi40LxhdarrO+8I4BHDMuRIDH8+Mc/vnv3LiQGRGSAkIenD8slEPcR0h7lvHnXbawQCZAACcwnAlQZ5lNvsC4kQAIkQAKpCQgRATOoMHugKcCXASrDO++8U1FRgWUUwpeBKkNqfrxCApMiAJUBO0oguipiMVy+fBmbSuDRg8qAcI9QGbxeL/yJuFZiUiiZiARIgAQWKwGqDIu159luEiABElhoBBLhFz4BHQGzqXBkwMyq2GkC21teu3YN0gMcuXFAcRCiA3QHHIjpIMI6LLTmsr4kMLsEsDLiV4njl7/85S8SBx4r/ESUR7gIwX8B+gIety996UvQF/C4/f7v/z69GGa3S5g7CZAACeQKgU9Asc6VtrAdJEACJEACuU8ARlE0GkVEOvgyvPfeez/5yU/wCxaNQ1lA6HuEpvv85z+PjSewhhyzr4hXBzMJM7GQG3IfDVtIAlMhILaohNuCiL+AZwr+CzjwQOGxgoQHcQGyHWKswn8BXgx4pnDQXWgqjJmWBEiABBYpAfoyLNKOZ7NJgARIYIESgGMClkvggIgg5AP4MmCnPVhHaBE0CBhLkCE0lUGss4AGsUDby2qTwCwRECsjfv7zn0NlwHaVQmXAswN9AUKD2LcSEgPCPUJlgEcDPIlmqSbMlgRIgARIIMcI0JchxzqUzSEBEiCBxUIAphEsop/97GfYaQIHzCQExocTOFaMC3MIH3HgIyLVcRn5YhkWbOekCfxaPcRaJPwUJ8RHBEDB0iS4MMCdAf5BOCadMROSAAmQAAksdgJUGRb7CGD7SYAESGCBEoCggMlYLCnHHCwOTMDCzRsH5AaoD3BtgACB+VgsNYeDA5cHLtBeZrVnjwB0BBHBRCyF0H5ioQR2rHzwwQfFGbFpJfetnL2OYM4kQAIkkHsEuGIi9/qULSIBEiCBRUEA7gmf/vSnRWRHrBXH78JqgsogDggNkBsQzY4qw6IYEGzkFAnAx0eoDAhfggNLkO6//378guVIWCiBcI/QF4TEMMWMmZwESIAESGCxE6Avw2IfAWw/CZAACSxoAvDxxrIIuCrAZwEBGnBAU4CyAB8HETBfrJuA48OCbiYrTwIZJyAWE0Gbg0KHAxFShWwHzS4vLw8/cQkHVxtlnDwzJAESIIGcJ0CVIee7mA0kARIgARIgARIgARIgARIgARIggSwR+I0slcNiSIAESIAESIAESIAESIAESIAESIAEcp0AVYZc72G2jwRIgARIgARIgARIgARIgARIgASyRYAqQ7ZIsxwSIAESIAESIAESIAESIAESIAESyHUCVBlyvYfZPhIgARIgARIgARIgARIgARIgARLIFgGqDNkizXJIgARIgARIgARIgARIgARIgARIINcJUGXI9R5m+0iABEiABEiABEiABEiABEiABEggWwSoMmSLNMshARIgARIgARIgARIgARIgARIggVwnQJUh13uY7SMBEiABEiABEiABEiABEiABEiCBbBGgypAt0iyHBEiABEiABEiABEiABEiABEiABHKdAFWGXO9hto8ESIAESIAESIAESIAESIAESIAEskWAKkO2SLMcEiABEiABEiABEiABEiABEiABEsh1AlQZcr2H2T4SIAESIAESIAESIAESIAESIAESyBYBqgzZIs1ySIAESIAESIAESIAESIAESIAESCDXCVBlyPUeZvtIgARIgARIgARIgARIgARIgARIIFsEqDJkizTLIQESIAESIAESIAESIAESIAESIIFcJ0CVIdd7mO0jARIgARIgARIgARIgARIgARIggWwRoMqQLdIshwRIgARIgARIgARIgARIgARIgARynQBVhlzvYbaPBEiABEiABEiABEiABEiABEiABLJFgCpDtkizHBIgARIgARIgARIgARIgARIgARLIdQJUGXK9h9k+EiABEiABEiABEiABEiABEiABEsgWAaoM2SLNckiABEiABEiABEiABEiABEiABEgg1wlQZcj1Hmb7SIAESIAESIAESIAESIAESIAESCBbBKgyZIs0yyEBEiABEiABEiABEiABEiABEiCBXCdAlSHXe5jtIwESIAESIAESIAESIAESIAESIIFsEaDKkC3SLIcESIAESIAESIAESIAESIAESIAEcp0AVYZc72G2jwRIgARIgARIgARIgARIgARIgASyRYAqQ7ZIsxwSIAESIAESIAESIAESIAESIAESyHUCVBlyvYfZPhIgARIgARIgARIgARIgARIgARLIFgGqDNkizXJIgARIgARIgARIgARIgARIgARIINcJUGXI9R5m+0iABEiABEiABEiABEiABEiABEggWwSoMmSLNMshARIgARIgARIgARIgARIgARIggVwnQJUh13uY7SMBEiABEiABEiABEiABEiABEiCBbBGgypAt0iyHBEiABEiABEiABEiABEiABEiABHKdAFWGXO9hto8ESIAESIAESIAESIAESIAESIAEskWAKkO2SLMcEiABEiABEiABEiABEiABEiABEsh1AlQZcr2H2T4SIAESIAESIAESIAESIAESIAESyBYBqgzZIs1ySIAESIAESIAESIAESIAESIAESCDXCVBlyPUeZvtIgARIgARIgARIgARIgARIgARIIFsEqDJkizTLIQESIAESIAESIAESIAESIAESIIFcJ0CVIdd7mO0jARIgARIgARIgARIgARIgARIggWwRcGarIJZDAiRAAiRAAvORgBxzSPxjOB97JvN1kmWHJGU+W+Y4HQILszOiN3p6bkYT7XX7NwR8HE7T6XveQwIkkPsE6MuQ+33MFpIACUxIIHLx0J7de8S/plNDE6ZngtwgEDq1s6IwL89VWLGjMxTLjTaxFfYE5BtttSvy81x5S9fs6YnYp+HZLBEYD7ZtKsl35eUVr2u6KCz2LJU882Kuf29n7dba+L8dbUG+NGYOlDmQAAnkKIFPxGJ8R+Zo37JZJEACkyQgD+xZVXHotpJaWtF89Uqjb5L3MtnCJRBue9K/s3dcNEAKHL55YYd34baGNU9HIBZsWlXRckMWaVwbOu6eqnGlu4HXZpHAwAslFQdVMddd03Wro3rBdEa0c31h7bnEQCpq6Lt1oIxuULM4Upg1CZDAAiZAX4YF3HmsOgmQQEYIRE6/1P6unpP8bn9/zk91RgfadtTWbqltOpPzTU05RuTB/n5FYkAauX8gqNigKe/ghTkjEDrdhOFau3W6s8djb/e/q3dvdKD/+izMsMi32/dginvLzvbhOQM15wWHTu2ZqKdCb/eH9HqOBfsNr985r/8EFYiNhkaVgSQVeh6gxDABL14mARJYvASoMizevmfLSYAE4gRiwbaXe6JGk2O8v3cwx+3N6LmX9hzt7DzVfT26eFcVS4+U+vXWS35/8eJlMc/fBbHg9/6ipfNUZ+dgeJpPZv5XSz16I11+vy/z9qHc+0rTodc6O8+8E8185vO8h9TqxQZeffHQRD1VUFpaYOiM4tIvL5DWxasZDr+n1FYqLDA0YwE1gVUlARIggWwQoMqQDcosgwRIYN4SiMKR4XbCcnFXVT8mzMxosC84byuciYrJ1wf64212uryeBeOpnImGm/Morj+yv9qbF+fg29R6fAdXyWSecWZyHHm7/8fxnDB77JmeAe8sa/x/mgOF8QfctaL++OE6d2ZqZsglNqw4QTm93sznnvHqzk6G4bffHpmwp6TA3mONq93oDMld1nD0lZr82anMbOQ6NjqqOkAVFHqpS84GY+ZJAiSQGwSm9+c6N9rOVpAACSx6AnFHhu5IwpHBu6mh3jHcfTnuyhvqfzvkKMvZNfqx4d63EgslnB5P4WIeA5J/R9ed7dGo7HJBa+AxXwlEB3qvJ5RAqdA7bVXM9VjjhXBDdMzhyp8d21CVQhyY4p6dEuZr/+j1wlIUse5ogp7KDzRfHGmMRh0u1wJD9UE4rDi+SR7PohWT5v9IZA1JgATmngB9Gea+D1gDEiCBuSIQPfNSmwgIJ/mffjpQ6lc86OUb/QNjc1Wp2S83oswMO5wFi3fSVcPspMQw+0NuZiVc7+sX+xB4Cmdov0uzJTE4HAYpZLoOFzOjNA/ulvv7Ek5SDsdkekpacBIDwre8HxoVKoPTVVBIlWEeDDpWgQRIYL4SoMowX3uG9SIBEphtArEhzZHBteb5umUOV2mpsjRfzuXQDDJC3wlToNA7Q6NttruI+ZMAIqeo4VilAo9n3gK5PhAUUsgE0/jztgEzr5i2ZsQxr3tqJg0dHYmId6fD6fY8NJOceC8JkAAJ5DgBrpjI8Q5m80iABFIRiJ5/ue1a4huj01f3rer4tNTD5V/LdwSxrjgW6e8bdqzxp7o3+bwcjYxG7sn/Ji15sMA9DS/g8WhkbPSeLC1xe93TdAqXo2GEP5eWFHrdaf3/+/sGVHNoNidds9ii5O6Y3TOYzEz7xzM6Ehr9SJbuL4gPhbQp09dTHguFPpSlz2Od/7T8yscjoZF7cl6BrzDlkJIjodDPplFEfLzfi8owJws80xju8XZPtnWRt3vFHgQII5K6IelJTv9qLBoJj95zLMHEdbp2xob631L2TZjMNL6pPrE4zNFxWXJNt6MnGpBKcfFH8t492bEkv8A9pWUj0UgILzdn4u2U5t2iO0lltKdicmQkdO/nDunz8L1KOZIn08WTHXKp8/owrMYfRfSNB1OnU6/M8FUgj0VGP7wnf2ai4TdhRSY5jCfMhwlIgARIYNIE6MswaVRMSAIkkFMEhtq/+7qIyCBVPPeciPvo1NZMOEIDCM0wiWN8qHv/s+uWF+bnFy59pKRk+dL4b8vX7TzaOxQOhQz/ImPKHJgp07Fg/PZVS/NwV1FJySO4Pa9w1cY9J5V5UUsNBl6sWOpBQU+2XDbkNtLbtmvdShSs5JBfsr6p+66lODkyHBw4391+tKntvNqyn/a3729p0f4d7AzqOztOou22SbLVosjJjUuLlsb/LV93SKhFtvVJnIyeb3pyeSJx8bq2u0o6+cyzJSKHooqmK+abxzpriwoLPUtXbmnXhoF8t7tlS8XSfKdTylu6vm0oqbjojc6WbU+WuPPyPUtLlpcs9eTnuZdWbNrTdikRBcPukM/vLPEUous3Hgnq1+VQz8Fnn3wkP9+dyKcwv3BVbctF+0y0HNYd1HfijFxu27m2RBmTnvz85RsPXRbKklqIHOo9vDNeRKFeRNsVcxqbCsuhS+17tqCN8Rsx4JcW5eflL31y26Ee63iL3zyj1kVDQ1d6e061H9r3uuKF73AMnTMM1/0t+ki2qar51Ej7xuLEAChauu6I5ckOta1dir5e+sSeHsM6qeiV9qZNFfHHubikpBh9sPTJXe3WB0SOhm4M9J7pbD/Y0qlux/jRrTf0ZwoP14kB+56LRQZea6pdU1LoSgwYwCzMyyuqqH2xe8juMbTv6IuHnq0syc9zOvMKK/YN2GKI3u5p21375PLCxEsGBS0tdOc5pfylq9Y9+2J7isolcooMdL5Yi0GSJ15uxfG309LHNja9Zn47QcxKQGjbr/dU6OKhQ4cn/NfWLSLv2tbbIQ+dO7RzPV5sefF3Y+JByPOsXLfDfrCJPGY05OyrYTwrh0ZGlc9QalILLtN4FZgKjwy07619shgvkMKlyxPDz5VfUllrJW+6J9S2PjGMH9vZnQjAKQ55uLtlK95a6jDGG2lbWy6vBzQx4QcSIIE5JRDjQQIkQAKLj8D4uTqvmGR2uuvOjGkAbr6o+i+4qjv00/aAxi42V3kmO8ns2np23JTN2OCJurKUwdUl74ZjN803xGLjHRuU4vwv3kxkNn7zRJ3fdnrPU9MRNpQXbg1MWNO86q6ofUsndza7LbrSqG1G6Nvdl66G432Ny5Q/tO5Neq/e3FemIJHKDgybM7jW6BfDI08ZBiPnGoydJa09Zhod0ZvHtpW5UrktOF1lu86OyDZ1HDmsdItU2TqSuD52+UB1kV1XSb768zYjUs9h9YE78QxGLrwQcCfXxF2tjYfx4Y76FXaDJr+q1cLBWOXw2ea1qYPqu8oakqo3k9Zd2D7xonf/3kEbpranftCgPO8OqfqkGaN8oV7EQHV66y8mbh6/07XLvjdda1pvGvpx/LVqu64yfavTetZYr7EfHKhZZtcFiVulZXVdd63NSOrosb59xo6WyvYn+t9wjN/qalzvS1dDp7v+vLWgxOfxwaN1/sm9nS7smHacXFfNGes7TtRmfLirIbEJhf2R56s7ecf2zpkMOVsQ5pM3D6xS3xmPicct6abpvgrUjMb6Dtb4Ug4Nh7uy+UIkqVCcwDD2JGjhL9o5kQBZJfbQSTqkZfVnxevGLieeIwESIIGMEKAvQ9LblydIgARyn0Co7eDroUQQL2l5/bfW6N/pvCu/qlho4/39g+lARC/tqVzf1CP8Z91lNbsPtJ44duxwY91qO0vM6Q5UlOpfmmOR7l2VldvalTmlfF9gS0PjvubmvfXVq8R3azl0emftfn12OlGV0Oj7okrSkrj3dnTgxcrHt7eLiUWX22vyJw93Nh3s1f0ZPoreU0Kjp26UewZhGrLfomWBgGqHhgbfSeN4Eo/xKeaZJX/9t2u0zo6MGJyfzSat/H5EiSQP0nkO+UrLhi2HjBOA3ke+qg+aSM/O//D4sycGooJwntu3IlC1NlC2TDWTYtGBwxvX7u2NJrEPa8u8XUuQYeTczsqv7xF+KBJ6tMitL7iQh9r/j0PBpE7Uc8hzLXFEenatXbe/N+6kA//7Iq++d0ak+6WTCfeLu+21a2rbrsXrIuV7vR5DEWM9Lx82jBlDbeVrh9atXtd0LpQYUZJ7VXX97ubm/c0N26oUiyg6cGjrM50RUwtn0Do5ig0IJjikyYffMwTtKyiwLLuIhkKKC4MEgo7x4KENj288nOhNp+T2eL2GxQXRi00tp/WKTaKSgFWgD5V4i+Sh12of/+aeztuJfCS3f21dw97m5n2N9ev9QqiSb7c/s63NMqTNHe0YOlq74cVER4vD6fqK32jty8ETtY+WbWw5MyReAq6isuqt9Q17GxtfaKjRNCanxy0UFiPqGEZRRQVeLKpnB4aib0VZ2QqfOnuPt9Oz/2m3GCqyHL1nvHsKvyP6rF1gmOjllnWrNx66pERAwCj1r66qWhPwJzYijR/jQ+3b/uPOM+bRlrgygyGn5J3uv1gk/IH6Tn3IW5CcdAavgnhmsVDn1scrd3cOiSGG4besLLC2KrDKp63WiVxs2ripxfKHIX7vOJbsiQotiQ9jR7R3d+Xa3d2h8fhj7l9V5jdsWizfbnvmhe4JH7Dk9vEMCZAACUyBQEa0CmZCAiRAAguIwPj5etWRwVV90jynEzlWpU7+pJspHTtb51HetPEd8kyTS2Nnt6vzhxAXdrV2nOu7GTZOvI1d2K1sZuFwuvzbjw2a5lbjtytZu+vOGp0LtElXzMe+NnbzcFXCJpF8G5q7bogsxu+cqfdrk1eF9Rf0YsdHbt28eW2w72CV8lXd6a45Ojh4Tf93c3jEdnpwEj07Jy0a69igmm+umpReGPJg8wqlxe5NXQbSY8fWqkZLcUOf2dFg5Ijq+VHU0Be50LAsnhL2YPX2xuZ9zQ1bqxvPqajG+hrV/DGLWLbjWJ9hQGHKWndMcPoafmABPN61Sa3btrNjlxvLEn3nWlHXel6Zqh2/1VFTpP5Nd/oar1h6Q8/BtbVr8HAgPiTyfDUHL9wRIydyQatefFI9qtRWKq5uPnNT0Bi73BzQ7GC0N9nnYvhYtWqLSp6q5vOmR2b8xoEqZdLbMp0+s9aN3bl5A4Ozq171Q5FWNV4wDNfBGzdHJu16c2d/Gr+VZsVvRQq0Dt/p2JSw1SVv1Qsdg6Kh8siFvWUaIdcGg5PT+NidGzfxEB3bospUeVUHLhsfq5vmZz82crpO8y5wr27oumUaEndO1qivJl/DZWNfGzp6y9mxa83KUFlWVQe558WGug0NHXq3jPWhwqo/C4bTAXU4iRz7dql6BFx1rAwNzzI4uAMNJ/r098LYza69VXEZ1VXWfEWtOSDcvXNn+GyD1lOPNfcN44z9v7O7/MqAlqqOJc2oj187ENB8KFz+usMXDE4LcW8pn/5+q+myzurPbMhN+KbDXwf1nWHjPzWjVwHKHjm7TRsakndNY9c1/XU1Hr7QXKlJoVLZPuHLZqjxDW0Ylx24NT64P/EqkLzV+86qAMdvHlVHFzogL9BqdHabsO1MQAIkQAJTJOCYYnomJwESIIGFTuBOa6XBvLTYfTBKl6vfgVUn9uQG6872Bkd0PdmIJlUkuWfDJf6MulgDX9X39tk4wRu/Lxo92Mc6lO+4TlfNiw1xNcHprjo4aG7BeNcW1SDCQoBb1rrfUV30HVJZc9JVa+rJfZ6rFulagNPb8AP7uo6drlGcUyR/8zVDmrQd3bdbEXpg2R7bja/+WMDSahaDRFZjZ7eqBpvTXX0kaY0LXM+vNGu6j2u9xaq6c0AEBHE4fNub64oT1u0m60qZkaOaaSNVnbCMFz0H75rquOWZX9b4A1ManVJxfWtC3nKtajDrYrDNtDFTdcxiuck3D6xWrxbVdNxN5qzfjmVBhsszb13CD1y1rVxbuiwPa3JVUp3RvfqT7epzdUrzpKrGFxN6CxheNHOWLzRoWo+NEKMvZXLYXDVUKnwsEWY2frjXttoMF83v3WHpa0NH7zjWvFqKP/v7Ltgtwxm/eTBhYcYPiJhdd6yy0XjHevUFmFTbkdO6IQo/ry47Q3TsSlfXlaT3lnyhTu8py+owU7foa2Hy685a6hbta1iu1i0/0HzZpsPvHNE0seRFIpkYcqnGEM5fUy15hxQ4bBFIZvgqiN05Ua0udJJ8W5N7LRaLXqiPvyISR6FZgEbdztWpL7qq1tMN8ec8z5+0iGns7DbN4cXmb1OapvMSCZAACUyVAFdMqK9s/k8CJLA4CMiXXn75kvB6lQI7nlOnONXGO4tLH1W+LMuD/f12YdiwtV5n14DIwrfp+Zpkl+P8r5Z+UclQjxYmToz3Nu1uF4s1XGsPdLyoz5Hq+KPRj5QPcXd9/fhA3ao9JncfbAuOQ6Q417VLdYtQ0kn+R5TtOB2xDyM/M9ye+NUQI73Am1xza/JJfJ67FrkfDxQLayo2+na/7ZqJofaXu4VXuXv9n9Wr+lGiVaPhD5TWSW6vNlOdOCWPjii5yR+92XZiSKps/v7J+uT4F/Kllj2vKSl92zqOaz4sBmzSivrn1SU50Ys9vaoXejxJLKw5YIdOtbQPO9xrDnz/pD7XLbJxl/jUmAKOexE1+Jy4ZszhfPeA7K45fLr5MVNr3IXqwo2R15uOBOXC6lf+0jBdHM9H8no0729ZNo/50ImdLZei8VTwxTh6vMYjCjb+jMY3m0gcwldbuTbz1iEjLGdIFI6joNBuLZJyMf1/0YgWtA8Li1QzVtwTCYtlIOiO3raDvVHEv3jtXLMmrIhEztJi9alyYC8Ya2naUiaHVOh5QHUisKZyRLtfaOqOJE57al45Ua/NXOspsfxA4S+5jHtaGGAtTF28AAAgAElEQVQ6+tva+hxlL5zusgvAIV9q+q9YmxNfSSH5dnScO1KtDR61lFBIWXiVVNtob8sLneLt5HBXtf5lq+bDYmyLa0V1dXJcj7HQqNpTHo/dQggli2hoRE33RevGpMHDO9puJMYSNLvDHY1qEARj6d6tDU8pLy45eLbb9NhnZMgZC7P8PhpWFlLBscmwAAGpZvoqGOtu2qu8qaQVDR02vRb3PvjWNtXHKvJmd5/y0Ik6YoQrK7Yc4fa9bcEYRM9zByrNLzaHq2pTlToe5OHhcJq28hIJkAAJzJAAVYYZAuTtJEACC4tA5HU1IoPDs7lhS3LcMql0pRpAYXygd9CudWPvXFe21nOXV/rtUujnLBsZhk62tN9NXJX8Dd+pSy4eS3PbX1ZjRiwrL1enB+O3vB8WFgq+08rjsmtNc8dei8QQT3WfdJ9evPU32M+qmZpkblnTTu7zXLbo4T/+Y4+opRwcULbnNNZaPv/qq1cS38XjERmqTd+4x0axYlkcBVajaFQzwxzDwaAj0HykwcYgdETaD7YNiYXx7hplGtwGmksPySH3998ypMBSalV0kGGoFyYsz2QbVZI+o91kuWrIAUlca5u/u8k4YuK3yTGHYo6MR6OwPfa9YqOLGattNMLHe1+G4Z246t7U3Igp9KQjevlQm5DtEOSywvA4zLx1KOuD8Kgg7JA8HmvTkuqS6gQ6VGGQrAJEtNAY2FFyXCp7oSPJNkO20n02TVeLMyzXlwoLbJbri4Q3Dn1HCSXgqtrdXG0TW1EOHm1T9rnIKw+sNBRpgBm6FowuazjyglUgjRciDzQ93yYiMWAlV8f+KhtkqWurP8swR/e21mnuG6m4Gs9/oFvgBVb1wJAOQoDWFwjLYBzP0e6XjioBB6TVjQeSRrKSixQIqE2Xb1w37fqRkSGXurG6IOX0eB8yDoiZvgqGTnxHkZ+c3rrvNNq81hO18gbKVV018s7gsLGmEW2LTXkoOCx7txw/rq3iMaZ7xK/kAJ11zCxZpm44r5AACZDANAhQZZgGNN5CAiSwUAnIlw+9fFEYTZJ/27e0EAzG9rgfLdVnyAeS9yt0OH4WUS0ft9U+FRnJoZAyTy4hAp+eOZwgvqdE15Mq6+vUZcxqgvg2gfE4gsIUwWzet+vUCA3xJIbZqvi8VuPBehuRwuG4F72nWFTO+12WqSzHaEj9Yik94E456RobOrQW22ra/3tyf3C+tMjpL1d9QeB4cl0xR7XahdoPK24jSY4McfNVjZwneQrNthh8QD5UECIv39a/sDe3httfV5xiHN5Nf2JnNCo1QQRBxSKJRUe1iVxc/CCkzBvjd6er+sXvau70OmH8dk/zbTE7C1hz8Nf/uea0rmcQjajaFGzl5fV/Zme8YcwoNzhNsQqj59tfH0lccfo2P2OWaXBybKh738bHv3lImIaYg31+jcH0mnnrYDVrYTidrsnHetQbL36LT3Er55JUAMPehOCzrOGgFjPFlAv8NdTP+QXx4HrGQ48fmcbhQu79XqdiQ7ur6pL0TXm459C2ikolRKjk29aw2ehqZILprv7zhEt80hE6+ueKLwBktUP2aRwGpwOTe0gs+D317eQo2tygLQVKKsX2hCG+pssUhtaSOjYaUfuiwOM2vp8ip9tVS9tdvd1OgVWyguuN+uaLhUL66M7EA2XbNvWkHlrSWeB50JB0hq+C2MD3Tqryyoqnn9MW9CVX5kGPpsuEw0aNwDSMHfnVzS9WWd/9Ire8JVrADlV9TC6GZ0iABEggAwSSJ00ykCmzIAESIIF5SSDy+nfblcnn/KrntxlNeEN9Hy7/ar4jGP/yKg/39UccPut84CcdcQ+FuE37C9VV3NTc6MU3esU8eX7gGxUGa+DdN9+4LVJKgfVPiWzlyFBwsP/tS70953t6h1VTBlG79ncd32AqWd8TAZNaWxr1Nbpm1hHdqvR6jV+FkczgUSzZxkgXWcXC1weGlDjn5sxhiLnz7tfPzXGLpMDqcum1nrgkMPZ2/7uOgEG4kS+/+qpQAZIdGeLmq7r8JNl8hUikmS5S2dPb7CaNseHHuTcVy8Dpra62T6OAypPUAQMvFF2/cIxG9D0CltX/me3cI6oaGdXm862WtiEH15p685IQpXB9rh6LyZ+pUyIdmrrV4MSOqXj9e4Hce6ZHccP2VD21KnFPLBq6fX3grd7ei2++eTGobAOQiPXQ8ZfmOdiZtw4LJkbU5QxOt+chU6Wn8GFsVHPmT1p2MTo6ovaI01X13+vtOzIWiYwqyWzkuQ802TG1w0Wsv/uc4t3vXrNZ0TejePj7+/t6ey709FwJweskcWBZ/vHv71N948U5I8yizX+y1s6EjA28ekIRMeODQQtKaiFlcDowuYfcfuNN4aIFZW39ZnPxE8Me1VxCbPet0DIYC6k+RNIDhR5DvtE3zymVd+QHNqextAEoT3PukeVfGPLIxJBL3VR5VDPsXQXGRVYzfRVce6MnLIqV/OuqU/xZSiQwaARyzPAmcRiGscPh3/ZnKf2VYvoLSJLslKrU7ecVEiABEpgSAaoMU8LFxCRAAguZwJW2l88rZrxv6/MpJ5+l0jK/1H4+/h1OHuztH6+rNgZHwNlCH+am44EZYqHrVyOOVSYtwCEH276rrLC1lBJ5q3dYGBJOafT0M+teCw3fGg6NGb8sxue0/Wvrn//zhprlFkPC8B3X6a95JpUVYLAY8wvUnefUXtN3O3MkLRMw9GwkpFmPSf2NBcm6S/ict8hVEfBLPfG+kIf7r0YdyzRouqJk48gAb2HNKHIkma8jqgABe6Zic3VxEoP4iejAgCIyIIhnYIVtGvUkpAXVz8L4zR4mtLqUWgo8/bSd/R/PQQ/t4cSCd1NBeg6wkLcoupW5KoY1Mq6qzevNY1UkxfSy5sTuNoQViPX3astQYtdf2vTk6J2h4Xcjap2VciRPYPOOxuYdATV2nXJ+5q1DRuGwNhKTJDNzO9N9MtjVbsuyi9iHYU1lKNxcb8sHWcdGQx+qJSTLc4bl+lYZSKvW7f63hVcIzgy11679Tmh4eHgkqg2MRMLEFqHfbm5Yb41AYYDp8G/YXGb33U2+9Hr3XVEelt9vtuvp+NVU+lrorX717eQOTLQQTGuW9stkA77oPkQOQzQQVKt/YFB5E0orA+WWV66lPF1aMK4mimtSM3ygkttlOGNYd/OgxzDaZ/oqCL31tuLT5Cz42uPpRIa4SKm9SZwGjcA4jPOq6rf7UzZk7J72/LrdVqeclHfxAgmQAAlMnYDdX6qp58I7SIAESGDeE4h0vqyuosf3/KOV+UdTV1mb74kO9N9wVD9mTpkX+Ealq/M0BAu598i3u9d36DHSsJH79o0tIhaAp6Z5t2lmdOiWsnc9JoSD57uDxlzz3P6KwB9XPvXUhqoybVt4U7FR3fRf9lSNdbWFmjQW1i1G01fhRALd71pymyYSzQ0s3HwsGDDbP2oCp1RgqN7ct8gTD80wMIzqydcH+uWt6nYM19rahKJk58iA1AajKMl8HYloMd78a6psl6U4YsPXh1Wj6OFSLTKgmaPyKarNgztdSwxO4vB5VrMor15vXw6y0FdcOwvcZucUPQdnecASsFAtXB82D/p8dlPgcVvedkFBZGhI8+kI93aHjY2TXMX+wOpvVK2vfmq1T/fBNiSZeevQp1oYToc7STKzZW13UsY6IdVNwGtZHWPwW/GurU4l3WGVQUSL4lFoDW1oXK6fyuFCHrqu2PDo0Cvd3cZ6Ol3eFeWBJ6uqq5+qWm4vDhg62veNdfY2ZPBir2Ks4gVlF0EjUabcf0mVjszuIcO3riuj0Vnqf2Sqs9wGj/20AV/k90dVi9pbYAxtMDL0Q0UBdniLv2I/ThVo8qgWA9VZUGAAlokhZzeAxDnjQiqj0jTjVwHkJpV8cfHDqSuAK/DKUa8XFBoUR8Mwdq3ZrEbHtMvq7rDizYeYr8X2AqrdbTxHAiRAAlMmQJVhysh4AwmQwIIkcK3tpXPq11g0YNzouZ66QWLzgscsFqCr5r83/I/zTQMwPO52biwbqt70VLlHkkeu957u7g0nvjEiqgKW2ZsCvBm8DPK8/pXF3sICr6fYU+T7aklx8TKvramm1wyLHdRJV8lrjppmqr6+dYLjoQKr5arHj8TaZnt7JlF5l7co7fd8pcR50CJncXmF2zEct4YjVzEZW5XwCIh2vtweTBiW7g2WrSVE1Y1GkdV8NTgIeP/4cStCpelwUdYs8C+kDviXSI1Y7qoV4fMXqRnETeiw8sHl9absDcRVUMctkpm6xZyDbY8Zhw3Wwdv+zYfpopvQhln097R4fg5XcVlpkRfr4T1FHl/xV4r9fl9+ekN05q0DGz0Mp/Sgx2NbeQ1n6l+imkNEkjOIw7Aa5QGPJ2UepigeD1iS6WtSkmQgLaXBIQWaQmnxQ26vx+cp8vp8/tLlPqvPkbUeBpjuQMC0VYqWNPJOUN1v4cup5CS893o7z6jJnEZ9LaKvHHEVFNhEprTWyfw59b4V5nSjYa10tym0AWKhqEqQ220lbClrSFVrHV/0GcKyZmTIpW6mwZKHx4rhaZvhqyA6qq87KiiwfYrVSmFbCE3bLC726HUd0RdVlZbZ7VukJh0afFvxZZAQ1Cb9I5waBa+QAAmQwCQITPeP9iSyZhISIAESmDcEEmanMPXiJrR1NjKpnvdG7wrPcDnY1xvdbdnp0OFY3nj6ZGTttrYgDMBIsPtwUJ2clKQ8CRtAIMxeszXM3j1tj0Bp5be6LtrHbkyqiXpCxspb5XeX6Tuu+Y5UFmMilR4/MtncSllwmgtz3yI4mZevLned6I4b4u/2vzPm8MNcv932koigmcKRAebrqLaZX5L5Gh5RXQxA6Yspmm9wXXZMsLw5pO+y+eXyrxVqGUKjUcQHxwOWlRDGQg2W9hfdZplAz0F60HJJzSGmDxsEPrSXMowLCoxT/R9HPxbZON2bD/e1VqZAYX965q3DOoUPIx+oiJLXKdiXa3PWGLTP4gziGNGVFKh+NjcnTuHh07wh3NZkBsUq3+tN4er/i+hHSkukQPP/11WTIlmKCkymo8PaJgNSKjkJb4DT7W+orxGHaUXVx3qImTzXlD3pEbdC7Smp0JuSI9xmRlTFLc/tNWoZH8vKYAOCvPtScEicHuvvva2wdJerey7EL2RiyKUpWF9IJZkEqZm+Cu5NPlJCsK9fURyhEaw0CBLwd9I0mjTvEkeop0eVKbBBj/4uStNsXiIBEiCBaRKgyjBNcLyNBEhgIRG4oZqd8cnt41dfS4qWb2lMLNi0YmVLIlKjPAhH/DrVEV9P517f2rey+vWjnd1vvRP+8CPHbz3gKfla1YbyyF/UtlyT/BurbbYk1O7+eHKeFMZaRbT9CCSP295ajCc3hnYrtE4JpvG9twCY8sc5ahHqidAMpVJ3PHCcfL13UK5bK/e83CYUpbgjg+3SEkMUTEeB1RMBq+yV5ptjvJmYOA3SQiKiY8ppwbvdb1xTjCJf1Tf04AsmLwN3yol6w76DDuz8Z6yEIQdHKiNcHzYOa1AHNavUCwrUNsVkdduSSY+LmbcORWH2WN3pExJASsITVMqw7AIqgHmuODoyqkztwvc+dQmjujdEgXkLQ5StB95L53DhVAMWxuSPMRympDIYO7rAm8K75l5UMUDhi5RiNMaC7a/2aKnMtb1P33NXNhj8E7BVLxt32bDfd0ekjIbCavkPmh2ynPoGvB+P64JDcvmRcz39wvXG6f7GWsMal4wMueTytDP6QiqHSZCa6avgPv1VYooNm1SV2MAb55Q9j6TlT1XpXlGOaFgNSOFMHp+GfG50vi5W82Fr3401qQLBJBXMEyRAAiQwHQLcyXI61HgPCZDAgiIQ7VbNTmzIV/etiSQGtA1++I+qlvxYf7+yMYS10VJhoG7fsbM/GLw5fOfmtb6zJw/Ue4feTMyzIZS9NTXMWTVL2RACLSlZihMjYdWjGJmnnCw0WIyOCSZdzeZWilLTn57zFiWqBx9yZTFzdAh7yIdfP3Q6sZghpSMD/MYjo6r5mrTpQERzMYAZZr/EAJnDKNVmArFdRUpO8sDR78WDU8brU1ZTW6YnNHgZuApTO0pHQ4b9EUw7/yEkoebeYnbhNtTmA90RvSBFJA7jggK3cR+HL2hqloxFASmbaHth5q1Dtu/pypo7zXIG2wroJ43LLqweH3DgVxQg7Ixg2ZDFkO2H2gy8021NZgy8l0rrwSB1L1FUkphhTdMENVcvGzva406ptmjTRuOyujGpqYDIa39+6IbS3PgFU21d+ioJSAaaFDHJGn4Q1nw9rPvCGnMwxhktMC+BKdQ21pVBO2WxsaH246pQUrS5zrgVRUaGXMqCDaElneaIEjN9FbgKtC6NjmrvpeSKRM/9j9fvitOuwNObjVEiR43uVymHceLvoHB5cAXqt6QNM5lcPM+QAAmQwBQJUGWYIjAmJwESWHAEhtteEmYn5r0rv1WffjsApXXYZ6JUtQpC/W+pa4knbHtoKOEQHF8/m5RWKn5EjRIY6e29kXTdcEK+OzCg7WqZOI9JV+V7fPxLbUqFwGAxmr8Kx/MYNdjPVnMrXW1SXpvzFiVq5vSVBxRNJxwODbzWLrYRTenIgFsMUTA9HrPHh2HPwpQOAvFCi0v9Si/I7/Zjv1P74/ah3SeU6Uf3hudNjhUGL4N0kTgN9pt55z+4v+tGuPWSWhvjhgLeFMPGuKDAtFReX94vX7/Um87wjEWCl4L6rpwofeatQyYII6L5gaeovD1241mj38pDVkcAtF1J63SnDo1h2Kcjz2vy88fN4/q+p5D/UkkA7pJSZYvQ2PAE75OxoQHsamlswiQ62uHQ44rKd4dV/3lDLuH2P93bE3W6XKobhdk9xPAsy/29l1L3tmxYmKBlP6oHTE25y0Y8sR5n1FVodivxlGL/YHGMvtWvPDNGCInfQyf3HFI8g1xVO54zBRbIyJBLKlE7YQjAaY4oMdNXgVS6Uvtbg11dTD2vV2d8oOX/VLYuchTXNZh3vcU6FCVl6pga0YtNTaeU0e7b2rCZyyVS9zWvkAAJZIQAVYaMYGQmJEAC85ZAtOdgm/LNzendvCvlBm+WBrgfLS1W5gaxx5q2od9EzYRPe+KuoZMvdSdZnr4nv+EVeWJG7uXOpOsi8+jA/nUl/oqK1RuNE496sH3nA2niNhosRvNXYeQd+yiqhRm7z5XKHJqohabrc9witS7lFUrAM3mkp70rGD+dxpEBVw1RMK0eH7FQSN1wIV38C4eram1AkRnGe9uOqrtaGvFEenb+by3xEKE48quaXzQ70Zi8DFI6pzh0+y2++agxe4eeQ9IlNR0mOZVfMQlvX4hhQQFMFKN+Fd+qQPkcPf9Sm7ruw1SHuKLWufOxR1ZWrnx8u2HIz7x1UNa0Xfec0pIJgl9YKmX4mNZvZXRENafdBYoKYJMT9qhQzz6YtOodkVAUKcRxf17qp2pFVZVi18m9R18WQlhyUZFzTU/6SyqeeLz2pEHZNHR0yuARzmKfttNJpKe7z2ysRnub/tue7ojk39WgLv7ClrQeYwV8Ae3tZJj0NldRvtu984mipcWP7lS3BBbXo2NaKJMl6d4sY6GQEmcUpbtNeTvLq9cqWqF843uvXrQxtqOXm2pf6BErXKTHGg5sM/uLZWLIJfeIesYQWtKqNM30VeBeU63s3BmL9hxtt5G0Y6HO7bWHRDQKp7duX6N5MxRD5E7Hx7KdQCQPtz+zTd1iyVN34AXLbirR4NGd655YWbH22UOXUvxdSo2GV0iABEjAlgBVBlssPEkCJJArBIbbv6M6MkirnnvO6GGbvokPl2tza/JAv7rJm3aPHLnW035wz86tGzeufbLisZUlK1ZWVD657v/6O1noCCOde15IhCQ0Hiuefk412yKn/3TD7m71O7eSKHqtc8+aRyv39sSnMuVI+H09A2Mc+xRB/JCJwWK0BFcTJahrw+VbPb1hcUoeOt3Sctrmm6256ik+zXmLEvWSygLia7o8+PrrieUt6RwZTFEwk5YxR7SI71I632/4xax/vq5YYRg8WPvMSS3wPU7KkUuHais3tgkHdae35sjxOo9IrPw0ehkUmFdCGNMZdkmEgmUyYg05WC9pOYRHPlTMNdOGAsYS9AUFDmsgTFf19s2KLjYebPlvtYeumEf0eKjncG1FRW3btfj5j3V0jpm3DhnqkQJikd6L6iRvZKBtb5ui3ZiIpvhg9FuxRCpBzIv3FTyS7rGflI/BG0J6KCmChqQHFBjufVMZBHKo52BTu3GllRSo2+pX+m+4rXZDS68W+zNRoDwy0L6jYiXOx608eTT8ocba2NGm3R9NNXUFKsuV/GOh9v99T7caZjFypf3Z/7Cu5UrU9Vjjie3uqGrnW31bVtU8vUrJQL7SsnFrIrStdsQiAyd2VlZsjPe1HOq9eN14UdICQcRG/+6iqrhFeq099V5Ec3hJkkukwHNPlwk/i1iobftG02CLRQdOPFv5n1sUuddd1fr/NloC32RkyJmImj4YPDgedFsEqRm+ChyezfXrFc0lenHPxl3dRlcW+W5Py4b/+Mwp8YqW/DuOHVjvMlXNMIwdkc5n/vPOTjU6ZiKZPHRmz7rKZ7tF1E/JV3/0QJV5D5Ho6T9du6ut53Jw4Hz7nvUbDg2nxsArJEACJDBpAoz+OGlUTEgCJLDwCMg9h19VDBJsLfmndVNYioo1E36p/XzCCIm83fuuQ9lADt93T7Z853B7j3lFQzKb0Kk9TVsCrZXGb4Te+pcau5/YE/c+Rz6HN5a85iuv8Hvz73PI90LXEQBCdTbIL2t87XRzpfLVMx4+XYuaZooMbyl2NKRNRD2QtNslPHt9LseNhHUw1vNsWUlnmceBUlFoUaR8batleiu5RXZn5rRFWoXi2/tJPZdlZYNSqaz+2+mib0T0ZfYe0xoBZKiHz7QNrmFgIJU1Hm7oWX8obljKQ53bHu15uTzwqK8AK1Nu9vdeU7tS8lYf/v7xDVpXKjmEwtr8uNtjjIZgpmxQl6xV1XPAXhj2i7Gj2FVEyS/VsME+DqoQIRVY3R2k1c2tW3rWJebVMY+954meV5cHykoKljgd90Z+ONA3oE1N+za1/tWJOm1bwZm3DiVKJfAn6hYryYcOVpb0Boq/cG84XqgUKKy6sD059ImZnfg0qlm2mD83u3PERjW/FYc79c4IBm8Iq58/inD7fG5HbzhemHy56XH/m+XF940G+4MjsjtY+pQh0Kx/15H67krhoBS52PRkcZu/otznKbgvdm/0zkD/FS2An7dqX0fHbn0/QlNHWyO66k12b6iv3t/bmTAm5dttGx953bes+DM/Dw8Px4eiVFx3/H82+sdblJANiEPxkEm0cjh89QcaXv96SzAuQ8ihUztXnn81sNrvdd/nGBt9Z6AXLUoUJvm3d5zbrzryiFMlPrWn5OD+ipK3AsWfFT3lqvI8dXabMvj1qDEIUpi8BGZZw5EX3qzcm1ASwj17nih6tSIQKC7Ay++HA70DqmiCOCzNf91VV5Qo2HBkZMhZM9U+G0NLPpS0qerMXgVQLKv3v1LTt7EzjPLk4JGNJWf8gYqvevM+Hg0H+/uGtFeJb1tHl5l8vIIG9yt8il5pq13xetOqxHMauzfU39N7W1WEnHgX/dUB05+keAb953v05U7jwZ7zoYbiyT1c8bt5kAAJkIA9AaoM9lx4lgRIIBcI3G0/pEwBORzL6p63TAFN0EL3V1cWO84H46mwlBor75e7HWO9TZtqW1SfUldxoKqyvPQRn9ftijt0yzI8h0dHwv1dbd2YTcKM4uE3GivrTPblsoauU9G1W1oGEtEH5bGh3jNDvaaaSL71jQcON6r+1Ylr+I6ruiRjF7WUIQlhMaoTpNJDycmkqm11vjMJqxgHilYjlmNt+VDYESg21WOyH+ayRVodvV8r9zoup4iAYG0JJopV2zuvQA96l0hmchCwmmHWjFyVB75/Mrpxe3ti1leO3u7tvm3qTMlT1Xj0eKOuFuk5GJSOAndK09GwS6Lktviw6DkkXVKLMQY+TDKNRCLs46AqUzYmNBaGHPn+Mfm/7jyVGDUxOXStJ3TNzMFdVr/vSPNWNUxF4uLMWxfPZVlNfeWhZxXn/ETRasmRYRidXouVbK6W8ik6oofft+4iMRbSlhClCamAGBOGbSytapHDGajbVta+V3G1iN4d6FFC9MFSHwrHqvVI/nllB/66Q/4vz7QJpU+OBC92J94v+uFaXtPc+t36x0ylTKKjEznkV393f83A1s6QWMEhR4euDYisXSvqj/91azWWbFyOKkFknQXJypS0qrnraOQ/bW8fEv4O0aS3U56vZt/xV3boCohS9eVP161u23lRWLNy6LLWU3L4LkaOEt7QEGvzAbfH0GzlV8n/wumu6IaNhwfiyyJi0dCl7tAlUzL36oZXjjZXF9n0fGaGXHKlxBlTaMmkjY3jEX+m/yqIl+CuPv6/jjn+y87Ou/HnTB4J9pwyDw2Qf/H4K7uSyCO1wf2qbFfzVy7AiSYautwdumxuTH5Z/ZGOAxtsnpqEuqgqEQ7JXTjlnUxTYeN5EiCBxUyAKyYWc++z7SSQ2wTk3sPK+mfJHWj8vxumunGXf+PmgPL1WL7e1y/Hhtq2bFQkBneg4dTNkVsXOg43N2yrqV5bVVVZVbW2umZrfcPeA688p7guywO9SUst8H20uW/wQuv2Kp/ZbdWR5/avrT9w7ubV02aJAb2E2OxqsABsVZFymslkMdqsq8DU9F8drSszmjAub2B764WBs/XTkxgSI2gOW6SNYP/qckV8mciRIe4YohmXScvsDYEMHrDuJmD3uHg3HOsbONu8NWDuTcm1rKp+/9mbwbO2EkO8DlpEgDT7ZTqio5pf/YNeZfGCUg1DDtZLakURyfIDISlh1xPrhp1KIi2qqCPFCvia908AAAbiSURBVBHJV/fa1auvNdas0kLhK7e6igI1ezsGg32tZokhE60TRXjrTnY1rzXaRZJ7RU3jqatXD0/W8yZl0D6UoG/1granVHocqbYwVDH7d8P1QH1VJE5KnrK6/Wev/m2j9Z3jqW69fPXsvrqAxU52uryrqhuO9t260mGRGEwwU3W0WhP3po6/wduj2KWecEiFZTX7zl79QUJiwPHl0rLChImetKmnuMW76djVyx2NG/yWzpbyfYHtB84OXu1Ilhjid3rrU/XUfr2nwmHNbcabItamO7C/79b51vo1PlMFwGd1XfOpwVsXD9hKDJkbcgJD0s8Rw0bChUlKUyL5dF8FSlnSsrqOgasde2vKPHr34Zrk9lfvar1w62qHrcSAFAb3K29Z/bEf9B3bZfrjgr6r2tF6YbCv1U5iQAb+Hc11y4RwI3nXH2icmhyfxIonSIAESCBB4BOxmBq2iERIgARIgARSE5DP1BZt6ox7ljp99eevtq62mU9T7j5Xm7++Mz43lFfdMdJVowZ1t+YdkyPvDod/eu9jx31LEIqtyO3KjnuZHBm6NhS+J0tf8JQu96WL1mat8USf56pFE9UrG9dj0cjdcDhy7+NPLXF/udhsJGWj/CyUIY+Fhn8cjo/X+5Y88MVir1V2mK0qRMPB68OjsnNJQbHfL4zk2SpqBvlGQwODw/di0pKHfP5lE6OJhoeGw5EEy/s9X/a5U70lplMjOTKMvGXHFzyTqYl9CXhL3A5H/uVjx6fQ2Z7ioolbhHwy2VPjkaEfhz/CaPus2/NwZvnYtzhjZ2f8KsDYCH8Qufer+5YUFhcXTfCGlk9tzN/SHVcTnb6GH9w8sCrRDniCvBv+8Kd4yT/gedg78V+WxB+Fj/J8/uWT6uiMsWJGJEACuUuAKkPu9i1bRgIkkFECvbuWPnkk4bJd3NAXPFCWWhEIHa4o2Z3woC5uHAw2W+czM1orZkYCJEACJLBoCQwdrHj0hcSfGynQOnyhXtnKZNHyYMNJgATmCwGumJgvPcF6kAAJzHMC8rgSNw3xFz5OU9do78snlEXavrXfoMSQBhUvkQAJkAAJzIRAJKwGxrTdV2gmWfNeEiABEpgBAaoMM4DHW0mABBYTAU+Ruh/9yBttxt3sjRBGepo21LYNJ065qxt3lC0mQmwrCZAACZBANgmY4rNYttjMZj1YFgmQAAlYCKR2+SUqEiABEiABAwHflj+pOjLQjYD8sUj3jkdX9tXXb/hG+SOeJVhQPX4vPNz/d+e6O0/1DIlY3Xn++hPHa+i8yiFEAiRAAiQwSwRi4cj7SoRXqSDFPjKzVDSzJQESIIG0BBiXIS0eXiQBEiABA4Hopaa1m5RNKNOAkYqwf2FH42pTqPA06XmJBEiABEiABKZMINbzbOG69sS+yO5tF0aOBqacA28gARIggdkhwBUTs8OVuZIACeQiAdfq+CaUB7YHfCkEBFdxVf3BszcHz1JiyMX+Z5tIgARIYD4RGAuFxkV9JLfHfovN+VRd1oUESGAREaAvwyLqbDaVBEggYwSwT9i168GhodGoHJVlSXK5Cn1f8ZeWFaWQHzJWMDMiARIgARIgAUFAjkZlR2JLeinPJaXeXpm8SIAESCDLBKgyZBk4iyMBEiABEiABEiABEiABEiABEiCBnCXAFRM527VsGAmQAAmQAAmQAAmQAAmQAAmQAAlkmQBVhiwDZ3EkQAIkQAIkQAIkQAIkQAIkQAIkkLMEqDLkbNeyYSRAAiRAAiRAAiRAAiRAAiRAAiSQZQJUGbIMnMWRAAmQAAmQAAmQAAmQAAmQAAmQQM4SoMqQs13LhpEACZAACZAACZAACZAACZAACZBAlglQZcgycBZHAiRAAiRAAiRAAiRAAiRAAiRAAjlLgCpDznYtG0YCJEACJEACJEACJEACJEACJEACWSZAlSHLwFkcCZAACZAACZAACZAACZAACZAACeQsAaoMOdu1bBgJkAAJkAAJkAAJkAAJkAAJkAAJZJkAVYYsA2dxJEACJEACJEACJEACJEACJEACJJCzBKgy5GzXsmEkQAIkQAIkQAIkQAIkQAIkQAIkkGUCVBmyDJzFkQAJkAAJkAAJkAAJkAAJkAAJkEDOEqDKkLNdy4aRAAmQAAmQAAmQAAmQAAmQAAmQQJYJUGXIMnAWRwIkQAIkQAIkQAIkQAIkQAIkQAI5S4AqQ852LRtGAiRAAiRAAiRAAiRAAiRAAiRAAlkmQJUhy8BZHAmQAAmQAAmQAAmQAAmQAAmQAAnkLAGqDDnbtWwYCZAACZAACZAACZAACZAACZAACWSZAFWGLANncSRAAiRAAiRAAiRAAiRAAiRAAiSQswT+f+gLKqSRAO8+AAAAAElFTkSuQmCC)"
      ]
    },
    {
      "cell_type": "markdown",
      "metadata": {
        "id": "MztkZ-JGmDqr"
      },
      "source": [
        "You'll work with environments provided by Gymnasium a lot in Deep Reinforcement Learning. The Gymnasium library provides two things:\n",
        "\n",
        "- An standardized interface that allows you to create RL environments.\n",
        "- A collection of environments (atari, **BipedalWalker**, ...).\n",
        "\n",
        "Typically, an environment is used in the following manner:\n",
        "  1. Create your environment using `gym.make()`\n",
        "  2. Reset the environment to its initial state (s) with `observation = env.reset()`\n",
        "\n",
        "Then at each timestep...\n",
        "  3. Get an action using the model(, i.e., the policy).\n",
        "  4. Use `env.step(action)` to perform this action in the environment and get\n",
        "- `observation`: The new state (s')\n",
        "- `reward`: The reward after executing the action\n",
        "- `terminated`: Indicates if the episode terminated (agent reach the terminal state)\n",
        "- `truncated`: Indicates a timelimit or if an agent go out of bounds of the environment.\n",
        "- `info`: A dictionary that provides additional information (depends on the environment).\n",
        "\n",
        "If the episode is terminated:\n",
        "  5. Reset the environment to its initial state with `observation = env.reset()`\n",
        "\n",
        "This API is also specified in the [Gymnasium API Documentation](https://gymnasium.farama.org/api/env/#gymnasium.Env.step). Make sure to check it out!"
      ]
    },
    {
      "cell_type": "markdown",
      "metadata": {
        "id": "0cWo2Dl8nYsI"
      },
      "source": [
        "### Random Agent 🤖"
      ]
    },
    {
      "cell_type": "markdown",
      "metadata": {
        "id": "7RkVlezH000-"
      },
      "source": [
        "We already created our environment. Lets sample a random action from our agent. For the BipedalWalker the observation and action space is of type [Box](https://gymnasium.farama.org/api/spaces/fundamental/#box). As specified in the documentation the action space has four entries."
      ]
    },
    {
      "cell_type": "code",
      "execution_count": null,
      "metadata": {
        "id": "enjLEYnP1xFq"
      },
      "outputs": [],
      "source": [
        "env.action_space.sample()"
      ]
    },
    {
      "cell_type": "markdown",
      "metadata": {
        "id": "j4j_gJ802VoK"
      },
      "source": [
        "Now we can make the agent interact randomly with the environment. We implement the agent-env-interaction-loop shown above and let the agent sample actions randomly."
      ]
    },
    {
      "cell_type": "code",
      "execution_count": null,
      "metadata": {
        "id": "yu8ViHmy2VVA"
      },
      "outputs": [],
      "source": [
        "rewards = []\n",
        "\n",
        "# Reset environment\n",
        "observation, info = env.reset(seed=42)\n",
        "# Interact\n",
        "for _ in range(10_000):\n",
        "  # 👉 TODO: Randomply sample an action from the action space (one LOC)\n",
        "  action = \n",
        "  observation, reward, terminated, truncated, info = env.step(action)\n",
        "  if terminated or truncated:\n",
        "    rewards.append(reward)\n",
        "    observation, info = env.reset(seed= 42 + _)\n",
        "env.close()\n",
        "\n",
        "print(\"Mean reward: \" + str(sum(rewards)/len(rewards)))"
      ]
    },
    {
      "cell_type": "markdown",
      "metadata": {
        "id": "VDawi3vVnrEC"
      },
      "source": [
        "\n",
        "As you might guess, the achieved reward is not good."
      ]
    },
    {
      "cell_type": "markdown",
      "metadata": {
        "id": "tNZ0rCEp3hVd"
      },
      "source": [
        "To see a video of our agent, we implement the exact same interaction loop as above, but place it in a function so that it can be called from anywhere. Addtionally, we wrap our environment in a so-called wrapper, see [here](https://stable-baselines3.readthedocs.io/en/master/common/monitor.html), [here](https://www.gymlibrary.dev/api/wrappers/). A wrapper allows to  modify or extend environments without chaning its underlying core. There is one specific wrapper that allows us to record frames."
      ]
    },
    {
      "cell_type": "code",
      "execution_count": null,
      "metadata": {
        "id": "5kX-O9MugYh5"
      },
      "outputs": [],
      "source": [
        "def record_video(model, video_length = 500, prefix=\"\", video_folder=\"videos/\", env_id=\"BipedalWalker-v3\"):\n",
        "    \"\"\"\n",
        "    :param model: (The policy to execute)\n",
        "    :param video_length: (int)\n",
        "    :param prefix: (str)\n",
        "    :param video_folder: (str)\n",
        "    :param env_id: (str)\n",
        "    \"\"\"\n",
        "\n",
        "    # Define a environment that is wrapped in a DummyVecEnv (can be used for parallization)\n",
        "    # and in a VecVideoRecorder\n",
        "    # Vectorized environments are used to significantly speed up DRL training.\n",
        "    eval_env = DummyVecEnv([lambda: gym.make(env_id, render_mode=\"rgb_array\")])\n",
        "    eval_env = VecVideoRecorder(\n",
        "        eval_env,\n",
        "        video_folder=video_folder,\n",
        "        record_video_trigger=lambda step: step == 0,\n",
        "        video_length=video_length,\n",
        "        name_prefix=prefix,\n",
        "    )\n",
        "\n",
        "    # Next we define the interaction loop.\n",
        "    # The model will implement a \"action, _ = model.predict(observation)\" function that provides the\n",
        "    # calculated action given the current observation.\n",
        "    # Note that the interaction loop differs a little from the one above, as we are now using SB3 specifications.\n",
        "    # You can read about the (important) differences here: https://stable-baselines3.readthedocs.io/en/master/guide/vec_envs.html\n",
        "    obs = eval_env.reset()\n",
        "    for _ in range(video_length):\n",
        "        action, _ = model.predict(obs)\n",
        "        obs, rewards, dones, info = eval_env.step(action)\n",
        "    eval_env.close()"
      ]
    },
    {
      "cell_type": "markdown",
      "metadata": {
        "id": "k6sqgetS5NYG"
      },
      "source": [
        "Now, we got everything together we need to vizualize the environment. We only need to pass a model to the \"record_video()\" function. Our random model implements the predict function that returns a random action. The structure of the return value might look a bit weird, but it is required for our implementation."
      ]
    },
    {
      "cell_type": "code",
      "execution_count": null,
      "metadata": {
        "id": "8-bHCD1x44kX"
      },
      "outputs": [],
      "source": [
        "class random_model:\n",
        "  def predict(*args):\n",
        "    return [env.action_space.sample()], None"
      ]
    },
    {
      "cell_type": "markdown",
      "metadata": {
        "id": "5rmqdVEI6lJm"
      },
      "source": [
        "👉 TODO: Call the record_video function with an instance of the random_model class. Pass the argument prefix=\"random\" to the record video function as well."
      ]
    },
    {
      "cell_type": "code",
      "execution_count": null,
      "metadata": {
        "id": "uMZuYyK_20HG"
      },
      "outputs": [],
      "source": [
        "# 👉 Your code here. (One LOC)\n"
      ]
    },
    {
      "cell_type": "code",
      "execution_count": null,
      "metadata": {
        "id": "5sM-IAOy4xYu"
      },
      "outputs": [],
      "source": [
        "show_videos(\"videos\", prefix=\"random\")"
      ]
    },
    {
      "cell_type": "markdown",
      "metadata": {
        "id": "xTR6vokS68xk"
      },
      "source": [
        "As expected, the agent is not performant! Lets improve our control policy!"
      ]
    },
    {
      "cell_type": "markdown",
      "metadata": {
        "id": "XvqbY4Yg7Drw"
      },
      "source": [
        "### Heuristic model 🤖"
      ]
    },
    {
      "cell_type": "markdown",
      "metadata": {
        "id": "-k8QVgxI7HCg"
      },
      "source": [
        "Next, we don't use a random policy but a heuristic, i.e., an empirically designed function that fulfills the control goal somewhat. The following heuristics is provided for the BipedalWalker in [Gymnasium](https://github.com/Farama-Foundation/Gymnasium/blob/fa8ebe372c8063aef559db02b04aa4949145c2a3/gymnasium/envs/box2d/bipedal_walker.py#L785)."
      ]
    },
    {
      "cell_type": "code",
      "execution_count": null,
      "metadata": {
        "id": "w7vOFlpA_ONz"
      },
      "outputs": [],
      "source": [
        "# heuristics\n",
        "import numpy as np\n",
        "\n",
        "class BipedalWalkerHeuristics:\n",
        "\n",
        "  STAY_ON_ONE_LEG, PUT_OTHER_DOWN, PUSH_OFF = 1, 2, 3\n",
        "  SPEED = 0.29  # Will fall forward on higher speed\n",
        "  state = STAY_ON_ONE_LEG\n",
        "  moving_leg = 0\n",
        "  supporting_leg = 1 - moving_leg\n",
        "  SUPPORT_KNEE_ANGLE = +0.1\n",
        "  supporting_knee_angle = SUPPORT_KNEE_ANGLE\n",
        "  a = np.array([0.0, 0.0, 0.0, 0.0])\n",
        "\n",
        "  def predict(self, s, *args, **kwargs):\n",
        "\n",
        "    s = s[0] # make compatible with SB3 API\n",
        "\n",
        "    moving_s_base = 4 + 5 * self.moving_leg\n",
        "    supporting_s_base = 4 + 5 * self.supporting_leg\n",
        "\n",
        "    hip_targ = [None, None]  # -0.8 .. +1.1\n",
        "    knee_targ = [None, None]  # -0.6 .. +0.9\n",
        "    hip_todo = [0.0, 0.0]\n",
        "    knee_todo = [0.0, 0.0]\n",
        "\n",
        "    if self.state == self.STAY_ON_ONE_LEG:\n",
        "        hip_targ[self.moving_leg] = 1.1\n",
        "        knee_targ[self.moving_leg] = -0.6\n",
        "        self.supporting_knee_angle += 0.03\n",
        "        if s[2] > self.SPEED:\n",
        "            self.supporting_knee_angle += 0.03\n",
        "        self.supporting_knee_angle = min(self.supporting_knee_angle, self.SUPPORT_KNEE_ANGLE)\n",
        "        knee_targ[self.supporting_leg] = self.supporting_knee_angle\n",
        "        if s[supporting_s_base + 0] < 0.10:  # supporting leg is behind\n",
        "            self.state = self.PUT_OTHER_DOWN\n",
        "    if self.state == self.PUT_OTHER_DOWN:\n",
        "        hip_targ[self.moving_leg] = +0.1\n",
        "        knee_targ[self.moving_leg] = self.SUPPORT_KNEE_ANGLE\n",
        "        knee_targ[self.supporting_leg] = self.supporting_knee_angle\n",
        "        if s[moving_s_base + 4]:\n",
        "            self.state = self.PUSH_OFF\n",
        "            self.supporting_knee_angle = min(s[moving_s_base + 2], self.SUPPORT_KNEE_ANGLE)\n",
        "    if self.state == self.PUSH_OFF:\n",
        "        knee_targ[self.moving_leg] = self.supporting_knee_angle\n",
        "        knee_targ[self.supporting_leg] = +1.0\n",
        "        if s[supporting_s_base + 2] > 0.88 or s[2] > 1.2 * self.SPEED:\n",
        "            self.state = self.STAY_ON_ONE_LEG\n",
        "            self.moving_leg = 1 - self.moving_leg\n",
        "            self.supporting_leg = 1 - self.moving_leg\n",
        "\n",
        "    if hip_targ[0]:\n",
        "        hip_todo[0] = 0.9 * (hip_targ[0] - s[4]) - 0.25 * s[5]\n",
        "    if hip_targ[1]:\n",
        "        hip_todo[1] = 0.9 * (hip_targ[1] - s[9]) - 0.25 * s[10]\n",
        "    if knee_targ[0]:\n",
        "        knee_todo[0] = 4.0 * (knee_targ[0] - s[6]) - 0.25 * s[7]\n",
        "    if knee_targ[1]:\n",
        "        knee_todo[1] = 4.0 * (knee_targ[1] - s[11]) - 0.25 * s[12]\n",
        "\n",
        "    hip_todo[0] -= 0.9 * (0 - s[0]) - 1.5 * s[1]  # PID to keep head strait\n",
        "    hip_todo[1] -= 0.9 * (0 - s[0]) - 1.5 * s[1]\n",
        "    knee_todo[0] -= 15.0 * s[3]  # vertical speed, to damp oscillations\n",
        "    knee_todo[1] -= 15.0 * s[3]\n",
        "\n",
        "    self.a[0] = hip_todo[0]\n",
        "    self.a[1] = knee_todo[0]\n",
        "    self.a[2] = hip_todo[1]\n",
        "    self.a[3] = knee_todo[1]\n",
        "    self.a = np.clip(0.5 * self.a, -1.0, 1.0)\n",
        "\n",
        "    return [self.a], None # make compatible with SB3 API"
      ]
    },
    {
      "cell_type": "markdown",
      "metadata": {
        "id": "bdggVKPT8A7A"
      },
      "source": [
        "👉 TODO: Call the record video function again, but with the above specified heuristic model. Pass the argument prefix=\"heuristics\" to the function."
      ]
    },
    {
      "cell_type": "code",
      "execution_count": null,
      "metadata": {
        "id": "BCq79VL55IX6"
      },
      "outputs": [],
      "source": [
        "# 👉 Your code here. (One line of code.)\n"
      ]
    },
    {
      "cell_type": "code",
      "execution_count": null,
      "metadata": {
        "id": "35wxmR1b8V0U"
      },
      "outputs": [],
      "source": [
        "show_videos(\"videos\", prefix=\"BipedalWalker-heuristics\")"
      ]
    },
    {
      "cell_type": "markdown",
      "metadata": {
        "id": "gdgQ2yKn8a3W"
      },
      "source": [
        "### Behavior Cloning (BC) 🤖"
      ]
    },
    {
      "cell_type": "markdown",
      "metadata": {
        "id": "XwhQk12S8g8y"
      },
      "source": [
        "Next we perform behavior cloning. This means we want to copy the above heuristics (the 'expert') into a neural network policy (the 'student'). This can be very useful if we want to warmstart a policy instead of learning from scratch.\n",
        "\n",
        "BC can be useful when some heuristic or model of the agent exists. By providing this knowledge to a policy that we subsequently train with DRL training can converge faster. On the other hand, a pre-training with a heuristic introduces a bias to our model and might lead to a suboptimal policy in the end.\n",
        "\n",
        "Note that the BC we are implementing here is very simplistic, and much more efficient approaches, such as [DAgger](https://imitation.readthedocs.io/en/latest/algorithms/bc.html#behavioral-cloning-bc) exist."
      ]
    },
    {
      "cell_type": "markdown",
      "metadata": {
        "id": "VAbRu2_V_Ng_"
      },
      "source": [
        "First, we collect interaction samples of the agent with the environment."
      ]
    },
    {
      "cell_type": "code",
      "execution_count": null,
      "metadata": {
        "id": "AFsICpUvI6o2"
      },
      "outputs": [],
      "source": [
        "num_interactions = 300_000\n",
        "expert_observations = np.empty((num_interactions,) + env.observation_space.shape)\n",
        "expert_actions = np.empty((num_interactions,) + (env.action_space.shape[0],))\n",
        "expert =  BipedalWalkerHeuristics()\n",
        "obs, _ = env.reset()\n",
        "for i in range(num_interactions):\n",
        "    action, _ = expert.predict([obs])\n",
        "    action = action[0]\n",
        "    expert_observations[i] = obs\n",
        "    expert_actions[i] = action\n",
        "    obs, rew, term, trunc, info = env.step(action)\n",
        "    # reset env every 250 interactions to gather more diverse data\n",
        "    if term or trunc or i % 250 == 0:\n",
        "        obs,_ = env.reset()\n",
        "    if (i+1) % 50_000 == 0:\n",
        "        print(f\"Collected {i} samples\")\n"
      ]
    },
    {
      "cell_type": "markdown",
      "metadata": {
        "id": "MQ1RxHr9_S-q"
      },
      "source": [
        "Next, we pack the samples in a Dataset and then in a DataLoader that can be used by pytorch for training a NN.\n",
        "\n",
        "👉 TODO: Time to refresh your DL knowledge! We already provide the ExpertDataSet Class. Your task is to create a dataset (from ExpertDataSet class) and a dataloader (from [torch.utils.data.DataLoader](https://pytorch.org/docs/stable/data.html)) that can be used to train a pytorch model! Use a batch_size of 128. You can look up the basics of Datasets and Dataloaders [here](https://pytorch.org/tutorials/beginner/basics/data_tutorial.html)."
      ]
    },
    {
      "cell_type": "code",
      "execution_count": null,
      "metadata": {
        "id": "-UZ4XQFHJm7b"
      },
      "outputs": [],
      "source": [
        "from torch.utils.data.dataset import Dataset\n",
        "import torch\n",
        "\n",
        "class ExpertDataSet(Dataset):\n",
        "    def __init__(self, expert_observations, expert_actions):\n",
        "        self.observations = expert_observations\n",
        "        self.actions = expert_actions\n",
        "\n",
        "    def __getitem__(self, index):\n",
        "        return (self.observations[index], self.actions[index])\n",
        "\n",
        "    def __len__(self):\n",
        "        return len(self.observations)\n",
        "\n",
        "# 👉 TODO: Your code here. Create a ExpertDataSet with the name \"expert_dataset\" and a\n",
        "# DataLoader with the name \"train_loader\".\n",
        "# 2-4 LOC\n",
        "\n",
        "\n"
      ]
    },
    {
      "cell_type": "markdown",
      "metadata": {
        "id": "r18dy0ZvBLli"
      },
      "source": [
        "👉 TODO: Implement a Pytorch Module called \"Student\" based on nn.Module. This will be our student policy. Use two hidden layers with 64 neurons each and torch.relu as activation function. As we try to mimic our heuristic from above, the student policy needs to have the same inputs and outputs as the heuristic. Input: the observations; output: the actions."
      ]
    },
    {
      "cell_type": "code",
      "execution_count": null,
      "metadata": {
        "id": "yC69BPd4J-Vf"
      },
      "outputs": [],
      "source": [
        "import torch as th\n",
        "import torch.nn as nn\n",
        "import torch.optim as optim\n",
        "from torch.optim.lr_scheduler import StepLR\n",
        "from torch import utils, Tensor\n",
        "\n",
        "class Student(nn.Module):\n",
        "    def __init__(self):\n",
        "        super().__init__()\n",
        "        # 👉 TODO: Implement NN architecture (~3 LOC)\n",
        "        \n",
        "\n",
        "\n",
        "        # END TODO\n",
        "        self.double() # make sure datatype is compatible\n",
        "\n",
        "    def forward(self, x):\n",
        "        # 👉 TODO: implement forward pass (~3 LOC)\n",
        "        \n",
        "\n",
        "        \n",
        "        # END TODO\n",
        "\n",
        "    def predict(self, x):\n",
        "      return self.forward(th.tensor(x).double()).detach().numpy(), None"
      ]
    },
    {
      "cell_type": "code",
      "execution_count": null,
      "metadata": {
        "id": "jYH-crcTCdzV"
      },
      "outputs": [],
      "source": [
        "student = Student()"
      ]
    },
    {
      "cell_type": "markdown",
      "metadata": {
        "id": "tqvH2gk1ClfP"
      },
      "source": [
        "Next, we implement the usual training routine for NNs.\n",
        "(Note that I recommend using [Pytorch Lightning](https://lightning.ai/docs/pytorch/stable/) to train your NN for you own projects. Here we use plain pytorch for transparency.)"
      ]
    },
    {
      "cell_type": "code",
      "execution_count": null,
      "metadata": {
        "id": "taFdn1pcMUbG"
      },
      "outputs": [],
      "source": [
        "def train_student(\n",
        "    student_policy,\n",
        "    train_loader,\n",
        "    epochs=10,\n",
        "    scheduler_gamma=0.7,\n",
        "    learning_rate=0.01,\n",
        "    log_interval=100,\n",
        "    seed=1,\n",
        "):\n",
        "    th.manual_seed(seed)\n",
        "    device = th.device(\"cuda\" if th.cuda.is_available() else \"cpu\")\n",
        "\n",
        "    criterion = nn.MSELoss()\n",
        "\n",
        "    model = student_policy.to(device)\n",
        "\n",
        "    def train(model, device, train_loader, optimizer):\n",
        "        model.train()\n",
        "\n",
        "        for batch_idx, (data, target) in enumerate(train_loader):\n",
        "            data, target = data.to(device), target.to(device)\n",
        "            optimizer.zero_grad()\n",
        "            action = model(data).double()\n",
        "            loss = criterion(action, target)\n",
        "            loss.backward()\n",
        "            optimizer.step()\n",
        "            if batch_idx % log_interval == 0:\n",
        "                print(\n",
        "                    \"Train Epoch: {} [{}/{} ({:.0f}%)]\\tLoss: {:.6f}\".format(\n",
        "                        epoch,\n",
        "                        batch_idx * len(data),\n",
        "                        len(train_loader.dataset),\n",
        "                        100.0 * batch_idx / len(train_loader),\n",
        "                        loss.item(),\n",
        "                    )\n",
        "                )\n",
        "\n",
        "    # Define an Optimizer and a learning rate schedule.\n",
        "    optimizer = optim.Adam(model.parameters(), lr=learning_rate)\n",
        "    scheduler = StepLR(optimizer, step_size=1, gamma=scheduler_gamma)\n",
        "\n",
        "    # Now we are finally ready to train the policy model.\n",
        "    for epoch in range(1, epochs + 1):\n",
        "        train(model, device, train_loader, optimizer)\n",
        "        scheduler.step()\n",
        "\n",
        "    return model"
      ]
    },
    {
      "cell_type": "code",
      "execution_count": null,
      "metadata": {
        "id": "n6Y5hITWzYlF"
      },
      "outputs": [],
      "source": [
        "student = train_student(\n",
        "    student,\n",
        "    train_loader\n",
        ")"
      ]
    },
    {
      "cell_type": "markdown",
      "metadata": {
        "id": "khajH4SsEOdL"
      },
      "source": [
        "We pretrained our student policy now using the aggregated data from the expert. Lets see how the student performs visually:"
      ]
    },
    {
      "cell_type": "code",
      "execution_count": null,
      "metadata": {
        "id": "W3vv_Zug0D79"
      },
      "outputs": [],
      "source": [
        "student.eval()\n",
        "student.cpu()\n",
        "record_video(student, prefix=\"student\")\n",
        "show_videos(\"videos\", prefix=\"student\")"
      ]
    },
    {
      "cell_type": "markdown",
      "metadata": {
        "id": "-PZ0ixRlEblh"
      },
      "source": [
        "Interestingly, for our case the student performs worse than the expert. Why might that be? We suspect there is one major reason. The heuristics is empirically designed and works only for a subspace of the state space. The student does not learn to generalize beyond that subspace. The slightest deviation from seen agent-environment interactions (or a not fully replicated heuristic by the student, i.e., a non-zero loss,) might degrate the performance drastically. We see that designing or replicating policies is not an easy task.\n",
        "\n",
        "P.S.: In that case there is a work around to make the agent walk with the student policy. 👉 VOLUNTARY TODO: change the interaction loop in the record_video() function so that the first 50 steps in the environment are taken by the _expert_, and all following by the _student_. (If it doesn't work on first try, run the video recording some more times. Depending on the random initialization of the env it doesn't work sometimes.)"
      ]
    },
    {
      "cell_type": "markdown",
      "metadata": {
        "id": "ihwbXDSNHOre"
      },
      "source": [
        "### Reinforcement Learning Agent 🤖\n",
        "\n",
        "We have seen how a suboptimal policy (for instance a heuristic) can be used to control an agent. We also saw how the behavior of this heuristic can be cloned into a NN.\n",
        "\n",
        "Finally, we train the agent from scratch using a DRL framework. Specifically, we will use the PPO implementation of SB3. PPO is a commonly used and robust framework, which is why we use it here. You don't need to worry about the details of PPO for now."
      ]
    },
    {
      "cell_type": "code",
      "execution_count": null,
      "metadata": {
        "id": "DHqYoZ373rar"
      },
      "outputs": [],
      "source": [
        "from stable_baselines3 import PPO\n",
        "\n",
        "# parameters partly taken from https://github.com/DLR-RM/rl-baselines3-zoo/blob/master/hyperparams/ppo.yml\n",
        "\n",
        "# init the PPO agent\n",
        "expert_ppo = PPO(\n",
        "  'MlpPolicy',\n",
        "  env_id,\n",
        "  verbose=1,\n",
        "  normalize_advantage= True,\n",
        "  batch_size= 256,\n",
        "  n_steps= 4000,\n",
        "  gamma= 0.999,\n",
        "  learning_rate= 3e-4,\n",
        "  ent_coef= 0.0,\n",
        "  clip_range= 0.18,\n",
        "  n_epochs= 10,\n",
        ")\n",
        "\n",
        "# Train the agent.\n",
        "# The 750_000 timesteps are probably a bit overpowered for that env, but we want to make sure it converges.\n",
        "# The training might take some time.\n",
        "expert_ppo.learn(total_timesteps=750_000)"
      ]
    },
    {
      "cell_type": "code",
      "execution_count": null,
      "metadata": {
        "id": "a2IEvzMq5nfj"
      },
      "outputs": [],
      "source": [
        "record_video(expert_ppo, video_length=500, prefix=\"BipedalWalker-ppo\")\n",
        "show_videos(\"videos\", prefix=\"BipedalWalker-ppo\")"
      ]
    },
    {
      "cell_type": "markdown",
      "metadata": {
        "id": "kAzde_lQtjl8"
      },
      "source": [
        "Heureka - your first trained DRL agent! 🤖"
      ]
    },
    {
      "cell_type": "markdown",
      "metadata": {
        "id": "7Y_Tpr1vJAYo"
      },
      "source": [
        "What could be done now is to use the trained _student_ from above to warmstart the training of the PPO agent. For this one can simply assign the _student_ to the _expert_ppo.policy.mlp_extractor.policy_net_ before starting the training. We will not conver this in this notebook, but you are free to play around with it."
      ]
    },
    {
      "cell_type": "code",
      "execution_count": null,
      "metadata": {
        "id": "PR3-fTRDJxQV"
      },
      "outputs": [],
      "source": [
        "# Warmstart the agent.\n",
        "# Note: in this case the training will fail due to data type mismatches.\n",
        "expert_ppo.policy.mlp_extractor.policy_net = student"
      ]
    },
    {
      "cell_type": "markdown",
      "metadata": {
        "id": "oSJu1IrRKO_Q"
      },
      "source": [
        "# HandsOn 1: Finished 🤖"
      ]
    },
    {
      "cell_type": "markdown",
      "metadata": {
        "id": "B3C2PWhVHfml"
      },
      "source": [
        "**How to submit this notebook:** After finishing the HandsOn on google colab, share the uploaded notebook (click share -> Anyone with link) and send the link with the <font color='red'>completed notebook and cell outputs</font> to the course supervisor oliver.hausdoerfer@tum.de. Include your name and student ID in this e-mail."
      ]
    },
    {
      "cell_type": "code",
      "execution_count": null,
      "metadata": {
        "id": "J5yYA-rCf6Ag"
      },
      "outputs": [],
      "source": []
    }
  ],
  "metadata": {
    "accelerator": "GPU",
    "colab": {
      "private_outputs": true,
      "provenance": []
    },
    "gpuClass": "standard",
    "kernelspec": {
      "display_name": "Python 3 (ipykernel)",
      "language": "python",
      "name": "python3"
    },
    "language_info": {
      "codemirror_mode": {
        "name": "ipython",
        "version": 3
      },
      "file_extension": ".py",
      "mimetype": "text/x-python",
      "name": "python",
      "nbconvert_exporter": "python",
      "pygments_lexer": "ipython3",
      "version": "3.12.2"
    },
    "vscode": {
      "interpreter": {
        "hash": "ed7f8024e43d3b8f5ca3c5e1a8151ab4d136b3ecee1e3fd59e0766ccc55e1b10"
      }
    }
  },
  "nbformat": 4,
  "nbformat_minor": 0
}
